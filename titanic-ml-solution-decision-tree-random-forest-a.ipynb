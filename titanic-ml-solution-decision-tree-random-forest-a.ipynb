{
 "cells": [
  {
   "cell_type": "markdown",
   "id": "9ba3ffc7",
   "metadata": {
    "papermill": {
     "duration": 0.014077,
     "end_time": "2022-11-19T10:48:18.310705",
     "exception": false,
     "start_time": "2022-11-19T10:48:18.296628",
     "status": "completed"
    },
    "tags": []
   },
   "source": [
    "# Import Packages and Data"
   ]
  },
  {
   "cell_type": "code",
   "execution_count": 1,
   "id": "b3da5eed",
   "metadata": {
    "execution": {
     "iopub.execute_input": "2022-11-19T10:48:18.341068Z",
     "iopub.status.busy": "2022-11-19T10:48:18.340001Z",
     "iopub.status.idle": "2022-11-19T10:48:18.352694Z",
     "shell.execute_reply": "2022-11-19T10:48:18.351825Z"
    },
    "papermill": {
     "duration": 0.031464,
     "end_time": "2022-11-19T10:48:18.355398",
     "exception": false,
     "start_time": "2022-11-19T10:48:18.323934",
     "status": "completed"
    },
    "tags": []
   },
   "outputs": [],
   "source": [
    "import numpy as np\n",
    "import pandas as pd\n",
    "import matplotlib.pyplot as plt\n"
   ]
  },
  {
   "cell_type": "code",
   "execution_count": 2,
   "id": "70eee756",
   "metadata": {
    "execution": {
     "iopub.execute_input": "2022-11-19T10:48:18.382587Z",
     "iopub.status.busy": "2022-11-19T10:48:18.381793Z",
     "iopub.status.idle": "2022-11-19T10:48:18.419950Z",
     "shell.execute_reply": "2022-11-19T10:48:18.418985Z"
    },
    "papermill": {
     "duration": 0.055013,
     "end_time": "2022-11-19T10:48:18.422561",
     "exception": false,
     "start_time": "2022-11-19T10:48:18.367548",
     "status": "completed"
    },
    "tags": []
   },
   "outputs": [],
   "source": [
    "train_df = pd.read_csv(\"../input/titanic/train.csv\")\n",
    "test_df = pd.read_csv(\"../input/titanic/test.csv\")\n",
    "test_df_y = pd.read_csv(\"../input/titanic/gender_submission.csv\")"
   ]
  },
  {
   "cell_type": "markdown",
   "id": "34302f1c",
   "metadata": {
    "papermill": {
     "duration": 0.012091,
     "end_time": "2022-11-19T10:48:18.447091",
     "exception": false,
     "start_time": "2022-11-19T10:48:18.435000",
     "status": "completed"
    },
    "tags": []
   },
   "source": [
    "We have loaded the training data in titatanic_train_df, test data without the dependent variable i.e. 'Survived' in titanic_test_df and the test data of the dependent varibale i.e. 'Survived' in titanic_train_df ."
   ]
  },
  {
   "cell_type": "code",
   "execution_count": 3,
   "id": "e55bb2f6",
   "metadata": {
    "execution": {
     "iopub.execute_input": "2022-11-19T10:48:18.473939Z",
     "iopub.status.busy": "2022-11-19T10:48:18.473126Z",
     "iopub.status.idle": "2022-11-19T10:48:18.505541Z",
     "shell.execute_reply": "2022-11-19T10:48:18.504215Z"
    },
    "papermill": {
     "duration": 0.049293,
     "end_time": "2022-11-19T10:48:18.508614",
     "exception": false,
     "start_time": "2022-11-19T10:48:18.459321",
     "status": "completed"
    },
    "tags": []
   },
   "outputs": [
    {
     "data": {
      "text/html": [
       "<div>\n",
       "<style scoped>\n",
       "    .dataframe tbody tr th:only-of-type {\n",
       "        vertical-align: middle;\n",
       "    }\n",
       "\n",
       "    .dataframe tbody tr th {\n",
       "        vertical-align: top;\n",
       "    }\n",
       "\n",
       "    .dataframe thead th {\n",
       "        text-align: right;\n",
       "    }\n",
       "</style>\n",
       "<table border=\"1\" class=\"dataframe\">\n",
       "  <thead>\n",
       "    <tr style=\"text-align: right;\">\n",
       "      <th></th>\n",
       "      <th>PassengerId</th>\n",
       "      <th>Survived</th>\n",
       "      <th>Pclass</th>\n",
       "      <th>Name</th>\n",
       "      <th>Sex</th>\n",
       "      <th>Age</th>\n",
       "      <th>SibSp</th>\n",
       "      <th>Parch</th>\n",
       "      <th>Ticket</th>\n",
       "      <th>Fare</th>\n",
       "      <th>Cabin</th>\n",
       "      <th>Embarked</th>\n",
       "    </tr>\n",
       "  </thead>\n",
       "  <tbody>\n",
       "    <tr>\n",
       "      <th>0</th>\n",
       "      <td>1</td>\n",
       "      <td>0</td>\n",
       "      <td>3</td>\n",
       "      <td>Braund, Mr. Owen Harris</td>\n",
       "      <td>male</td>\n",
       "      <td>22.0</td>\n",
       "      <td>1</td>\n",
       "      <td>0</td>\n",
       "      <td>A/5 21171</td>\n",
       "      <td>7.2500</td>\n",
       "      <td>NaN</td>\n",
       "      <td>S</td>\n",
       "    </tr>\n",
       "    <tr>\n",
       "      <th>1</th>\n",
       "      <td>2</td>\n",
       "      <td>1</td>\n",
       "      <td>1</td>\n",
       "      <td>Cumings, Mrs. John Bradley (Florence Briggs Th...</td>\n",
       "      <td>female</td>\n",
       "      <td>38.0</td>\n",
       "      <td>1</td>\n",
       "      <td>0</td>\n",
       "      <td>PC 17599</td>\n",
       "      <td>71.2833</td>\n",
       "      <td>C85</td>\n",
       "      <td>C</td>\n",
       "    </tr>\n",
       "    <tr>\n",
       "      <th>2</th>\n",
       "      <td>3</td>\n",
       "      <td>1</td>\n",
       "      <td>3</td>\n",
       "      <td>Heikkinen, Miss. Laina</td>\n",
       "      <td>female</td>\n",
       "      <td>26.0</td>\n",
       "      <td>0</td>\n",
       "      <td>0</td>\n",
       "      <td>STON/O2. 3101282</td>\n",
       "      <td>7.9250</td>\n",
       "      <td>NaN</td>\n",
       "      <td>S</td>\n",
       "    </tr>\n",
       "    <tr>\n",
       "      <th>3</th>\n",
       "      <td>4</td>\n",
       "      <td>1</td>\n",
       "      <td>1</td>\n",
       "      <td>Futrelle, Mrs. Jacques Heath (Lily May Peel)</td>\n",
       "      <td>female</td>\n",
       "      <td>35.0</td>\n",
       "      <td>1</td>\n",
       "      <td>0</td>\n",
       "      <td>113803</td>\n",
       "      <td>53.1000</td>\n",
       "      <td>C123</td>\n",
       "      <td>S</td>\n",
       "    </tr>\n",
       "    <tr>\n",
       "      <th>4</th>\n",
       "      <td>5</td>\n",
       "      <td>0</td>\n",
       "      <td>3</td>\n",
       "      <td>Allen, Mr. William Henry</td>\n",
       "      <td>male</td>\n",
       "      <td>35.0</td>\n",
       "      <td>0</td>\n",
       "      <td>0</td>\n",
       "      <td>373450</td>\n",
       "      <td>8.0500</td>\n",
       "      <td>NaN</td>\n",
       "      <td>S</td>\n",
       "    </tr>\n",
       "  </tbody>\n",
       "</table>\n",
       "</div>"
      ],
      "text/plain": [
       "   PassengerId  Survived  Pclass  \\\n",
       "0            1         0       3   \n",
       "1            2         1       1   \n",
       "2            3         1       3   \n",
       "3            4         1       1   \n",
       "4            5         0       3   \n",
       "\n",
       "                                                Name     Sex   Age  SibSp  \\\n",
       "0                            Braund, Mr. Owen Harris    male  22.0      1   \n",
       "1  Cumings, Mrs. John Bradley (Florence Briggs Th...  female  38.0      1   \n",
       "2                             Heikkinen, Miss. Laina  female  26.0      0   \n",
       "3       Futrelle, Mrs. Jacques Heath (Lily May Peel)  female  35.0      1   \n",
       "4                           Allen, Mr. William Henry    male  35.0      0   \n",
       "\n",
       "   Parch            Ticket     Fare Cabin Embarked  \n",
       "0      0         A/5 21171   7.2500   NaN        S  \n",
       "1      0          PC 17599  71.2833   C85        C  \n",
       "2      0  STON/O2. 3101282   7.9250   NaN        S  \n",
       "3      0            113803  53.1000  C123        S  \n",
       "4      0            373450   8.0500   NaN        S  "
      ]
     },
     "execution_count": 3,
     "metadata": {},
     "output_type": "execute_result"
    }
   ],
   "source": [
    "train_df.head()"
   ]
  },
  {
   "cell_type": "markdown",
   "id": "21bb88b8",
   "metadata": {
    "papermill": {
     "duration": 0.012033,
     "end_time": "2022-11-19T10:48:18.533955",
     "exception": false,
     "start_time": "2022-11-19T10:48:18.521922",
     "status": "completed"
    },
    "tags": []
   },
   "source": [
    "# Preprocessing of Data"
   ]
  },
  {
   "cell_type": "code",
   "execution_count": 4,
   "id": "38fcc214",
   "metadata": {
    "execution": {
     "iopub.execute_input": "2022-11-19T10:48:18.560409Z",
     "iopub.status.busy": "2022-11-19T10:48:18.560023Z",
     "iopub.status.idle": "2022-11-19T10:48:18.585320Z",
     "shell.execute_reply": "2022-11-19T10:48:18.583997Z"
    },
    "papermill": {
     "duration": 0.042337,
     "end_time": "2022-11-19T10:48:18.588537",
     "exception": false,
     "start_time": "2022-11-19T10:48:18.546200",
     "status": "completed"
    },
    "tags": []
   },
   "outputs": [
    {
     "name": "stdout",
     "output_type": "stream",
     "text": [
      "<class 'pandas.core.frame.DataFrame'>\n",
      "RangeIndex: 891 entries, 0 to 890\n",
      "Data columns (total 12 columns):\n",
      " #   Column       Non-Null Count  Dtype  \n",
      "---  ------       --------------  -----  \n",
      " 0   PassengerId  891 non-null    int64  \n",
      " 1   Survived     891 non-null    int64  \n",
      " 2   Pclass       891 non-null    int64  \n",
      " 3   Name         891 non-null    object \n",
      " 4   Sex          891 non-null    object \n",
      " 5   Age          714 non-null    float64\n",
      " 6   SibSp        891 non-null    int64  \n",
      " 7   Parch        891 non-null    int64  \n",
      " 8   Ticket       891 non-null    object \n",
      " 9   Fare         891 non-null    float64\n",
      " 10  Cabin        204 non-null    object \n",
      " 11  Embarked     889 non-null    object \n",
      "dtypes: float64(2), int64(5), object(5)\n",
      "memory usage: 83.7+ KB\n"
     ]
    }
   ],
   "source": [
    "train_df.info()"
   ]
  },
  {
   "cell_type": "markdown",
   "id": "cc6a2150",
   "metadata": {
    "papermill": {
     "duration": 0.015789,
     "end_time": "2022-11-19T10:48:18.617369",
     "exception": false,
     "start_time": "2022-11-19T10:48:18.601580",
     "status": "completed"
    },
    "tags": []
   },
   "source": [
    "We can see there are some missing values in the columns Age, Cabin and Embarked."
   ]
  },
  {
   "cell_type": "markdown",
   "id": "9a8df86e",
   "metadata": {
    "papermill": {
     "duration": 0.013425,
     "end_time": "2022-11-19T10:48:18.646441",
     "exception": false,
     "start_time": "2022-11-19T10:48:18.633016",
     "status": "completed"
    },
    "tags": []
   },
   "source": [
    "We can see the number of missing values for a particular column. We cannot say how much it is going to affect our prediction from the value itself. So we need to get the percentage of missing values out of total data available for the mentioned column."
   ]
  },
  {
   "cell_type": "code",
   "execution_count": 5,
   "id": "dd486584",
   "metadata": {
    "execution": {
     "iopub.execute_input": "2022-11-19T10:48:18.675118Z",
     "iopub.status.busy": "2022-11-19T10:48:18.674588Z",
     "iopub.status.idle": "2022-11-19T10:48:18.688816Z",
     "shell.execute_reply": "2022-11-19T10:48:18.686845Z"
    },
    "papermill": {
     "duration": 0.030948,
     "end_time": "2022-11-19T10:48:18.691788",
     "exception": false,
     "start_time": "2022-11-19T10:48:18.660840",
     "status": "completed"
    },
    "tags": []
   },
   "outputs": [
    {
     "data": {
      "text/plain": [
       "PassengerId     0.000000\n",
       "Survived        0.000000\n",
       "Pclass          0.000000\n",
       "Name            0.000000\n",
       "Sex             0.000000\n",
       "Age            19.865320\n",
       "SibSp           0.000000\n",
       "Parch           0.000000\n",
       "Ticket          0.000000\n",
       "Fare            0.000000\n",
       "Cabin          77.104377\n",
       "Embarked        0.224467\n",
       "dtype: float64"
      ]
     },
     "execution_count": 5,
     "metadata": {},
     "output_type": "execute_result"
    }
   ],
   "source": [
    "train_df.isnull().sum()/len(train_df)*100"
   ]
  },
  {
   "cell_type": "markdown",
   "id": "63a0f8fe",
   "metadata": {
    "papermill": {
     "duration": 0.012608,
     "end_time": "2022-11-19T10:48:18.717836",
     "exception": false,
     "start_time": "2022-11-19T10:48:18.705228",
     "status": "completed"
    },
    "tags": []
   },
   "source": [
    "we can see that for the column Age, the missing value is 19.87% which is a pretty big number. We need the age column to increase the prediction power. We can impute the missing values with median.\n",
    "Next we see that the Cabin with 77.10% missing values. So we are going to drop it. \n",
    "And finally we are going to drop the Embarked with 0.22% missing values. Though we can impute the missing values with the most frequent boarding points."
   ]
  },
  {
   "cell_type": "code",
   "execution_count": 6,
   "id": "3e64391d",
   "metadata": {
    "execution": {
     "iopub.execute_input": "2022-11-19T10:48:18.746663Z",
     "iopub.status.busy": "2022-11-19T10:48:18.746243Z",
     "iopub.status.idle": "2022-11-19T10:48:18.758591Z",
     "shell.execute_reply": "2022-11-19T10:48:18.757467Z"
    },
    "papermill": {
     "duration": 0.029902,
     "end_time": "2022-11-19T10:48:18.761165",
     "exception": false,
     "start_time": "2022-11-19T10:48:18.731263",
     "status": "completed"
    },
    "tags": []
   },
   "outputs": [],
   "source": [
    "train_df = train_df.dropna(subset=['Embarked'])\n",
    "test_df=test_df.dropna(subset=['Embarked'])"
   ]
  },
  {
   "cell_type": "code",
   "execution_count": 7,
   "id": "4e89f927",
   "metadata": {
    "execution": {
     "iopub.execute_input": "2022-11-19T10:48:18.789569Z",
     "iopub.status.busy": "2022-11-19T10:48:18.789163Z",
     "iopub.status.idle": "2022-11-19T10:48:18.798582Z",
     "shell.execute_reply": "2022-11-19T10:48:18.797422Z"
    },
    "papermill": {
     "duration": 0.026647,
     "end_time": "2022-11-19T10:48:18.801480",
     "exception": false,
     "start_time": "2022-11-19T10:48:18.774833",
     "status": "completed"
    },
    "tags": []
   },
   "outputs": [],
   "source": [
    "train_df[\"Age\"]=train_df[\"Age\"].fillna(train_df[\"Age\"].median())\n",
    "test_df[\"Age\"]=test_df[\"Age\"].fillna(test_df[\"Age\"].median())"
   ]
  },
  {
   "cell_type": "code",
   "execution_count": 8,
   "id": "3092990c",
   "metadata": {
    "execution": {
     "iopub.execute_input": "2022-11-19T10:48:18.830082Z",
     "iopub.status.busy": "2022-11-19T10:48:18.829597Z",
     "iopub.status.idle": "2022-11-19T10:48:18.837370Z",
     "shell.execute_reply": "2022-11-19T10:48:18.836079Z"
    },
    "papermill": {
     "duration": 0.024404,
     "end_time": "2022-11-19T10:48:18.839681",
     "exception": false,
     "start_time": "2022-11-19T10:48:18.815277",
     "status": "completed"
    },
    "tags": []
   },
   "outputs": [],
   "source": [
    "#as cabin is irrelevant we will drop it\n",
    "train_df.drop(columns=\"Cabin\",inplace=True)\n",
    "test_df.drop(columns=\"Cabin\",inplace=True)"
   ]
  },
  {
   "cell_type": "code",
   "execution_count": 9,
   "id": "9d5bed7b",
   "metadata": {
    "execution": {
     "iopub.execute_input": "2022-11-19T10:48:18.866763Z",
     "iopub.status.busy": "2022-11-19T10:48:18.866316Z",
     "iopub.status.idle": "2022-11-19T10:48:18.879015Z",
     "shell.execute_reply": "2022-11-19T10:48:18.878057Z"
    },
    "papermill": {
     "duration": 0.029137,
     "end_time": "2022-11-19T10:48:18.881375",
     "exception": false,
     "start_time": "2022-11-19T10:48:18.852238",
     "status": "completed"
    },
    "tags": []
   },
   "outputs": [],
   "source": [
    "#Convert the Sex column to 0 and 1\n",
    "\n",
    "varlist =  ['Sex']\n",
    "\n",
    "# Defining the map function\n",
    "def binary_map(x):\n",
    "    return x.map({\"male\": 1, \"female\": 0})\n",
    "\n",
    "# Applying the function to the housing list\n",
    "train_df[varlist] = train_df[varlist].apply(binary_map)\n",
    "test_df[varlist] = test_df[varlist].apply(binary_map)"
   ]
  },
  {
   "cell_type": "code",
   "execution_count": 10,
   "id": "762683eb",
   "metadata": {
    "execution": {
     "iopub.execute_input": "2022-11-19T10:48:18.909021Z",
     "iopub.status.busy": "2022-11-19T10:48:18.908555Z",
     "iopub.status.idle": "2022-11-19T10:48:18.918005Z",
     "shell.execute_reply": "2022-11-19T10:48:18.916670Z"
    },
    "papermill": {
     "duration": 0.025937,
     "end_time": "2022-11-19T10:48:18.920534",
     "exception": false,
     "start_time": "2022-11-19T10:48:18.894597",
     "status": "completed"
    },
    "tags": []
   },
   "outputs": [],
   "source": [
    "#We will replace the Embarked column with the following values\n",
    "\n",
    "train_df['Embarked'].replace({'S':0, 'C':1, 'Q':2}, inplace=True)\n",
    "test_df['Embarked'].replace({'S':0, 'C':1, 'Q':2}, inplace=True)"
   ]
  },
  {
   "cell_type": "code",
   "execution_count": 11,
   "id": "0d4da865",
   "metadata": {
    "execution": {
     "iopub.execute_input": "2022-11-19T10:48:18.948590Z",
     "iopub.status.busy": "2022-11-19T10:48:18.948136Z",
     "iopub.status.idle": "2022-11-19T10:48:18.959616Z",
     "shell.execute_reply": "2022-11-19T10:48:18.958435Z"
    },
    "papermill": {
     "duration": 0.028071,
     "end_time": "2022-11-19T10:48:18.962034",
     "exception": false,
     "start_time": "2022-11-19T10:48:18.933963",
     "status": "completed"
    },
    "tags": []
   },
   "outputs": [
    {
     "data": {
      "text/plain": [
       "PassengerId    0.000000\n",
       "Pclass         0.000000\n",
       "Name           0.000000\n",
       "Sex            0.000000\n",
       "Age            0.000000\n",
       "SibSp          0.000000\n",
       "Parch          0.000000\n",
       "Ticket         0.000000\n",
       "Fare           0.239234\n",
       "Embarked       0.000000\n",
       "dtype: float64"
      ]
     },
     "execution_count": 11,
     "metadata": {},
     "output_type": "execute_result"
    }
   ],
   "source": [
    "test_df.isnull().sum()/len(test_df)*100"
   ]
  },
  {
   "cell_type": "markdown",
   "id": "ef62e717",
   "metadata": {
    "papermill": {
     "duration": 0.012307,
     "end_time": "2022-11-19T10:48:18.987451",
     "exception": false,
     "start_time": "2022-11-19T10:48:18.975144",
     "status": "completed"
    },
    "tags": []
   },
   "source": [
    "We can see there is a missing value in the Fare column for the test data. We will impute the same with zero."
   ]
  },
  {
   "cell_type": "code",
   "execution_count": 12,
   "id": "99b83578",
   "metadata": {
    "execution": {
     "iopub.execute_input": "2022-11-19T10:48:19.014601Z",
     "iopub.status.busy": "2022-11-19T10:48:19.014186Z",
     "iopub.status.idle": "2022-11-19T10:48:19.019925Z",
     "shell.execute_reply": "2022-11-19T10:48:19.019039Z"
    },
    "papermill": {
     "duration": 0.022049,
     "end_time": "2022-11-19T10:48:19.022123",
     "exception": false,
     "start_time": "2022-11-19T10:48:19.000074",
     "status": "completed"
    },
    "tags": []
   },
   "outputs": [],
   "source": [
    "test_df[\"Fare\"]=test_df[\"Fare\"].fillna(test_df[\"Fare\"].mean())"
   ]
  },
  {
   "cell_type": "code",
   "execution_count": 13,
   "id": "7fdf47c4",
   "metadata": {
    "execution": {
     "iopub.execute_input": "2022-11-19T10:48:19.050008Z",
     "iopub.status.busy": "2022-11-19T10:48:19.049550Z",
     "iopub.status.idle": "2022-11-19T10:48:19.058906Z",
     "shell.execute_reply": "2022-11-19T10:48:19.057955Z"
    },
    "papermill": {
     "duration": 0.025794,
     "end_time": "2022-11-19T10:48:19.061018",
     "exception": false,
     "start_time": "2022-11-19T10:48:19.035224",
     "status": "completed"
    },
    "tags": []
   },
   "outputs": [
    {
     "data": {
      "text/plain": [
       "PassengerId    0\n",
       "Pclass         0\n",
       "Name           0\n",
       "Sex            0\n",
       "Age            0\n",
       "SibSp          0\n",
       "Parch          0\n",
       "Ticket         0\n",
       "Fare           0\n",
       "Embarked       0\n",
       "dtype: int64"
      ]
     },
     "execution_count": 13,
     "metadata": {},
     "output_type": "execute_result"
    }
   ],
   "source": [
    "# Now Let's see the test data inf\n",
    "test_df.isnull().sum()"
   ]
  },
  {
   "cell_type": "code",
   "execution_count": 14,
   "id": "e8f6bd9b",
   "metadata": {
    "execution": {
     "iopub.execute_input": "2022-11-19T10:48:19.088456Z",
     "iopub.status.busy": "2022-11-19T10:48:19.088071Z",
     "iopub.status.idle": "2022-11-19T10:48:19.097476Z",
     "shell.execute_reply": "2022-11-19T10:48:19.096663Z"
    },
    "papermill": {
     "duration": 0.025983,
     "end_time": "2022-11-19T10:48:19.099758",
     "exception": false,
     "start_time": "2022-11-19T10:48:19.073775",
     "status": "completed"
    },
    "tags": []
   },
   "outputs": [
    {
     "data": {
      "text/plain": [
       "PassengerId    0\n",
       "Survived       0\n",
       "Pclass         0\n",
       "Name           0\n",
       "Sex            0\n",
       "Age            0\n",
       "SibSp          0\n",
       "Parch          0\n",
       "Ticket         0\n",
       "Fare           0\n",
       "Embarked       0\n",
       "dtype: int64"
      ]
     },
     "execution_count": 14,
     "metadata": {},
     "output_type": "execute_result"
    }
   ],
   "source": [
    "train_df.isnull().sum()"
   ]
  },
  {
   "cell_type": "markdown",
   "id": "3a1c8285",
   "metadata": {
    "papermill": {
     "duration": 0.012426,
     "end_time": "2022-11-19T10:48:19.125491",
     "exception": false,
     "start_time": "2022-11-19T10:48:19.113065",
     "status": "completed"
    },
    "tags": []
   },
   "source": [
    "# Feature Selection"
   ]
  },
  {
   "cell_type": "markdown",
   "id": "30ea130f",
   "metadata": {
    "papermill": {
     "duration": 0.012637,
     "end_time": "2022-11-19T10:48:19.150915",
     "exception": false,
     "start_time": "2022-11-19T10:48:19.138278",
     "status": "completed"
    },
    "tags": []
   },
   "source": [
    "We will use the following features 'Pclass','Sex','Fare','Parch','Cabin','Embarked' and 'SibSp' for building the model and our dependent variable is 'Survived'. "
   ]
  },
  {
   "cell_type": "code",
   "execution_count": 15,
   "id": "ba1472ad",
   "metadata": {
    "execution": {
     "iopub.execute_input": "2022-11-19T10:48:19.178436Z",
     "iopub.status.busy": "2022-11-19T10:48:19.177989Z",
     "iopub.status.idle": "2022-11-19T10:48:19.187161Z",
     "shell.execute_reply": "2022-11-19T10:48:19.186114Z"
    },
    "papermill": {
     "duration": 0.025592,
     "end_time": "2022-11-19T10:48:19.189376",
     "exception": false,
     "start_time": "2022-11-19T10:48:19.163784",
     "status": "completed"
    },
    "tags": []
   },
   "outputs": [],
   "source": [
    "feature_column = ['Pclass','Sex','Age','Fare','Parch','Embarked','SibSp']\n",
    "X_train = train_df[feature_column]\n",
    "y_train = train_df['Survived']\n",
    "\n",
    "X_test = test_df[feature_column]\n",
    "y_test = test_df_y['Survived']"
   ]
  },
  {
   "cell_type": "markdown",
   "id": "09d7ce56",
   "metadata": {
    "papermill": {
     "duration": 0.012862,
     "end_time": "2022-11-19T10:48:19.216011",
     "exception": false,
     "start_time": "2022-11-19T10:48:19.203149",
     "status": "completed"
    },
    "tags": []
   },
   "source": [
    "# Build and Train Model"
   ]
  },
  {
   "cell_type": "markdown",
   "id": "4d6a91cc",
   "metadata": {
    "papermill": {
     "duration": 0.012473,
     "end_time": "2022-11-19T10:48:19.241380",
     "exception": false,
     "start_time": "2022-11-19T10:48:19.228907",
     "status": "completed"
    },
    "tags": []
   },
   "source": [
    "### Using Decision Trees"
   ]
  },
  {
   "cell_type": "code",
   "execution_count": 16,
   "id": "3a60161e",
   "metadata": {
    "execution": {
     "iopub.execute_input": "2022-11-19T10:48:19.269291Z",
     "iopub.status.busy": "2022-11-19T10:48:19.268835Z",
     "iopub.status.idle": "2022-11-19T10:48:20.425229Z",
     "shell.execute_reply": "2022-11-19T10:48:20.423426Z"
    },
    "papermill": {
     "duration": 1.173828,
     "end_time": "2022-11-19T10:48:20.428147",
     "exception": false,
     "start_time": "2022-11-19T10:48:19.254319",
     "status": "completed"
    },
    "tags": []
   },
   "outputs": [
    {
     "name": "stdout",
     "output_type": "stream",
     "text": [
      "              precision    recall  f1-score   support\n",
      "\n",
      "           0       0.95      0.98      0.96       266\n",
      "           1       0.96      0.91      0.94       152\n",
      "\n",
      "    accuracy                           0.95       418\n",
      "   macro avg       0.96      0.95      0.95       418\n",
      "weighted avg       0.95      0.95      0.95       418\n",
      "\n"
     ]
    }
   ],
   "source": [
    "from sklearn import tree\n",
    "from sklearn.tree import DecisionTreeClassifier\n",
    "from sklearn.metrics import classification_report\n",
    "dt = DecisionTreeClassifier(random_state=42, max_depth=4)\n",
    "\n",
    "dt.fit(X_train, y_train)\n",
    "\n",
    "y_train_pred = dt.predict(X_train)\n",
    "y_test_pred = dt.predict(X_test)\n",
    "\n",
    "print(classification_report(y_test, y_test_pred))"
   ]
  },
  {
   "cell_type": "markdown",
   "id": "764406e3",
   "metadata": {
    "papermill": {
     "duration": 0.01301,
     "end_time": "2022-11-19T10:48:20.454626",
     "exception": false,
     "start_time": "2022-11-19T10:48:20.441616",
     "status": "completed"
    },
    "tags": []
   },
   "source": [
    "#### Plot the ROC curve"
   ]
  },
  {
   "cell_type": "code",
   "execution_count": 17,
   "id": "dc0e6985",
   "metadata": {
    "execution": {
     "iopub.execute_input": "2022-11-19T10:48:20.483304Z",
     "iopub.status.busy": "2022-11-19T10:48:20.482585Z",
     "iopub.status.idle": "2022-11-19T10:48:20.693482Z",
     "shell.execute_reply": "2022-11-19T10:48:20.691981Z"
    },
    "papermill": {
     "duration": 0.228272,
     "end_time": "2022-11-19T10:48:20.695950",
     "exception": false,
     "start_time": "2022-11-19T10:48:20.467678",
     "status": "completed"
    },
    "tags": []
   },
   "outputs": [
    {
     "name": "stderr",
     "output_type": "stream",
     "text": [
      "/opt/conda/lib/python3.7/site-packages/sklearn/utils/deprecation.py:87: FutureWarning: Function plot_roc_curve is deprecated; Function :func:`plot_roc_curve` is deprecated in 1.0 and will be removed in 1.2. Use one of the class methods: :meth:`sklearn.metric.RocCurveDisplay.from_predictions` or :meth:`sklearn.metric.RocCurveDisplay.from_estimator`.\n",
      "  warnings.warn(msg, category=FutureWarning)\n"
     ]
    },
    {
     "data": {
      "image/png": "[encoded data removed]",
      "text/plain": [
       "<Figure size 432x288 with 1 Axes>"
      ]
     },
     "metadata": {
      "needs_background": "light"
     },
     "output_type": "display_data"
    }
   ],
   "source": [
    "from sklearn.metrics import plot_roc_curve\n",
    "plot_roc_curve(dt, X_train, y_train, drop_intermediate=False)\n",
    "plt.show()"
   ]
  },
  {
   "cell_type": "markdown",
   "id": "74e7f720",
   "metadata": {
    "papermill": {
     "duration": 0.013119,
     "end_time": "2022-11-19T10:48:20.723260",
     "exception": false,
     "start_time": "2022-11-19T10:48:20.710141",
     "status": "completed"
    },
    "tags": []
   },
   "source": [
    "#### Hyper-parameter tuning for the Decision Tree"
   ]
  },
  {
   "cell_type": "code",
   "execution_count": 18,
   "id": "8f5172ba",
   "metadata": {
    "execution": {
     "iopub.execute_input": "2022-11-19T10:48:20.751844Z",
     "iopub.status.busy": "2022-11-19T10:48:20.751425Z",
     "iopub.status.idle": "2022-11-19T10:48:20.758485Z",
     "shell.execute_reply": "2022-11-19T10:48:20.757605Z"
    },
    "papermill": {
     "duration": 0.024281,
     "end_time": "2022-11-19T10:48:20.761008",
     "exception": false,
     "start_time": "2022-11-19T10:48:20.736727",
     "status": "completed"
    },
    "tags": []
   },
   "outputs": [],
   "source": [
    "from sklearn.model_selection import GridSearchCV\n",
    "dt1= DecisionTreeClassifier(random_state=42)\n",
    "\n",
    "params = {\"max_depth\": [2,3,5,10,20],\"min_samples_leaf\": [5,10,20,50,100,500]}\n",
    "\n",
    "grid_search = GridSearchCV(estimator=dt1,param_grid=params,cv=4,n_jobs=-1, verbose=1, scoring=\"accuracy\")\n",
    "\n"
   ]
  },
  {
   "cell_type": "code",
   "execution_count": 19,
   "id": "6faddf4c",
   "metadata": {
    "execution": {
     "iopub.execute_input": "2022-11-19T10:48:20.790425Z",
     "iopub.status.busy": "2022-11-19T10:48:20.789982Z",
     "iopub.status.idle": "2022-11-19T10:48:23.124303Z",
     "shell.execute_reply": "2022-11-19T10:48:23.122914Z"
    },
    "papermill": {
     "duration": 2.352683,
     "end_time": "2022-11-19T10:48:23.127842",
     "exception": false,
     "start_time": "2022-11-19T10:48:20.775159",
     "status": "completed"
    },
    "tags": []
   },
   "outputs": [
    {
     "name": "stdout",
     "output_type": "stream",
     "text": [
      "Fitting 4 folds for each of 30 candidates, totalling 120 fits\n"
     ]
    },
    {
     "name": "stderr",
     "output_type": "stream",
     "text": [
      "/opt/conda/lib/python3.7/site-packages/sklearn/utils/deprecation.py:87: FutureWarning: Function plot_roc_curve is deprecated; Function :func:`plot_roc_curve` is deprecated in 1.0 and will be removed in 1.2. Use one of the class methods: :meth:`sklearn.metric.RocCurveDisplay.from_predictions` or :meth:`sklearn.metric.RocCurveDisplay.from_estimator`.\n",
      "  warnings.warn(msg, category=FutureWarning)\n"
     ]
    },
    {
     "data": {
      "image/png": "[encoded data removed]",
      "text/plain": [
       "<Figure size 432x288 with 1 Axes>"
      ]
     },
     "metadata": {
      "needs_background": "light"
     },
     "output_type": "display_data"
    },
    {
     "name": "stdout",
     "output_type": "stream",
     "text": [
      "CPU times: user 691 ms, sys: 310 ms, total: 1 s\n",
      "Wall time: 2.33 s\n"
     ]
    }
   ],
   "source": [
    "%%time\n",
    "grid_search.fit(X_train, y_train)\n",
    "\n",
    "grid_search.best_score_\n",
    "\n",
    "dt_best = grid_search.best_estimator_\n",
    "dt_best\n",
    "\n",
    "plot_roc_curve(dt_best, X_train, y_train)\n",
    "plt.show()"
   ]
  },
  {
   "cell_type": "code",
   "execution_count": 20,
   "id": "20d9e261",
   "metadata": {
    "execution": {
     "iopub.execute_input": "2022-11-19T10:48:23.160336Z",
     "iopub.status.busy": "2022-11-19T10:48:23.159849Z",
     "iopub.status.idle": "2022-11-19T10:48:23.169461Z",
     "shell.execute_reply": "2022-11-19T10:48:23.168155Z"
    },
    "papermill": {
     "duration": 0.02938,
     "end_time": "2022-11-19T10:48:23.172744",
     "exception": false,
     "start_time": "2022-11-19T10:48:23.143364",
     "status": "completed"
    },
    "tags": []
   },
   "outputs": [
    {
     "name": "stdout",
     "output_type": "stream",
     "text": [
      "Accuracy of Decision Tree on the testing dataset is :0.864\n"
     ]
    }
   ],
   "source": [
    "print('Accuracy of Decision Tree on the testing dataset is :{:.3f}'.format(dt_best.score(X_test,y_test)))"
   ]
  },
  {
   "cell_type": "markdown",
   "id": "8e41d13b",
   "metadata": {
    "papermill": {
     "duration": 0.013885,
     "end_time": "2022-11-19T10:48:23.201226",
     "exception": false,
     "start_time": "2022-11-19T10:48:23.187341",
     "status": "completed"
    },
    "tags": []
   },
   "source": [
    "### Using RandomForest"
   ]
  },
  {
   "cell_type": "code",
   "execution_count": 21,
   "id": "588b76d1",
   "metadata": {
    "execution": {
     "iopub.execute_input": "2022-11-19T10:48:23.231402Z",
     "iopub.status.busy": "2022-11-19T10:48:23.230999Z",
     "iopub.status.idle": "2022-11-19T10:48:23.298965Z",
     "shell.execute_reply": "2022-11-19T10:48:23.297766Z"
    },
    "papermill": {
     "duration": 0.086497,
     "end_time": "2022-11-19T10:48:23.301867",
     "exception": false,
     "start_time": "2022-11-19T10:48:23.215370",
     "status": "completed"
    },
    "tags": []
   },
   "outputs": [],
   "source": [
    "from sklearn.ensemble import RandomForestClassifier\n",
    "rf = RandomForestClassifier(n_estimators=10, max_depth=4, max_features=5, random_state=42)"
   ]
  },
  {
   "cell_type": "code",
   "execution_count": 22,
   "id": "1dabe662",
   "metadata": {
    "execution": {
     "iopub.execute_input": "2022-11-19T10:48:23.334242Z",
     "iopub.status.busy": "2022-11-19T10:48:23.333838Z",
     "iopub.status.idle": "2022-11-19T10:48:23.586585Z",
     "shell.execute_reply": "2022-11-19T10:48:23.585094Z"
    },
    "papermill": {
     "duration": 0.273759,
     "end_time": "2022-11-19T10:48:23.589975",
     "exception": false,
     "start_time": "2022-11-19T10:48:23.316216",
     "status": "completed"
    },
    "tags": []
   },
   "outputs": [
    {
     "name": "stderr",
     "output_type": "stream",
     "text": [
      "/opt/conda/lib/python3.7/site-packages/sklearn/utils/deprecation.py:87: FutureWarning: Function plot_roc_curve is deprecated; Function :func:`plot_roc_curve` is deprecated in 1.0 and will be removed in 1.2. Use one of the class methods: :meth:`sklearn.metric.RocCurveDisplay.from_predictions` or :meth:`sklearn.metric.RocCurveDisplay.from_estimator`.\n",
      "  warnings.warn(msg, category=FutureWarning)\n"
     ]
    },
    {
     "data": {
      "image/png": "[encoded data removed]",
      "text/plain": [
       "<Figure size 432x288 with 1 Axes>"
      ]
     },
     "metadata": {
      "needs_background": "light"
     },
     "output_type": "display_data"
    },
    {
     "name": "stdout",
     "output_type": "stream",
     "text": [
      "CPU times: user 323 ms, sys: 167 ms, total: 490 ms\n",
      "Wall time: 246 ms\n"
     ]
    }
   ],
   "source": [
    "%%time\n",
    "rf.fit(X_train, y_train)\n",
    "plot_roc_curve(rf, X_train, y_train)\n",
    "plt.show()"
   ]
  },
  {
   "cell_type": "markdown",
   "id": "79ce4975",
   "metadata": {
    "papermill": {
     "duration": 0.014201,
     "end_time": "2022-11-19T10:48:23.618743",
     "exception": false,
     "start_time": "2022-11-19T10:48:23.604542",
     "status": "completed"
    },
    "tags": []
   },
   "source": [
    "#### Hyper-parameter tuning for the Random Forest"
   ]
  },
  {
   "cell_type": "code",
   "execution_count": 23,
   "id": "ded36781",
   "metadata": {
    "execution": {
     "iopub.execute_input": "2022-11-19T10:48:23.650139Z",
     "iopub.status.busy": "2022-11-19T10:48:23.649673Z",
     "iopub.status.idle": "2022-11-19T10:48:23.656641Z",
     "shell.execute_reply": "2022-11-19T10:48:23.655270Z"
    },
    "papermill": {
     "duration": 0.025704,
     "end_time": "2022-11-19T10:48:23.659090",
     "exception": false,
     "start_time": "2022-11-19T10:48:23.633386",
     "status": "completed"
    },
    "tags": []
   },
   "outputs": [],
   "source": [
    "rf = RandomForestClassifier(random_state=42, n_jobs=-1)\n",
    "\n",
    "params = {'max_depth': [2,3,5,10,20],'min_samples_leaf': [5,10,20,50,100,200],'n_estimators': [10, 25, 50, 100]}\n",
    "grid_search = GridSearchCV(estimator=rf,param_grid=params,cv = 4,n_jobs=-1, verbose=1, scoring=\"accuracy\")"
   ]
  },
  {
   "cell_type": "code",
   "execution_count": 24,
   "id": "519e97e8",
   "metadata": {
    "execution": {
     "iopub.execute_input": "2022-11-19T10:48:23.691526Z",
     "iopub.status.busy": "2022-11-19T10:48:23.691084Z",
     "iopub.status.idle": "2022-11-19T10:49:00.617691Z",
     "shell.execute_reply": "2022-11-19T10:49:00.616376Z"
    },
    "papermill": {
     "duration": 36.946753,
     "end_time": "2022-11-19T10:49:00.620931",
     "exception": false,
     "start_time": "2022-11-19T10:48:23.674178",
     "status": "completed"
    },
    "tags": []
   },
   "outputs": [
    {
     "name": "stdout",
     "output_type": "stream",
     "text": [
      "Fitting 4 folds for each of 120 candidates, totalling 480 fits\n"
     ]
    },
    {
     "name": "stderr",
     "output_type": "stream",
     "text": [
      "/opt/conda/lib/python3.7/site-packages/sklearn/utils/deprecation.py:87: FutureWarning: Function plot_roc_curve is deprecated; Function :func:`plot_roc_curve` is deprecated in 1.0 and will be removed in 1.2. Use one of the class methods: :meth:`sklearn.metric.RocCurveDisplay.from_predictions` or :meth:`sklearn.metric.RocCurveDisplay.from_estimator`.\n",
      "  warnings.warn(msg, category=FutureWarning)\n"
     ]
    },
    {
     "data": {
      "image/png": "[encoded data removed]",
      "text/plain": [
       "<Figure size 432x288 with 1 Axes>"
      ]
     },
     "metadata": {
      "needs_background": "light"
     },
     "output_type": "display_data"
    },
    {
     "name": "stdout",
     "output_type": "stream",
     "text": [
      "CPU times: user 3.05 s, sys: 305 ms, total: 3.35 s\n",
      "Wall time: 36.9 s\n"
     ]
    }
   ],
   "source": [
    "%%time\n",
    "grid_search.fit(X_train, y_train)\n",
    "\n",
    "grid_search.best_score_\n",
    "\n",
    "rf_best = grid_search.best_estimator_\n",
    "rf_best\n",
    "\n",
    "plot_roc_curve(rf_best, X_train, y_train)\n",
    "plt.show()"
   ]
  },
  {
   "cell_type": "code",
   "execution_count": 25,
   "id": "ee0b375c",
   "metadata": {
    "execution": {
     "iopub.execute_input": "2022-11-19T10:49:00.654722Z",
     "iopub.status.busy": "2022-11-19T10:49:00.653494Z",
     "iopub.status.idle": "2022-11-19T10:49:00.875225Z",
     "shell.execute_reply": "2022-11-19T10:49:00.873937Z"
    },
    "papermill": {
     "duration": 0.240929,
     "end_time": "2022-11-19T10:49:00.877845",
     "exception": false,
     "start_time": "2022-11-19T10:49:00.636916",
     "status": "completed"
    },
    "tags": []
   },
   "outputs": [
    {
     "data": {
      "text/html": [
       "<div>\n",
       "<style scoped>\n",
       "    .dataframe tbody tr th:only-of-type {\n",
       "        vertical-align: middle;\n",
       "    }\n",
       "\n",
       "    .dataframe tbody tr th {\n",
       "        vertical-align: top;\n",
       "    }\n",
       "\n",
       "    .dataframe thead th {\n",
       "        text-align: right;\n",
       "    }\n",
       "</style>\n",
       "<table border=\"1\" class=\"dataframe\">\n",
       "  <thead>\n",
       "    <tr style=\"text-align: right;\">\n",
       "      <th></th>\n",
       "      <th>Varname</th>\n",
       "      <th>Imp</th>\n",
       "    </tr>\n",
       "  </thead>\n",
       "  <tbody>\n",
       "    <tr>\n",
       "      <th>1</th>\n",
       "      <td>Sex</td>\n",
       "      <td>0.462064</td>\n",
       "    </tr>\n",
       "    <tr>\n",
       "      <th>0</th>\n",
       "      <td>Pclass</td>\n",
       "      <td>0.168054</td>\n",
       "    </tr>\n",
       "    <tr>\n",
       "      <th>3</th>\n",
       "      <td>Fare</td>\n",
       "      <td>0.165298</td>\n",
       "    </tr>\n",
       "    <tr>\n",
       "      <th>2</th>\n",
       "      <td>Age</td>\n",
       "      <td>0.096128</td>\n",
       "    </tr>\n",
       "    <tr>\n",
       "      <th>6</th>\n",
       "      <td>SibSp</td>\n",
       "      <td>0.044946</td>\n",
       "    </tr>\n",
       "    <tr>\n",
       "      <th>4</th>\n",
       "      <td>Parch</td>\n",
       "      <td>0.032206</td>\n",
       "    </tr>\n",
       "    <tr>\n",
       "      <th>5</th>\n",
       "      <td>Embarked</td>\n",
       "      <td>0.031303</td>\n",
       "    </tr>\n",
       "  </tbody>\n",
       "</table>\n",
       "</div>"
      ],
      "text/plain": [
       "    Varname       Imp\n",
       "1       Sex  0.462064\n",
       "0    Pclass  0.168054\n",
       "3      Fare  0.165298\n",
       "2       Age  0.096128\n",
       "6     SibSp  0.044946\n",
       "4     Parch  0.032206\n",
       "5  Embarked  0.031303"
      ]
     },
     "execution_count": 25,
     "metadata": {},
     "output_type": "execute_result"
    }
   ],
   "source": [
    "# Let's see the features by importance\n",
    "\n",
    "rf_best.feature_importances_\n",
    "\n",
    "imp_df = pd.DataFrame({\n",
    "    \"Varname\": X_train.columns,\n",
    "    \"Imp\": rf_best.feature_importances_\n",
    "})\n",
    "\n",
    "imp_df.sort_values(by=\"Imp\", ascending=False)"
   ]
  },
  {
   "cell_type": "code",
   "execution_count": 26,
   "id": "5129b7e2",
   "metadata": {
    "execution": {
     "iopub.execute_input": "2022-11-19T10:49:00.911207Z",
     "iopub.status.busy": "2022-11-19T10:49:00.910795Z",
     "iopub.status.idle": "2022-11-19T10:49:01.023129Z",
     "shell.execute_reply": "2022-11-19T10:49:01.021522Z"
    },
    "papermill": {
     "duration": 0.132423,
     "end_time": "2022-11-19T10:49:01.025721",
     "exception": false,
     "start_time": "2022-11-19T10:49:00.893298",
     "status": "completed"
    },
    "tags": []
   },
   "outputs": [
    {
     "name": "stdout",
     "output_type": "stream",
     "text": [
      "Accuracy of Random Forest on the testing dataset is :0.902\n"
     ]
    }
   ],
   "source": [
    "print('Accuracy of Random Forest on the testing dataset is :{:.3f}'.format(rf_best.score(X_test,y_test)))"
   ]
  },
  {
   "cell_type": "markdown",
   "id": "97c939e2",
   "metadata": {
    "papermill": {
     "duration": 0.014976,
     "end_time": "2022-11-19T10:49:01.056123",
     "exception": false,
     "start_time": "2022-11-19T10:49:01.041147",
     "status": "completed"
    },
    "tags": []
   },
   "source": [
    "### Using XGBoost"
   ]
  },
  {
   "cell_type": "code",
   "execution_count": 27,
   "id": "13348f4f",
   "metadata": {
    "execution": {
     "iopub.execute_input": "2022-11-19T10:49:01.089498Z",
     "iopub.status.busy": "2022-11-19T10:49:01.089030Z",
     "iopub.status.idle": "2022-11-19T10:49:01.559181Z",
     "shell.execute_reply": "2022-11-19T10:49:01.558135Z"
    },
    "papermill": {
     "duration": 0.489519,
     "end_time": "2022-11-19T10:49:01.561655",
     "exception": false,
     "start_time": "2022-11-19T10:49:01.072136",
     "status": "completed"
    },
    "tags": []
   },
   "outputs": [
    {
     "data": {
      "text/plain": [
       "XGBClassifier(base_score=0.5, booster='gbtree', callbacks=None,\n",
       "              colsample_bylevel=1, colsample_bynode=1, colsample_bytree=1,\n",
       "              early_stopping_rounds=None, enable_categorical=False,\n",
       "              eval_metric=None, gamma=0, gpu_id=-1, grow_policy='depthwise',\n",
       "              importance_type=None, interaction_constraints='',\n",
       "              learning_rate=0.300000012, max_bin=256, max_cat_to_onehot=4,\n",
       "              max_delta_step=0, max_depth=6, max_leaves=0, min_child_weight=1,\n",
       "              missing=nan, monotone_constraints='()', n_estimators=100,\n",
       "              n_jobs=0, num_parallel_tree=1, predictor='auto', random_state=0,\n",
       "              reg_alpha=0, reg_lambda=1, ...)"
      ]
     },
     "execution_count": 27,
     "metadata": {},
     "output_type": "execute_result"
    }
   ],
   "source": [
    "from xgboost import XGBClassifier\n",
    "xgb_base = XGBClassifier()\n",
    "xgb_base.fit(X_train, y_train)"
   ]
  },
  {
   "cell_type": "code",
   "execution_count": 28,
   "id": "453e08c8",
   "metadata": {
    "execution": {
     "iopub.execute_input": "2022-11-19T10:49:01.595493Z",
     "iopub.status.busy": "2022-11-19T10:49:01.595048Z",
     "iopub.status.idle": "2022-11-19T10:49:01.619572Z",
     "shell.execute_reply": "2022-11-19T10:49:01.618451Z"
    },
    "papermill": {
     "duration": 0.044572,
     "end_time": "2022-11-19T10:49:01.622398",
     "exception": false,
     "start_time": "2022-11-19T10:49:01.577826",
     "status": "completed"
    },
    "tags": []
   },
   "outputs": [
    {
     "name": "stdout",
     "output_type": "stream",
     "text": [
      "              precision    recall  f1-score   support\n",
      "\n",
      "           0       0.87      0.83      0.85       266\n",
      "           1       0.72      0.78      0.75       152\n",
      "\n",
      "    accuracy                           0.81       418\n",
      "   macro avg       0.79      0.80      0.80       418\n",
      "weighted avg       0.81      0.81      0.81       418\n",
      "\n"
     ]
    }
   ],
   "source": [
    "y_train_pred = xgb_base.predict(X_train)\n",
    "y_test_pred = xgb_base.predict(X_test)\n",
    "\n",
    "print(classification_report(y_test, y_test_pred))"
   ]
  },
  {
   "cell_type": "code",
   "execution_count": 29,
   "id": "2471b218",
   "metadata": {
    "execution": {
     "iopub.execute_input": "2022-11-19T10:49:01.659361Z",
     "iopub.status.busy": "2022-11-19T10:49:01.658542Z",
     "iopub.status.idle": "2022-11-19T10:49:01.891743Z",
     "shell.execute_reply": "2022-11-19T10:49:01.890370Z"
    },
    "papermill": {
     "duration": 0.254112,
     "end_time": "2022-11-19T10:49:01.894841",
     "exception": false,
     "start_time": "2022-11-19T10:49:01.640729",
     "status": "completed"
    },
    "tags": []
   },
   "outputs": [
    {
     "name": "stderr",
     "output_type": "stream",
     "text": [
      "/opt/conda/lib/python3.7/site-packages/sklearn/utils/deprecation.py:87: FutureWarning: Function plot_roc_curve is deprecated; Function :func:`plot_roc_curve` is deprecated in 1.0 and will be removed in 1.2. Use one of the class methods: :meth:`sklearn.metric.RocCurveDisplay.from_predictions` or :meth:`sklearn.metric.RocCurveDisplay.from_estimator`.\n",
      "  warnings.warn(msg, category=FutureWarning)\n"
     ]
    },
    {
     "data": {
      "image/png": "[encoded data removed]",
      "text/plain": [
       "<Figure size 432x288 with 1 Axes>"
      ]
     },
     "metadata": {
      "needs_background": "light"
     },
     "output_type": "display_data"
    }
   ],
   "source": [
    "plot_roc_curve(xgb_base, X_train, y_train, drop_intermediate=False)\n",
    "plt.show()"
   ]
  },
  {
   "cell_type": "markdown",
   "id": "bd6e9849",
   "metadata": {
    "papermill": {
     "duration": 0.016385,
     "end_time": "2022-11-19T10:49:01.927864",
     "exception": false,
     "start_time": "2022-11-19T10:49:01.911479",
     "status": "completed"
    },
    "tags": []
   },
   "source": [
    "#### Hyper-parameter tuning using k-fold CV"
   ]
  },
  {
   "cell_type": "code",
   "execution_count": 30,
   "id": "ee806546",
   "metadata": {
    "execution": {
     "iopub.execute_input": "2022-11-19T10:49:01.962684Z",
     "iopub.status.busy": "2022-11-19T10:49:01.962137Z",
     "iopub.status.idle": "2022-11-19T10:49:26.017869Z",
     "shell.execute_reply": "2022-11-19T10:49:26.016653Z"
    },
    "papermill": {
     "duration": 24.076189,
     "end_time": "2022-11-19T10:49:26.020768",
     "exception": false,
     "start_time": "2022-11-19T10:49:01.944579",
     "status": "completed"
    },
    "tags": []
   },
   "outputs": [
    {
     "name": "stdout",
     "output_type": "stream",
     "text": [
      "[2, 4, 6, 8]\n",
      "Fitting 10 folds for each of 16 candidates, totalling 160 fits\n"
     ]
    }
   ],
   "source": [
    "# grid search\n",
    "from sklearn.model_selection import StratifiedKFold\n",
    "model = XGBClassifier()\n",
    "n_estimators = [50, 100, 150, 200]\n",
    "max_depth = [2, 4, 6, 8]\n",
    "print(max_depth)\n",
    "param_grid = dict(max_depth=max_depth, n_estimators=n_estimators)\n",
    "kfold = StratifiedKFold(n_splits=10, shuffle=True, random_state=7)\n",
    "grid_search = GridSearchCV(model, param_grid, scoring=\"neg_log_loss\", n_jobs=-1, cv=kfold, verbose=1)\n",
    "grid_result = grid_search.fit(X_train, y_train)"
   ]
  },
  {
   "cell_type": "code",
   "execution_count": 31,
   "id": "7b00cb45",
   "metadata": {
    "execution": {
     "iopub.execute_input": "2022-11-19T10:49:26.056549Z",
     "iopub.status.busy": "2022-11-19T10:49:26.056111Z",
     "iopub.status.idle": "2022-11-19T10:49:26.064360Z",
     "shell.execute_reply": "2022-11-19T10:49:26.063069Z"
    },
    "papermill": {
     "duration": 0.028487,
     "end_time": "2022-11-19T10:49:26.067005",
     "exception": false,
     "start_time": "2022-11-19T10:49:26.038518",
     "status": "completed"
    },
    "tags": []
   },
   "outputs": [
    {
     "name": "stdout",
     "output_type": "stream",
     "text": [
      "Best: -0.416589 using {'max_depth': 2, 'n_estimators': 100}\n",
      "-0.418556 (0.091946) with: {'max_depth': 2, 'n_estimators': 50}\n",
      "-0.416589 (0.091993) with: {'max_depth': 2, 'n_estimators': 100}\n",
      "-0.422788 (0.091073) with: {'max_depth': 2, 'n_estimators': 150}\n",
      "-0.429320 (0.094146) with: {'max_depth': 2, 'n_estimators': 200}\n",
      "-0.426748 (0.091741) with: {'max_depth': 4, 'n_estimators': 50}\n",
      "-0.449291 (0.105722) with: {'max_depth': 4, 'n_estimators': 100}\n",
      "-0.469017 (0.118469) with: {'max_depth': 4, 'n_estimators': 150}\n",
      "-0.492535 (0.127646) with: {'max_depth': 4, 'n_estimators': 200}\n",
      "-0.453715 (0.103240) with: {'max_depth': 6, 'n_estimators': 50}\n",
      "-0.487662 (0.119710) with: {'max_depth': 6, 'n_estimators': 100}\n",
      "-0.524038 (0.133780) with: {'max_depth': 6, 'n_estimators': 150}\n",
      "-0.553344 (0.145231) with: {'max_depth': 6, 'n_estimators': 200}\n",
      "-0.466913 (0.113035) with: {'max_depth': 8, 'n_estimators': 50}\n",
      "-0.520642 (0.137099) with: {'max_depth': 8, 'n_estimators': 100}\n",
      "-0.554402 (0.148671) with: {'max_depth': 8, 'n_estimators': 150}\n",
      "-0.575636 (0.155341) with: {'max_depth': 8, 'n_estimators': 200}\n"
     ]
    }
   ],
   "source": [
    "# summarize results\n",
    "print(\"Best: %f using %s\" % (grid_result.best_score_, grid_result.best_params_))\n",
    "means = grid_result.cv_results_['mean_test_score']\n",
    "stds = grid_result.cv_results_['std_test_score']\n",
    "params = grid_result.cv_results_['params']\n",
    "for mean, stdev, param in zip(means, stds, params):\n",
    "\tprint(\"%f (%f) with: %r\" % (mean, stdev, param))"
   ]
  },
  {
   "cell_type": "markdown",
   "id": "85442fa8",
   "metadata": {
    "papermill": {
     "duration": 0.016176,
     "end_time": "2022-11-19T10:49:26.099382",
     "exception": false,
     "start_time": "2022-11-19T10:49:26.083206",
     "status": "completed"
    },
    "tags": []
   },
   "source": [
    "We could have selected arbitrary depth as 2 and estimators as 200 but from the above result we will go with max_depth as 2 and n_estimators as 150.  "
   ]
  },
  {
   "cell_type": "code",
   "execution_count": 32,
   "id": "94114112",
   "metadata": {
    "execution": {
     "iopub.execute_input": "2022-11-19T10:49:26.135108Z",
     "iopub.status.busy": "2022-11-19T10:49:26.134671Z",
     "iopub.status.idle": "2022-11-19T10:49:26.490922Z",
     "shell.execute_reply": "2022-11-19T10:49:26.489197Z"
    },
    "papermill": {
     "duration": 0.377332,
     "end_time": "2022-11-19T10:49:26.493867",
     "exception": false,
     "start_time": "2022-11-19T10:49:26.116535",
     "status": "completed"
    },
    "tags": []
   },
   "outputs": [
    {
     "data": {
      "image/png": "[encoded data removed]",
      "text/plain": [
       "<Figure size 432x288 with 1 Axes>"
      ]
     },
     "metadata": {
      "needs_background": "light"
     },
     "output_type": "display_data"
    }
   ],
   "source": [
    "# plot results\n",
    "scores = np.array(means).reshape(len(max_depth), len(n_estimators))\n",
    "for i, value in enumerate(max_depth):\n",
    "    plt.plot(n_estimators, scores[i], label='depth: ' + str(value))\n",
    "plt.legend()\n",
    "plt.xlabel('n_estimators')\n",
    "plt.ylabel('Log Loss')\n",
    "plt.savefig('n_estimators_vs_max_depth.png')"
   ]
  },
  {
   "cell_type": "code",
   "execution_count": 33,
   "id": "0e110ff2",
   "metadata": {
    "execution": {
     "iopub.execute_input": "2022-11-19T10:49:26.530541Z",
     "iopub.status.busy": "2022-11-19T10:49:26.530078Z",
     "iopub.status.idle": "2022-11-19T10:49:26.537350Z",
     "shell.execute_reply": "2022-11-19T10:49:26.536014Z"
    },
    "papermill": {
     "duration": 0.028296,
     "end_time": "2022-11-19T10:49:26.539993",
     "exception": false,
     "start_time": "2022-11-19T10:49:26.511697",
     "status": "completed"
    },
    "tags": []
   },
   "outputs": [],
   "source": [
    "# hyperparameter tuning with XGBoost\n",
    "\n",
    "# creating a KFold object \n",
    "folds = 3\n",
    "\n",
    "# specify range of hyperparameters\n",
    "param_grid = {'learning_rate': [0.1, 0.2, 0.3], \n",
    "             'subsample': [0.3, 0.6, 0.9]}          \n",
    "\n",
    "\n",
    "# specify model\n",
    "xgb_model = XGBClassifier(max_depth=2, n_estimators=150)\n",
    "\n",
    "# set up GridSearchCV()\n",
    "model_cv = GridSearchCV(estimator = xgb_model, \n",
    "                        param_grid = param_grid, \n",
    "                        scoring= 'roc_auc', \n",
    "                        cv = folds, \n",
    "                        verbose = 1,\n",
    "                        return_train_score=True)"
   ]
  },
  {
   "cell_type": "code",
   "execution_count": 34,
   "id": "07e7e59a",
   "metadata": {
    "execution": {
     "iopub.execute_input": "2022-11-19T10:49:26.576732Z",
     "iopub.status.busy": "2022-11-19T10:49:26.576287Z",
     "iopub.status.idle": "2022-11-19T10:49:37.058216Z",
     "shell.execute_reply": "2022-11-19T10:49:37.057139Z"
    },
    "papermill": {
     "duration": 10.503743,
     "end_time": "2022-11-19T10:49:37.061211",
     "exception": false,
     "start_time": "2022-11-19T10:49:26.557468",
     "status": "completed"
    },
    "tags": []
   },
   "outputs": [
    {
     "name": "stdout",
     "output_type": "stream",
     "text": [
      "Fitting 3 folds for each of 9 candidates, totalling 27 fits\n"
     ]
    },
    {
     "data": {
      "text/plain": [
       "GridSearchCV(cv=3,\n",
       "             estimator=XGBClassifier(base_score=None, booster=None,\n",
       "                                     callbacks=None, colsample_bylevel=None,\n",
       "                                     colsample_bynode=None,\n",
       "                                     colsample_bytree=None,\n",
       "                                     early_stopping_rounds=None,\n",
       "                                     enable_categorical=False, eval_metric=None,\n",
       "                                     gamma=None, gpu_id=None, grow_policy=None,\n",
       "                                     importance_type=None,\n",
       "                                     interaction_constraints=None,\n",
       "                                     learning_rate=None, max_bin=None,\n",
       "                                     max_ca...\n",
       "                                     max_delta_step=None, max_depth=2,\n",
       "                                     max_leaves=None, min_child_weight=None,\n",
       "                                     missing=nan, monotone_constraints=None,\n",
       "                                     n_estimators=150, n_jobs=None,\n",
       "                                     num_parallel_tree=None, predictor=None,\n",
       "                                     random_state=None, reg_alpha=None,\n",
       "                                     reg_lambda=None, ...),\n",
       "             param_grid={'learning_rate': [0.1, 0.2, 0.3],\n",
       "                         'subsample': [0.3, 0.6, 0.9]},\n",
       "             return_train_score=True, scoring='roc_auc', verbose=1)"
      ]
     },
     "execution_count": 34,
     "metadata": {},
     "output_type": "execute_result"
    }
   ],
   "source": [
    "model_cv.fit(X_train, y_train)"
   ]
  },
  {
   "cell_type": "code",
   "execution_count": 35,
   "id": "fd575246",
   "metadata": {
    "execution": {
     "iopub.execute_input": "2022-11-19T10:49:37.099303Z",
     "iopub.status.busy": "2022-11-19T10:49:37.098855Z",
     "iopub.status.idle": "2022-11-19T10:49:37.106332Z",
     "shell.execute_reply": "2022-11-19T10:49:37.104995Z"
    },
    "papermill": {
     "duration": 0.028946,
     "end_time": "2022-11-19T10:49:37.109033",
     "exception": false,
     "start_time": "2022-11-19T10:49:37.080087",
     "status": "completed"
    },
    "tags": []
   },
   "outputs": [],
   "source": [
    "#Store the result in the dataframe\n",
    "\n",
    "cv_results = pd.DataFrame(model_cv.cv_results_)"
   ]
  },
  {
   "cell_type": "code",
   "execution_count": 36,
   "id": "89dd0d3a",
   "metadata": {
    "execution": {
     "iopub.execute_input": "2022-11-19T10:49:37.145354Z",
     "iopub.status.busy": "2022-11-19T10:49:37.144931Z",
     "iopub.status.idle": "2022-11-19T10:49:37.150012Z",
     "shell.execute_reply": "2022-11-19T10:49:37.148670Z"
    },
    "papermill": {
     "duration": 0.026457,
     "end_time": "2022-11-19T10:49:37.152514",
     "exception": false,
     "start_time": "2022-11-19T10:49:37.126057",
     "status": "completed"
    },
    "tags": []
   },
   "outputs": [],
   "source": [
    "# Pulling out the best model\n",
    "\n",
    "xgb_best = model_cv.best_estimator_"
   ]
  },
  {
   "cell_type": "code",
   "execution_count": 37,
   "id": "76b6ca6a",
   "metadata": {
    "execution": {
     "iopub.execute_input": "2022-11-19T10:49:37.189366Z",
     "iopub.status.busy": "2022-11-19T10:49:37.188939Z",
     "iopub.status.idle": "2022-11-19T10:49:37.199893Z",
     "shell.execute_reply": "2022-11-19T10:49:37.198901Z"
    },
    "papermill": {
     "duration": 0.032566,
     "end_time": "2022-11-19T10:49:37.202482",
     "exception": false,
     "start_time": "2022-11-19T10:49:37.169916",
     "status": "completed"
    },
    "tags": []
   },
   "outputs": [
    {
     "data": {
      "text/plain": [
       "XGBClassifier(base_score=0.5, booster='gbtree', callbacks=None,\n",
       "              colsample_bylevel=1, colsample_bynode=1, colsample_bytree=1,\n",
       "              early_stopping_rounds=None, enable_categorical=False,\n",
       "              eval_metric=None, gamma=0, gpu_id=-1, grow_policy='depthwise',\n",
       "              importance_type=None, interaction_constraints='',\n",
       "              learning_rate=0.2, max_bin=256, max_cat_to_onehot=4,\n",
       "              max_delta_step=0, max_depth=2, max_leaves=0, min_child_weight=1,\n",
       "              missing=nan, monotone_constraints='()', n_estimators=150,\n",
       "              n_jobs=0, num_parallel_tree=1, predictor='auto', random_state=0,\n",
       "              reg_alpha=0, reg_lambda=1, ...)"
      ]
     },
     "execution_count": 37,
     "metadata": {},
     "output_type": "execute_result"
    }
   ],
   "source": [
    "#Let's see inside the best xgb model\n",
    "\n",
    "xgb_best"
   ]
  },
  {
   "cell_type": "code",
   "execution_count": 38,
   "id": "25b87479",
   "metadata": {
    "execution": {
     "iopub.execute_input": "2022-11-19T10:49:37.239101Z",
     "iopub.status.busy": "2022-11-19T10:49:37.238236Z",
     "iopub.status.idle": "2022-11-19T10:49:37.247504Z",
     "shell.execute_reply": "2022-11-19T10:49:37.246334Z"
    },
    "papermill": {
     "duration": 0.030425,
     "end_time": "2022-11-19T10:49:37.249995",
     "exception": false,
     "start_time": "2022-11-19T10:49:37.219570",
     "status": "completed"
    },
    "tags": []
   },
   "outputs": [
    {
     "data": {
      "text/plain": [
       "{'Pclass': 0.20678386,\n",
       " 'Sex': 0.335139,\n",
       " 'Age': 0.09730516,\n",
       " 'Fare': 0.09464805,\n",
       " 'Parch': 0.098625034,\n",
       " 'Embarked': 0.08435808,\n",
       " 'SibSp': 0.08314082}"
      ]
     },
     "execution_count": 38,
     "metadata": {},
     "output_type": "execute_result"
    }
   ],
   "source": [
    "# Let's check the feature importance\n",
    "importance = dict(zip(X_train.columns, xgb_best.feature_importances_))\n",
    "importance"
   ]
  },
  {
   "cell_type": "code",
   "execution_count": 39,
   "id": "64e445b9",
   "metadata": {
    "execution": {
     "iopub.execute_input": "2022-11-19T10:49:37.287560Z",
     "iopub.status.busy": "2022-11-19T10:49:37.287129Z",
     "iopub.status.idle": "2022-11-19T10:49:37.300666Z",
     "shell.execute_reply": "2022-11-19T10:49:37.299433Z"
    },
    "papermill": {
     "duration": 0.035255,
     "end_time": "2022-11-19T10:49:37.303749",
     "exception": false,
     "start_time": "2022-11-19T10:49:37.268494",
     "status": "completed"
    },
    "tags": []
   },
   "outputs": [
    {
     "name": "stdout",
     "output_type": "stream",
     "text": [
      "Accuracy of XGB the testing dataset is :0.895\n"
     ]
    }
   ],
   "source": [
    "print('Accuracy of XGB the testing dataset is :{:.3f}'.format(xgb_best.score(X_test,y_test)))"
   ]
  },
  {
   "cell_type": "code",
   "execution_count": 40,
   "id": "a87cda73",
   "metadata": {
    "execution": {
     "iopub.execute_input": "2022-11-19T10:49:37.342005Z",
     "iopub.status.busy": "2022-11-19T10:49:37.341552Z",
     "iopub.status.idle": "2022-11-19T10:49:37.351867Z",
     "shell.execute_reply": "2022-11-19T10:49:37.350841Z"
    },
    "papermill": {
     "duration": 0.032159,
     "end_time": "2022-11-19T10:49:37.354895",
     "exception": false,
     "start_time": "2022-11-19T10:49:37.322736",
     "status": "completed"
    },
    "tags": []
   },
   "outputs": [],
   "source": [
    "y_pred = xgb_best.predict(X_test)"
   ]
  },
  {
   "cell_type": "code",
   "execution_count": 41,
   "id": "c24dcc7a",
   "metadata": {
    "execution": {
     "iopub.execute_input": "2022-11-19T10:49:37.393738Z",
     "iopub.status.busy": "2022-11-19T10:49:37.393294Z",
     "iopub.status.idle": "2022-11-19T10:49:37.404442Z",
     "shell.execute_reply": "2022-11-19T10:49:37.403351Z"
    },
    "papermill": {
     "duration": 0.032911,
     "end_time": "2022-11-19T10:49:37.407048",
     "exception": false,
     "start_time": "2022-11-19T10:49:37.374137",
     "status": "completed"
    },
    "tags": []
   },
   "outputs": [],
   "source": [
    "my_submission = pd.DataFrame({'PassengerId': test_df.PassengerId, 'Survived': y_pred})\n",
    "# you could use any filename. We choose submission here\n",
    "my_submission.to_csv('submission.csv', index=False)"
   ]
  },
  {
   "cell_type": "code",
   "execution_count": null,
   "id": "ebad3a8a",
   "metadata": {
    "papermill": {
     "duration": 0.017488,
     "end_time": "2022-11-19T10:49:37.442371",
     "exception": false,
     "start_time": "2022-11-19T10:49:37.424883",
     "status": "completed"
    },
    "tags": []
   },
   "outputs": [],
   "source": []
  }
 ],
 "metadata": {
  "kernelspec": {
   "display_name": "Python 3",
   "language": "python",
   "name": "python3"
  },
  "language_info": {
   "codemirror_mode": {
    "name": "ipython",
    "version": 3
   },
   "file_extension": ".py",
   "mimetype": "text/x-python",
   "name": "python",
   "nbconvert_exporter": "python",
   "pygments_lexer": "ipython3",
   "version": "3.7.12"
  },
  "papermill": {
   "default_parameters": {},
   "duration": 91.591251,
   "end_time": "2022-11-19T10:49:40.081824",
   "environment_variables": {},
   "exception": null,
   "input_path": "__notebook__.ipynb",
   "output_path": "__notebook__.ipynb",
   "parameters": {},
   "start_time": "2022-11-19T10:48:08.490573",
   "version": "2.3.4"
  }
 },
 "nbformat": 4,
 "nbformat_minor": 5
}
