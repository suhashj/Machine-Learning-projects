{
  "cells": [
    {
      "cell_type": "markdown",
      "metadata": {
        "id": "view-in-github",
        "colab_type": "text"
      },
      "source": [
        "<a href=\"https://colab.research.google.com/github/suhashj/Machine-Learning-projects/blob/main/ClusterAnalysis.ipynb\" target=\"_parent\"><img src=\"https://colab.research.google.com/assets/colab-badge.svg\" alt=\"Open In Colab\"/></a>"
      ]
    },
    {
      "cell_type": "markdown",
      "metadata": {
        "id": "a8QWQ4cJnLvR"
      },
      "source": [
        "# Cluster Analysis"
      ]
    },
    {
      "cell_type": "markdown",
      "metadata": {
        "id": "jCC0XGZ8nLvT"
      },
      "source": [
        "## Agenda"
      ]
    },
    {
      "cell_type": "markdown",
      "metadata": {
        "id": "DuX1PfYunLvU"
      },
      "source": [
        "* Problem Statement\n",
        "* Understanding Data\n",
        "* Data Preparation\n",
        "    * Choose relevant features\n",
        "    * Missing value analysis\n",
        "    * Data standardization\n",
        "* Agglomerative Clustering\n",
        "* K-Means Clustering\n",
        "* Clustering in practice\n",
        "    * Silhouette value of clusters\n",
        "    * Stability check of the clusters\n",
        "    * Categorize new samples into predefined clusters\n",
        "* DBSCAN"
      ]
    },
    {
      "cell_type": "markdown",
      "metadata": {
        "id": "-uKYG_WInLvU"
      },
      "source": [
        "### Problem Statement"
      ]
    },
    {
      "cell_type": "markdown",
      "metadata": {
        "id": "Z1G20vOPnLvU"
      },
      "source": [
        "The data set (Cereals.csv) given to you has nutritional information of various cereals available in the market. Based on the information, the elementary public schools would like to choose a set of cereals to include in their daily cafeterias. Every day a different cereal is offered, but all cereals should support a healthy diet."
      ]
    },
    {
      "cell_type": "markdown",
      "metadata": {
        "id": "RbA2da6cnLvV"
      },
      "source": [
        "##### Attributes Description\n",
        "* name: Name of cereal\n",
        "* calories: calories per serving\n",
        "* protein: grams of protein\n",
        "* fat: grams of fat\n",
        "* sodium: milligrams of sodium\n",
        "* fiber: grams of dietary fiber\n",
        "* carbo: grams of complex carbohydrates\n",
        "* sugars: grams of sugars\n",
        "* potass: milligrams of potassium\n",
        "* vitamins: vitamins and minerals - 0, 25, or 100, indicating the typical percentage of FDA recommended\n",
        "* shelf: display shelf (1, 2, or 3, counting from the floor)\n",
        "* weight: weight in ounces of one serving\n",
        "* cups: number of cups in one serving\n",
        "* rating: rating of the cereals (Possibly from Consumer Reports)"
      ]
    },
    {
      "cell_type": "code",
      "execution_count": null,
      "metadata": {
        "id": "0gN5U6CknLvV"
      },
      "outputs": [],
      "source": [
        "#Import required packages\n",
        "import pandas as pd\n",
        "import numpy as np"
      ]
    },
    {
      "cell_type": "markdown",
      "metadata": {
        "id": "1qhZm9imnLvW"
      },
      "source": [
        "### Understanding Data"
      ]
    },
    {
      "cell_type": "code",
      "execution_count": null,
      "metadata": {
        "id": "MTau6EiAnLvW",
        "outputId": "910e68e8-e113-408b-c44a-a1f825190988"
      },
      "outputs": [
        {
          "data": {
            "text/html": [
              "<div>\n",
              "<style scoped>\n",
              "    .dataframe tbody tr th:only-of-type {\n",
              "        vertical-align: middle;\n",
              "    }\n",
              "\n",
              "    .dataframe tbody tr th {\n",
              "        vertical-align: top;\n",
              "    }\n",
              "\n",
              "    .dataframe thead th {\n",
              "        text-align: right;\n",
              "    }\n",
              "</style>\n",
              "<table border=\"1\" class=\"dataframe\">\n",
              "  <thead>\n",
              "    <tr style=\"text-align: right;\">\n",
              "      <th></th>\n",
              "      <th>name</th>\n",
              "      <th>calories</th>\n",
              "      <th>protein</th>\n",
              "      <th>fat</th>\n",
              "      <th>sodium</th>\n",
              "      <th>fiber</th>\n",
              "      <th>carbo</th>\n",
              "      <th>sugars</th>\n",
              "      <th>potass</th>\n",
              "      <th>vitamins</th>\n",
              "      <th>weight</th>\n",
              "      <th>cups</th>\n",
              "      <th>rating</th>\n",
              "    </tr>\n",
              "  </thead>\n",
              "  <tbody>\n",
              "    <tr>\n",
              "      <th>0</th>\n",
              "      <td>100%_Bran</td>\n",
              "      <td>70</td>\n",
              "      <td>4</td>\n",
              "      <td>1</td>\n",
              "      <td>130</td>\n",
              "      <td>10.0</td>\n",
              "      <td>5.0</td>\n",
              "      <td>6.0</td>\n",
              "      <td>280.0</td>\n",
              "      <td>25</td>\n",
              "      <td>1.0</td>\n",
              "      <td>0.33</td>\n",
              "      <td>68.402973</td>\n",
              "    </tr>\n",
              "    <tr>\n",
              "      <th>1</th>\n",
              "      <td>100%_Natural_Bran</td>\n",
              "      <td>120</td>\n",
              "      <td>3</td>\n",
              "      <td>5</td>\n",
              "      <td>15</td>\n",
              "      <td>2.0</td>\n",
              "      <td>8.0</td>\n",
              "      <td>8.0</td>\n",
              "      <td>135.0</td>\n",
              "      <td>0</td>\n",
              "      <td>1.0</td>\n",
              "      <td>1.00</td>\n",
              "      <td>33.983679</td>\n",
              "    </tr>\n",
              "    <tr>\n",
              "      <th>2</th>\n",
              "      <td>All-Bran</td>\n",
              "      <td>70</td>\n",
              "      <td>4</td>\n",
              "      <td>1</td>\n",
              "      <td>260</td>\n",
              "      <td>9.0</td>\n",
              "      <td>7.0</td>\n",
              "      <td>5.0</td>\n",
              "      <td>320.0</td>\n",
              "      <td>25</td>\n",
              "      <td>1.0</td>\n",
              "      <td>0.33</td>\n",
              "      <td>59.425505</td>\n",
              "    </tr>\n",
              "    <tr>\n",
              "      <th>3</th>\n",
              "      <td>All-Bran_with_Extra_Fiber</td>\n",
              "      <td>50</td>\n",
              "      <td>4</td>\n",
              "      <td>0</td>\n",
              "      <td>140</td>\n",
              "      <td>14.0</td>\n",
              "      <td>8.0</td>\n",
              "      <td>0.0</td>\n",
              "      <td>330.0</td>\n",
              "      <td>25</td>\n",
              "      <td>1.0</td>\n",
              "      <td>0.50</td>\n",
              "      <td>93.704912</td>\n",
              "    </tr>\n",
              "    <tr>\n",
              "      <th>4</th>\n",
              "      <td>Almond_Delight</td>\n",
              "      <td>110</td>\n",
              "      <td>2</td>\n",
              "      <td>2</td>\n",
              "      <td>200</td>\n",
              "      <td>1.0</td>\n",
              "      <td>14.0</td>\n",
              "      <td>8.0</td>\n",
              "      <td>NaN</td>\n",
              "      <td>25</td>\n",
              "      <td>1.0</td>\n",
              "      <td>0.75</td>\n",
              "      <td>34.384843</td>\n",
              "    </tr>\n",
              "  </tbody>\n",
              "</table>\n",
              "</div>"
            ],
            "text/plain": [
              "                        name  calories  protein  fat  sodium  fiber  carbo  \\\n",
              "0                  100%_Bran        70        4    1     130   10.0    5.0   \n",
              "1          100%_Natural_Bran       120        3    5      15    2.0    8.0   \n",
              "2                   All-Bran        70        4    1     260    9.0    7.0   \n",
              "3  All-Bran_with_Extra_Fiber        50        4    0     140   14.0    8.0   \n",
              "4             Almond_Delight       110        2    2     200    1.0   14.0   \n",
              "\n",
              "   sugars  potass  vitamins  weight  cups     rating  \n",
              "0     6.0   280.0        25     1.0  0.33  68.402973  \n",
              "1     8.0   135.0         0     1.0  1.00  33.983679  \n",
              "2     5.0   320.0        25     1.0  0.33  59.425505  \n",
              "3     0.0   330.0        25     1.0  0.50  93.704912  \n",
              "4     8.0     NaN        25     1.0  0.75  34.384843  "
            ]
          },
          "execution_count": 2,
          "metadata": {},
          "output_type": "execute_result"
        }
      ],
      "source": [
        "cereals = pd.read_csv(\"Cereals.csv\")\n",
        "cereals.head()"
      ]
    },
    {
      "cell_type": "code",
      "execution_count": null,
      "metadata": {
        "id": "yhwTut_WnLvX",
        "outputId": "ef0c61c9-3d75-4491-eff0-46e90dc7be07"
      },
      "outputs": [
        {
          "data": {
            "text/html": [
              "<div>\n",
              "<style scoped>\n",
              "    .dataframe tbody tr th:only-of-type {\n",
              "        vertical-align: middle;\n",
              "    }\n",
              "\n",
              "    .dataframe tbody tr th {\n",
              "        vertical-align: top;\n",
              "    }\n",
              "\n",
              "    .dataframe thead th {\n",
              "        text-align: right;\n",
              "    }\n",
              "</style>\n",
              "<table border=\"1\" class=\"dataframe\">\n",
              "  <thead>\n",
              "    <tr style=\"text-align: right;\">\n",
              "      <th></th>\n",
              "      <th>name</th>\n",
              "      <th>calories</th>\n",
              "      <th>protein</th>\n",
              "      <th>fat</th>\n",
              "      <th>sodium</th>\n",
              "      <th>fiber</th>\n",
              "      <th>carbo</th>\n",
              "      <th>sugars</th>\n",
              "      <th>potass</th>\n",
              "      <th>vitamins</th>\n",
              "      <th>weight</th>\n",
              "      <th>cups</th>\n",
              "      <th>rating</th>\n",
              "    </tr>\n",
              "  </thead>\n",
              "  <tbody>\n",
              "    <tr>\n",
              "      <th>72</th>\n",
              "      <td>Triples</td>\n",
              "      <td>110</td>\n",
              "      <td>2</td>\n",
              "      <td>1</td>\n",
              "      <td>250</td>\n",
              "      <td>0.0</td>\n",
              "      <td>21.0</td>\n",
              "      <td>3.0</td>\n",
              "      <td>60.0</td>\n",
              "      <td>25</td>\n",
              "      <td>1.0</td>\n",
              "      <td>0.75</td>\n",
              "      <td>39.106174</td>\n",
              "    </tr>\n",
              "    <tr>\n",
              "      <th>73</th>\n",
              "      <td>Trix</td>\n",
              "      <td>110</td>\n",
              "      <td>1</td>\n",
              "      <td>1</td>\n",
              "      <td>140</td>\n",
              "      <td>0.0</td>\n",
              "      <td>13.0</td>\n",
              "      <td>12.0</td>\n",
              "      <td>25.0</td>\n",
              "      <td>25</td>\n",
              "      <td>1.0</td>\n",
              "      <td>1.00</td>\n",
              "      <td>27.753301</td>\n",
              "    </tr>\n",
              "    <tr>\n",
              "      <th>74</th>\n",
              "      <td>Wheat_Chex</td>\n",
              "      <td>100</td>\n",
              "      <td>3</td>\n",
              "      <td>1</td>\n",
              "      <td>230</td>\n",
              "      <td>3.0</td>\n",
              "      <td>17.0</td>\n",
              "      <td>3.0</td>\n",
              "      <td>115.0</td>\n",
              "      <td>25</td>\n",
              "      <td>1.0</td>\n",
              "      <td>0.67</td>\n",
              "      <td>49.787445</td>\n",
              "    </tr>\n",
              "    <tr>\n",
              "      <th>75</th>\n",
              "      <td>Wheaties</td>\n",
              "      <td>100</td>\n",
              "      <td>3</td>\n",
              "      <td>1</td>\n",
              "      <td>200</td>\n",
              "      <td>3.0</td>\n",
              "      <td>17.0</td>\n",
              "      <td>3.0</td>\n",
              "      <td>110.0</td>\n",
              "      <td>25</td>\n",
              "      <td>1.0</td>\n",
              "      <td>1.00</td>\n",
              "      <td>51.592193</td>\n",
              "    </tr>\n",
              "    <tr>\n",
              "      <th>76</th>\n",
              "      <td>Wheaties_Honey_Gold</td>\n",
              "      <td>110</td>\n",
              "      <td>2</td>\n",
              "      <td>1</td>\n",
              "      <td>200</td>\n",
              "      <td>1.0</td>\n",
              "      <td>16.0</td>\n",
              "      <td>8.0</td>\n",
              "      <td>60.0</td>\n",
              "      <td>25</td>\n",
              "      <td>1.0</td>\n",
              "      <td>0.75</td>\n",
              "      <td>36.187559</td>\n",
              "    </tr>\n",
              "  </tbody>\n",
              "</table>\n",
              "</div>"
            ],
            "text/plain": [
              "                   name  calories  protein  fat  sodium  fiber  carbo  sugars  \\\n",
              "72              Triples       110        2    1     250    0.0   21.0     3.0   \n",
              "73                 Trix       110        1    1     140    0.0   13.0    12.0   \n",
              "74           Wheat_Chex       100        3    1     230    3.0   17.0     3.0   \n",
              "75             Wheaties       100        3    1     200    3.0   17.0     3.0   \n",
              "76  Wheaties_Honey_Gold       110        2    1     200    1.0   16.0     8.0   \n",
              "\n",
              "    potass  vitamins  weight  cups     rating  \n",
              "72    60.0        25     1.0  0.75  39.106174  \n",
              "73    25.0        25     1.0  1.00  27.753301  \n",
              "74   115.0        25     1.0  0.67  49.787445  \n",
              "75   110.0        25     1.0  1.00  51.592193  \n",
              "76    60.0        25     1.0  0.75  36.187559  "
            ]
          },
          "execution_count": 4,
          "metadata": {},
          "output_type": "execute_result"
        }
      ],
      "source": [
        "cereals.tail()"
      ]
    },
    {
      "cell_type": "code",
      "execution_count": null,
      "metadata": {
        "id": "WqTk5UqGnLvX",
        "outputId": "25f7da71-1783-4d51-88b8-8fa5525f7dac"
      },
      "outputs": [
        {
          "data": {
            "text/plain": [
              "name         object\n",
              "calories      int64\n",
              "protein       int64\n",
              "fat           int64\n",
              "sodium        int64\n",
              "fiber       float64\n",
              "carbo       float64\n",
              "sugars      float64\n",
              "potass      float64\n",
              "vitamins      int64\n",
              "weight      float64\n",
              "cups        float64\n",
              "rating      float64\n",
              "dtype: object"
            ]
          },
          "execution_count": 3,
          "metadata": {},
          "output_type": "execute_result"
        }
      ],
      "source": [
        "# Data type of each attribute\n",
        "cereals.dtypes"
      ]
    },
    {
      "cell_type": "code",
      "execution_count": null,
      "metadata": {
        "id": "L_vZ1UkHnLvY",
        "outputId": "46b25a1a-8716-4beb-ffbf-bd4f2a3fe3c3"
      },
      "outputs": [
        {
          "data": {
            "text/html": [
              "<div>\n",
              "<style scoped>\n",
              "    .dataframe tbody tr th:only-of-type {\n",
              "        vertical-align: middle;\n",
              "    }\n",
              "\n",
              "    .dataframe tbody tr th {\n",
              "        vertical-align: top;\n",
              "    }\n",
              "\n",
              "    .dataframe thead th {\n",
              "        text-align: right;\n",
              "    }\n",
              "</style>\n",
              "<table border=\"1\" class=\"dataframe\">\n",
              "  <thead>\n",
              "    <tr style=\"text-align: right;\">\n",
              "      <th></th>\n",
              "      <th>calories</th>\n",
              "      <th>protein</th>\n",
              "      <th>fat</th>\n",
              "      <th>sodium</th>\n",
              "      <th>fiber</th>\n",
              "      <th>carbo</th>\n",
              "      <th>sugars</th>\n",
              "      <th>potass</th>\n",
              "      <th>vitamins</th>\n",
              "      <th>weight</th>\n",
              "      <th>cups</th>\n",
              "      <th>rating</th>\n",
              "    </tr>\n",
              "  </thead>\n",
              "  <tbody>\n",
              "    <tr>\n",
              "      <th>count</th>\n",
              "      <td>77.000000</td>\n",
              "      <td>77.000000</td>\n",
              "      <td>77.000000</td>\n",
              "      <td>77.000000</td>\n",
              "      <td>77.000000</td>\n",
              "      <td>76.000000</td>\n",
              "      <td>76.000000</td>\n",
              "      <td>75.000000</td>\n",
              "      <td>77.000000</td>\n",
              "      <td>77.000000</td>\n",
              "      <td>77.000000</td>\n",
              "      <td>77.000000</td>\n",
              "    </tr>\n",
              "    <tr>\n",
              "      <th>mean</th>\n",
              "      <td>106.883117</td>\n",
              "      <td>2.545455</td>\n",
              "      <td>1.012987</td>\n",
              "      <td>159.675325</td>\n",
              "      <td>2.151948</td>\n",
              "      <td>14.802632</td>\n",
              "      <td>7.026316</td>\n",
              "      <td>98.666667</td>\n",
              "      <td>28.246753</td>\n",
              "      <td>1.029610</td>\n",
              "      <td>0.821039</td>\n",
              "      <td>42.665705</td>\n",
              "    </tr>\n",
              "    <tr>\n",
              "      <th>std</th>\n",
              "      <td>19.484119</td>\n",
              "      <td>1.094790</td>\n",
              "      <td>1.006473</td>\n",
              "      <td>83.832295</td>\n",
              "      <td>2.383364</td>\n",
              "      <td>3.907326</td>\n",
              "      <td>4.378656</td>\n",
              "      <td>70.410636</td>\n",
              "      <td>22.342523</td>\n",
              "      <td>0.150477</td>\n",
              "      <td>0.232716</td>\n",
              "      <td>14.047289</td>\n",
              "    </tr>\n",
              "    <tr>\n",
              "      <th>min</th>\n",
              "      <td>50.000000</td>\n",
              "      <td>1.000000</td>\n",
              "      <td>0.000000</td>\n",
              "      <td>0.000000</td>\n",
              "      <td>0.000000</td>\n",
              "      <td>5.000000</td>\n",
              "      <td>0.000000</td>\n",
              "      <td>15.000000</td>\n",
              "      <td>0.000000</td>\n",
              "      <td>0.500000</td>\n",
              "      <td>0.250000</td>\n",
              "      <td>18.042851</td>\n",
              "    </tr>\n",
              "    <tr>\n",
              "      <th>25%</th>\n",
              "      <td>100.000000</td>\n",
              "      <td>2.000000</td>\n",
              "      <td>0.000000</td>\n",
              "      <td>130.000000</td>\n",
              "      <td>1.000000</td>\n",
              "      <td>12.000000</td>\n",
              "      <td>3.000000</td>\n",
              "      <td>42.500000</td>\n",
              "      <td>25.000000</td>\n",
              "      <td>1.000000</td>\n",
              "      <td>0.670000</td>\n",
              "      <td>33.174094</td>\n",
              "    </tr>\n",
              "    <tr>\n",
              "      <th>50%</th>\n",
              "      <td>110.000000</td>\n",
              "      <td>3.000000</td>\n",
              "      <td>1.000000</td>\n",
              "      <td>180.000000</td>\n",
              "      <td>2.000000</td>\n",
              "      <td>14.500000</td>\n",
              "      <td>7.000000</td>\n",
              "      <td>90.000000</td>\n",
              "      <td>25.000000</td>\n",
              "      <td>1.000000</td>\n",
              "      <td>0.750000</td>\n",
              "      <td>40.400208</td>\n",
              "    </tr>\n",
              "    <tr>\n",
              "      <th>75%</th>\n",
              "      <td>110.000000</td>\n",
              "      <td>3.000000</td>\n",
              "      <td>2.000000</td>\n",
              "      <td>210.000000</td>\n",
              "      <td>3.000000</td>\n",
              "      <td>17.000000</td>\n",
              "      <td>11.000000</td>\n",
              "      <td>120.000000</td>\n",
              "      <td>25.000000</td>\n",
              "      <td>1.000000</td>\n",
              "      <td>1.000000</td>\n",
              "      <td>50.828392</td>\n",
              "    </tr>\n",
              "    <tr>\n",
              "      <th>max</th>\n",
              "      <td>160.000000</td>\n",
              "      <td>6.000000</td>\n",
              "      <td>5.000000</td>\n",
              "      <td>320.000000</td>\n",
              "      <td>14.000000</td>\n",
              "      <td>23.000000</td>\n",
              "      <td>15.000000</td>\n",
              "      <td>330.000000</td>\n",
              "      <td>100.000000</td>\n",
              "      <td>1.500000</td>\n",
              "      <td>1.500000</td>\n",
              "      <td>93.704912</td>\n",
              "    </tr>\n",
              "  </tbody>\n",
              "</table>\n",
              "</div>"
            ],
            "text/plain": [
              "         calories    protein        fat      sodium      fiber      carbo  \\\n",
              "count   77.000000  77.000000  77.000000   77.000000  77.000000  76.000000   \n",
              "mean   106.883117   2.545455   1.012987  159.675325   2.151948  14.802632   \n",
              "std     19.484119   1.094790   1.006473   83.832295   2.383364   3.907326   \n",
              "min     50.000000   1.000000   0.000000    0.000000   0.000000   5.000000   \n",
              "25%    100.000000   2.000000   0.000000  130.000000   1.000000  12.000000   \n",
              "50%    110.000000   3.000000   1.000000  180.000000   2.000000  14.500000   \n",
              "75%    110.000000   3.000000   2.000000  210.000000   3.000000  17.000000   \n",
              "max    160.000000   6.000000   5.000000  320.000000  14.000000  23.000000   \n",
              "\n",
              "          sugars      potass    vitamins     weight       cups     rating  \n",
              "count  76.000000   75.000000   77.000000  77.000000  77.000000  77.000000  \n",
              "mean    7.026316   98.666667   28.246753   1.029610   0.821039  42.665705  \n",
              "std     4.378656   70.410636   22.342523   0.150477   0.232716  14.047289  \n",
              "min     0.000000   15.000000    0.000000   0.500000   0.250000  18.042851  \n",
              "25%     3.000000   42.500000   25.000000   1.000000   0.670000  33.174094  \n",
              "50%     7.000000   90.000000   25.000000   1.000000   0.750000  40.400208  \n",
              "75%    11.000000  120.000000   25.000000   1.000000   1.000000  50.828392  \n",
              "max    15.000000  330.000000  100.000000   1.500000   1.500000  93.704912  "
            ]
          },
          "execution_count": 4,
          "metadata": {},
          "output_type": "execute_result"
        }
      ],
      "source": [
        "#Summary statistics\n",
        "cereals.describe()"
      ]
    },
    {
      "cell_type": "code",
      "execution_count": null,
      "metadata": {
        "id": "l__akJhhnLvY"
      },
      "outputs": [],
      "source": [
        "cereals['lab']=cereals['name']+'('+ cereals['rating'].astype(str) + ')'\n"
      ]
    },
    {
      "cell_type": "markdown",
      "metadata": {
        "id": "pGrY8CQunLvY"
      },
      "source": [
        "### Data Preparation"
      ]
    },
    {
      "cell_type": "markdown",
      "metadata": {
        "id": "jra-qcfwnLvY"
      },
      "source": [
        "#### Choose required features"
      ]
    },
    {
      "cell_type": "code",
      "execution_count": null,
      "metadata": {
        "id": "eeht8nWknLvY",
        "outputId": "cdeaed5a-830b-42b6-ff9d-83c35e267a85"
      },
      "outputs": [
        {
          "data": {
            "text/html": [
              "<div>\n",
              "<style scoped>\n",
              "    .dataframe tbody tr th:only-of-type {\n",
              "        vertical-align: middle;\n",
              "    }\n",
              "\n",
              "    .dataframe tbody tr th {\n",
              "        vertical-align: top;\n",
              "    }\n",
              "\n",
              "    .dataframe thead th {\n",
              "        text-align: right;\n",
              "    }\n",
              "</style>\n",
              "<table border=\"1\" class=\"dataframe\">\n",
              "  <thead>\n",
              "    <tr style=\"text-align: right;\">\n",
              "      <th></th>\n",
              "      <th>name</th>\n",
              "      <th>calories</th>\n",
              "      <th>protein</th>\n",
              "      <th>fat</th>\n",
              "      <th>sodium</th>\n",
              "      <th>fiber</th>\n",
              "      <th>carbo</th>\n",
              "      <th>sugars</th>\n",
              "      <th>potass</th>\n",
              "      <th>vitamins</th>\n",
              "      <th>weight</th>\n",
              "      <th>cups</th>\n",
              "      <th>rating</th>\n",
              "      <th>lab</th>\n",
              "      <th>label</th>\n",
              "    </tr>\n",
              "  </thead>\n",
              "  <tbody>\n",
              "    <tr>\n",
              "      <th>0</th>\n",
              "      <td>100%_Bran</td>\n",
              "      <td>70</td>\n",
              "      <td>4</td>\n",
              "      <td>1</td>\n",
              "      <td>130</td>\n",
              "      <td>10.0</td>\n",
              "      <td>5.0</td>\n",
              "      <td>6.0</td>\n",
              "      <td>280.0</td>\n",
              "      <td>25</td>\n",
              "      <td>1.0</td>\n",
              "      <td>0.33</td>\n",
              "      <td>68.402973</td>\n",
              "      <td>100%_Bran(68.402973)</td>\n",
              "      <td>100%_Bran (68.4)</td>\n",
              "    </tr>\n",
              "    <tr>\n",
              "      <th>1</th>\n",
              "      <td>100%_Natural_Bran</td>\n",
              "      <td>120</td>\n",
              "      <td>3</td>\n",
              "      <td>5</td>\n",
              "      <td>15</td>\n",
              "      <td>2.0</td>\n",
              "      <td>8.0</td>\n",
              "      <td>8.0</td>\n",
              "      <td>135.0</td>\n",
              "      <td>0</td>\n",
              "      <td>1.0</td>\n",
              "      <td>1.00</td>\n",
              "      <td>33.983679</td>\n",
              "      <td>100%_Natural_Bran(33.983679)</td>\n",
              "      <td>100%_Natural_Bran (33.98)</td>\n",
              "    </tr>\n",
              "    <tr>\n",
              "      <th>2</th>\n",
              "      <td>All-Bran</td>\n",
              "      <td>70</td>\n",
              "      <td>4</td>\n",
              "      <td>1</td>\n",
              "      <td>260</td>\n",
              "      <td>9.0</td>\n",
              "      <td>7.0</td>\n",
              "      <td>5.0</td>\n",
              "      <td>320.0</td>\n",
              "      <td>25</td>\n",
              "      <td>1.0</td>\n",
              "      <td>0.33</td>\n",
              "      <td>59.425505</td>\n",
              "      <td>All-Bran(59.425505)</td>\n",
              "      <td>All-Bran (59.43)</td>\n",
              "    </tr>\n",
              "  </tbody>\n",
              "</table>\n",
              "</div>"
            ],
            "text/plain": [
              "                name  calories  protein  fat  sodium  fiber  carbo  sugars  \\\n",
              "0          100%_Bran        70        4    1     130   10.0    5.0     6.0   \n",
              "1  100%_Natural_Bran       120        3    5      15    2.0    8.0     8.0   \n",
              "2           All-Bran        70        4    1     260    9.0    7.0     5.0   \n",
              "\n",
              "   potass  vitamins  weight  cups     rating                           lab  \\\n",
              "0   280.0        25     1.0  0.33  68.402973          100%_Bran(68.402973)   \n",
              "1   135.0         0     1.0  1.00  33.983679  100%_Natural_Bran(33.983679)   \n",
              "2   320.0        25     1.0  0.33  59.425505           All-Bran(59.425505)   \n",
              "\n",
              "                       label  \n",
              "0           100%_Bran (68.4)  \n",
              "1  100%_Natural_Bran (33.98)  \n",
              "2           All-Bran (59.43)  "
            ]
          },
          "execution_count": 9,
          "metadata": {},
          "output_type": "execute_result"
        }
      ],
      "source": [
        "cereals['label'] = cereals['name']+ ' ('  + round(cereals['rating'],2).astype(str) + ')'\n",
        "cereals.head(3)"
      ]
    },
    {
      "cell_type": "code",
      "execution_count": null,
      "metadata": {
        "id": "yKi0MQx7nLvZ",
        "outputId": "7e0c0027-7450-4086-8db2-e6a7fdfe48be"
      },
      "outputs": [
        {
          "data": {
            "text/html": [
              "<div>\n",
              "<style scoped>\n",
              "    .dataframe tbody tr th:only-of-type {\n",
              "        vertical-align: middle;\n",
              "    }\n",
              "\n",
              "    .dataframe tbody tr th {\n",
              "        vertical-align: top;\n",
              "    }\n",
              "\n",
              "    .dataframe thead th {\n",
              "        text-align: right;\n",
              "    }\n",
              "</style>\n",
              "<table border=\"1\" class=\"dataframe\">\n",
              "  <thead>\n",
              "    <tr style=\"text-align: right;\">\n",
              "      <th></th>\n",
              "      <th>calories</th>\n",
              "      <th>protein</th>\n",
              "      <th>fat</th>\n",
              "      <th>sodium</th>\n",
              "      <th>fiber</th>\n",
              "      <th>carbo</th>\n",
              "      <th>sugars</th>\n",
              "      <th>potass</th>\n",
              "      <th>vitamins</th>\n",
              "      <th>weight</th>\n",
              "      <th>cups</th>\n",
              "      <th>label</th>\n",
              "    </tr>\n",
              "  </thead>\n",
              "  <tbody>\n",
              "    <tr>\n",
              "      <th>0</th>\n",
              "      <td>70</td>\n",
              "      <td>4</td>\n",
              "      <td>1</td>\n",
              "      <td>130</td>\n",
              "      <td>10.0</td>\n",
              "      <td>5.0</td>\n",
              "      <td>6.0</td>\n",
              "      <td>280.0</td>\n",
              "      <td>25</td>\n",
              "      <td>1.0</td>\n",
              "      <td>0.33</td>\n",
              "      <td>100%_Bran (68.4)</td>\n",
              "    </tr>\n",
              "    <tr>\n",
              "      <th>1</th>\n",
              "      <td>120</td>\n",
              "      <td>3</td>\n",
              "      <td>5</td>\n",
              "      <td>15</td>\n",
              "      <td>2.0</td>\n",
              "      <td>8.0</td>\n",
              "      <td>8.0</td>\n",
              "      <td>135.0</td>\n",
              "      <td>0</td>\n",
              "      <td>1.0</td>\n",
              "      <td>1.00</td>\n",
              "      <td>100%_Natural_Bran (33.98)</td>\n",
              "    </tr>\n",
              "    <tr>\n",
              "      <th>2</th>\n",
              "      <td>70</td>\n",
              "      <td>4</td>\n",
              "      <td>1</td>\n",
              "      <td>260</td>\n",
              "      <td>9.0</td>\n",
              "      <td>7.0</td>\n",
              "      <td>5.0</td>\n",
              "      <td>320.0</td>\n",
              "      <td>25</td>\n",
              "      <td>1.0</td>\n",
              "      <td>0.33</td>\n",
              "      <td>All-Bran (59.43)</td>\n",
              "    </tr>\n",
              "  </tbody>\n",
              "</table>\n",
              "</div>"
            ],
            "text/plain": [
              "   calories  protein  fat  sodium  fiber  carbo  sugars  potass  vitamins  \\\n",
              "0        70        4    1     130   10.0    5.0     6.0   280.0        25   \n",
              "1       120        3    5      15    2.0    8.0     8.0   135.0         0   \n",
              "2        70        4    1     260    9.0    7.0     5.0   320.0        25   \n",
              "\n",
              "   weight  cups                      label  \n",
              "0     1.0  0.33           100%_Bran (68.4)  \n",
              "1     1.0  1.00  100%_Natural_Bran (33.98)  \n",
              "2     1.0  0.33           All-Bran (59.43)  "
            ]
          },
          "execution_count": 10,
          "metadata": {},
          "output_type": "execute_result"
        }
      ],
      "source": [
        "cereals.drop(['name','rating','lab'], axis=1, inplace=True)\n",
        "cereals.head(3)"
      ]
    },
    {
      "cell_type": "code",
      "execution_count": null,
      "metadata": {
        "id": "HXxH8OzOnLvZ",
        "outputId": "30b6115b-3885-4358-d59b-b0cfa129220d"
      },
      "outputs": [
        {
          "data": {
            "text/html": [
              "<div>\n",
              "<style scoped>\n",
              "    .dataframe tbody tr th:only-of-type {\n",
              "        vertical-align: middle;\n",
              "    }\n",
              "\n",
              "    .dataframe tbody tr th {\n",
              "        vertical-align: top;\n",
              "    }\n",
              "\n",
              "    .dataframe thead th {\n",
              "        text-align: right;\n",
              "    }\n",
              "</style>\n",
              "<table border=\"1\" class=\"dataframe\">\n",
              "  <thead>\n",
              "    <tr style=\"text-align: right;\">\n",
              "      <th></th>\n",
              "      <th>calories</th>\n",
              "      <th>protein</th>\n",
              "      <th>fat</th>\n",
              "      <th>sodium</th>\n",
              "      <th>fiber</th>\n",
              "      <th>carbo</th>\n",
              "      <th>sugars</th>\n",
              "      <th>potass</th>\n",
              "      <th>vitamins</th>\n",
              "      <th>weight</th>\n",
              "      <th>cups</th>\n",
              "    </tr>\n",
              "  </thead>\n",
              "  <tbody>\n",
              "    <tr>\n",
              "      <th>0</th>\n",
              "      <td>70</td>\n",
              "      <td>4</td>\n",
              "      <td>1</td>\n",
              "      <td>130</td>\n",
              "      <td>10.0</td>\n",
              "      <td>5.0</td>\n",
              "      <td>6.0</td>\n",
              "      <td>280.0</td>\n",
              "      <td>25</td>\n",
              "      <td>1.0</td>\n",
              "      <td>0.33</td>\n",
              "    </tr>\n",
              "    <tr>\n",
              "      <th>1</th>\n",
              "      <td>120</td>\n",
              "      <td>3</td>\n",
              "      <td>5</td>\n",
              "      <td>15</td>\n",
              "      <td>2.0</td>\n",
              "      <td>8.0</td>\n",
              "      <td>8.0</td>\n",
              "      <td>135.0</td>\n",
              "      <td>0</td>\n",
              "      <td>1.0</td>\n",
              "      <td>1.00</td>\n",
              "    </tr>\n",
              "    <tr>\n",
              "      <th>2</th>\n",
              "      <td>70</td>\n",
              "      <td>4</td>\n",
              "      <td>1</td>\n",
              "      <td>260</td>\n",
              "      <td>9.0</td>\n",
              "      <td>7.0</td>\n",
              "      <td>5.0</td>\n",
              "      <td>320.0</td>\n",
              "      <td>25</td>\n",
              "      <td>1.0</td>\n",
              "      <td>0.33</td>\n",
              "    </tr>\n",
              "  </tbody>\n",
              "</table>\n",
              "</div>"
            ],
            "text/plain": [
              "   calories  protein  fat  sodium  fiber  carbo  sugars  potass  vitamins  \\\n",
              "0        70        4    1     130   10.0    5.0     6.0   280.0        25   \n",
              "1       120        3    5      15    2.0    8.0     8.0   135.0         0   \n",
              "2        70        4    1     260    9.0    7.0     5.0   320.0        25   \n",
              "\n",
              "   weight  cups  \n",
              "0     1.0  0.33  \n",
              "1     1.0  1.00  \n",
              "2     1.0  0.33  "
            ]
          },
          "execution_count": 11,
          "metadata": {},
          "output_type": "execute_result"
        }
      ],
      "source": [
        "cereal_label = cereals['label']\n",
        "## Select all columns except \"label\"\n",
        "cereals.drop('label', axis=1, inplace=True)\n",
        "cereals.head(3)"
      ]
    },
    {
      "cell_type": "code",
      "execution_count": null,
      "metadata": {
        "id": "6-hMdFHsnLvZ",
        "outputId": "c6451b67-cc58-449e-a213-a5edcc7957d1"
      },
      "outputs": [
        {
          "data": {
            "text/plain": [
              "0                     100%_Bran (68.4)\n",
              "1            100%_Natural_Bran (33.98)\n",
              "2                     All-Bran (59.43)\n",
              "3     All-Bran_with_Extra_Fiber (93.7)\n",
              "4               Almond_Delight (34.38)\n",
              "                    ...               \n",
              "72                     Triples (39.11)\n",
              "73                        Trix (27.75)\n",
              "74                  Wheat_Chex (49.79)\n",
              "75                    Wheaties (51.59)\n",
              "76         Wheaties_Honey_Gold (36.19)\n",
              "Name: label, Length: 77, dtype: object"
            ]
          },
          "execution_count": 12,
          "metadata": {},
          "output_type": "execute_result"
        }
      ],
      "source": [
        "cereal_label"
      ]
    },
    {
      "cell_type": "markdown",
      "metadata": {
        "id": "IU0H4nTMnLvZ"
      },
      "source": [
        "#### Missing value analysis"
      ]
    },
    {
      "cell_type": "code",
      "execution_count": null,
      "metadata": {
        "id": "REyUMxdynLvZ",
        "outputId": "c73ce6e0-1d39-476d-e9cd-0b556021c776"
      },
      "outputs": [
        {
          "data": {
            "text/plain": [
              "calories    0\n",
              "protein     0\n",
              "fat         0\n",
              "sodium      0\n",
              "fiber       0\n",
              "carbo       1\n",
              "sugars      1\n",
              "potass      2\n",
              "vitamins    0\n",
              "weight      0\n",
              "cups        0\n",
              "dtype: int64"
            ]
          },
          "execution_count": 13,
          "metadata": {},
          "output_type": "execute_result"
        }
      ],
      "source": [
        "cereals.isnull().sum(axis=0)"
      ]
    },
    {
      "cell_type": "code",
      "execution_count": null,
      "metadata": {
        "id": "27hBNx_BnLva",
        "outputId": "e1387ddf-beb5-4629-8961-4ca182127fac"
      },
      "outputs": [
        {
          "data": {
            "text/plain": [
              "SimpleImputer()"
            ]
          },
          "execution_count": 14,
          "metadata": {},
          "output_type": "execute_result"
        }
      ],
      "source": [
        "from sklearn.impute import SimpleImputer \n",
        "mean_imputer = SimpleImputer(strategy='mean')\n",
        "mean_imputer.fit(cereals)\n",
        "mean_imputer"
      ]
    },
    {
      "cell_type": "code",
      "execution_count": null,
      "metadata": {
        "id": "xsZaXEMonLva",
        "outputId": "38ddbb6c-6ea0-42ca-8128-4dbe0a2291a1"
      },
      "outputs": [
        {
          "data": {
            "text/plain": [
              "calories    0\n",
              "protein     0\n",
              "fat         0\n",
              "sodium      0\n",
              "fiber       0\n",
              "carbo       1\n",
              "sugars      1\n",
              "potass      2\n",
              "vitamins    0\n",
              "weight      0\n",
              "cups        0\n",
              "dtype: int64"
            ]
          },
          "execution_count": 15,
          "metadata": {},
          "output_type": "execute_result"
        }
      ],
      "source": [
        "cereals.isnull().sum"
      ]
    },
    {
      "cell_type": "code",
      "execution_count": null,
      "metadata": {
        "id": "oz9lOmkanLva"
      },
      "outputs": [],
      "source": [
        "cereals = pd.DataFrame(mean_imputer.transform(cereals),columns=cereals.columns)"
      ]
    },
    {
      "cell_type": "code",
      "execution_count": null,
      "metadata": {
        "id": "MWIlZOLznLvb",
        "outputId": "9948b546-25a5-462c-f070-8dbb9048a619"
      },
      "outputs": [
        {
          "data": {
            "text/plain": [
              "calories    0\n",
              "protein     0\n",
              "fat         0\n",
              "sodium      0\n",
              "fiber       0\n",
              "carbo       0\n",
              "sugars      0\n",
              "potass      0\n",
              "vitamins    0\n",
              "weight      0\n",
              "cups        0\n",
              "dtype: int64"
            ]
          },
          "execution_count": 17,
          "metadata": {},
          "output_type": "execute_result"
        }
      ],
      "source": [
        "cereals.isnull().sum(axis=0)"
      ]
    },
    {
      "cell_type": "markdown",
      "metadata": {
        "id": "bJGV9B3QnLvb"
      },
      "source": [
        "#### Data Standardization"
      ]
    },
    {
      "cell_type": "code",
      "execution_count": null,
      "metadata": {
        "id": "ORZD02-AnLvb",
        "outputId": "d7e95d0c-b270-4107-beb1-f8338f98521d"
      },
      "outputs": [
        {
          "data": {
            "text/html": [
              "<div>\n",
              "<style scoped>\n",
              "    .dataframe tbody tr th:only-of-type {\n",
              "        vertical-align: middle;\n",
              "    }\n",
              "\n",
              "    .dataframe tbody tr th {\n",
              "        vertical-align: top;\n",
              "    }\n",
              "\n",
              "    .dataframe thead th {\n",
              "        text-align: right;\n",
              "    }\n",
              "</style>\n",
              "<table border=\"1\" class=\"dataframe\">\n",
              "  <thead>\n",
              "    <tr style=\"text-align: right;\">\n",
              "      <th></th>\n",
              "      <th>0</th>\n",
              "      <th>1</th>\n",
              "      <th>2</th>\n",
              "      <th>3</th>\n",
              "      <th>4</th>\n",
              "      <th>5</th>\n",
              "      <th>6</th>\n",
              "      <th>7</th>\n",
              "      <th>8</th>\n",
              "      <th>9</th>\n",
              "      <th>10</th>\n",
              "    </tr>\n",
              "  </thead>\n",
              "  <tbody>\n",
              "    <tr>\n",
              "      <th>0</th>\n",
              "      <td>-1.905397</td>\n",
              "      <td>1.337319</td>\n",
              "      <td>-0.012988</td>\n",
              "      <td>-0.356306</td>\n",
              "      <td>3.314439</td>\n",
              "      <td>-2.542013</td>\n",
              "      <td>-0.237495</td>\n",
              "      <td>2.627053</td>\n",
              "      <td>-0.14627</td>\n",
              "      <td>-0.198067</td>\n",
              "      <td>-2.123870</td>\n",
              "    </tr>\n",
              "    <tr>\n",
              "      <th>1</th>\n",
              "      <td>0.677623</td>\n",
              "      <td>0.417912</td>\n",
              "      <td>3.987349</td>\n",
              "      <td>-1.737087</td>\n",
              "      <td>-0.064172</td>\n",
              "      <td>-1.764055</td>\n",
              "      <td>0.225316</td>\n",
              "      <td>0.526376</td>\n",
              "      <td>-1.27255</td>\n",
              "      <td>-0.198067</td>\n",
              "      <td>0.774053</td>\n",
              "    </tr>\n",
              "    <tr>\n",
              "      <th>2</th>\n",
              "      <td>-1.905397</td>\n",
              "      <td>1.337319</td>\n",
              "      <td>-0.012988</td>\n",
              "      <td>1.204578</td>\n",
              "      <td>2.892113</td>\n",
              "      <td>-2.023374</td>\n",
              "      <td>-0.468901</td>\n",
              "      <td>3.206550</td>\n",
              "      <td>-0.14627</td>\n",
              "      <td>-0.198067</td>\n",
              "      <td>-2.123870</td>\n",
              "    </tr>\n",
              "    <tr>\n",
              "      <th>3</th>\n",
              "      <td>-2.938605</td>\n",
              "      <td>1.337319</td>\n",
              "      <td>-1.013072</td>\n",
              "      <td>-0.236238</td>\n",
              "      <td>5.003745</td>\n",
              "      <td>-1.764055</td>\n",
              "      <td>-1.625929</td>\n",
              "      <td>3.351425</td>\n",
              "      <td>-0.14627</td>\n",
              "      <td>-0.198067</td>\n",
              "      <td>-1.388576</td>\n",
              "    </tr>\n",
              "    <tr>\n",
              "      <th>4</th>\n",
              "      <td>0.161019</td>\n",
              "      <td>-0.501495</td>\n",
              "      <td>0.987096</td>\n",
              "      <td>0.484170</td>\n",
              "      <td>-0.486498</td>\n",
              "      <td>-0.208138</td>\n",
              "      <td>0.225316</td>\n",
              "      <td>0.000000</td>\n",
              "      <td>-0.14627</td>\n",
              "      <td>-0.198067</td>\n",
              "      <td>-0.307262</td>\n",
              "    </tr>\n",
              "  </tbody>\n",
              "</table>\n",
              "</div>"
            ],
            "text/plain": [
              "         0         1         2         3         4         5         6   \\\n",
              "0 -1.905397  1.337319 -0.012988 -0.356306  3.314439 -2.542013 -0.237495   \n",
              "1  0.677623  0.417912  3.987349 -1.737087 -0.064172 -1.764055  0.225316   \n",
              "2 -1.905397  1.337319 -0.012988  1.204578  2.892113 -2.023374 -0.468901   \n",
              "3 -2.938605  1.337319 -1.013072 -0.236238  5.003745 -1.764055 -1.625929   \n",
              "4  0.161019 -0.501495  0.987096  0.484170 -0.486498 -0.208138  0.225316   \n",
              "\n",
              "         7        8         9         10  \n",
              "0  2.627053 -0.14627 -0.198067 -2.123870  \n",
              "1  0.526376 -1.27255 -0.198067  0.774053  \n",
              "2  3.206550 -0.14627 -0.198067 -2.123870  \n",
              "3  3.351425 -0.14627 -0.198067 -1.388576  \n",
              "4  0.000000 -0.14627 -0.198067 -0.307262  "
            ]
          },
          "execution_count": 18,
          "metadata": {},
          "output_type": "execute_result"
        }
      ],
      "source": [
        "from sklearn.preprocessing import StandardScaler\n",
        "standardizer = StandardScaler()\n",
        "standardizer.fit(cereals)\n",
        "cereals_std = pd.DataFrame(standardizer.transform(cereals))\n",
        "cereals_std.head()"
      ]
    },
    {
      "cell_type": "code",
      "execution_count": null,
      "metadata": {
        "id": "CQyke6EynLvb",
        "outputId": "da1ebe76-711c-486d-b008-532ae1fd1b84"
      },
      "outputs": [
        {
          "data": {
            "text/html": [
              "<div>\n",
              "<style scoped>\n",
              "    .dataframe tbody tr th:only-of-type {\n",
              "        vertical-align: middle;\n",
              "    }\n",
              "\n",
              "    .dataframe tbody tr th {\n",
              "        vertical-align: top;\n",
              "    }\n",
              "\n",
              "    .dataframe thead th {\n",
              "        text-align: right;\n",
              "    }\n",
              "</style>\n",
              "<table border=\"1\" class=\"dataframe\">\n",
              "  <thead>\n",
              "    <tr style=\"text-align: right;\">\n",
              "      <th></th>\n",
              "      <th>0</th>\n",
              "      <th>1</th>\n",
              "      <th>2</th>\n",
              "      <th>3</th>\n",
              "      <th>4</th>\n",
              "      <th>5</th>\n",
              "      <th>6</th>\n",
              "      <th>7</th>\n",
              "      <th>8</th>\n",
              "      <th>9</th>\n",
              "      <th>10</th>\n",
              "    </tr>\n",
              "  </thead>\n",
              "  <tbody>\n",
              "    <tr>\n",
              "      <th>count</th>\n",
              "      <td>7.700000e+01</td>\n",
              "      <td>7.700000e+01</td>\n",
              "      <td>7.700000e+01</td>\n",
              "      <td>7.700000e+01</td>\n",
              "      <td>7.700000e+01</td>\n",
              "      <td>7.700000e+01</td>\n",
              "      <td>7.700000e+01</td>\n",
              "      <td>7.700000e+01</td>\n",
              "      <td>7.700000e+01</td>\n",
              "      <td>7.700000e+01</td>\n",
              "      <td>7.700000e+01</td>\n",
              "    </tr>\n",
              "    <tr>\n",
              "      <th>mean</th>\n",
              "      <td>-1.258012e-16</td>\n",
              "      <td>5.767392e-17</td>\n",
              "      <td>1.013349e-16</td>\n",
              "      <td>-5.190653e-17</td>\n",
              "      <td>1.463476e-16</td>\n",
              "      <td>-4.527403e-16</td>\n",
              "      <td>-2.144749e-16</td>\n",
              "      <td>-4.758099e-17</td>\n",
              "      <td>5.190653e-17</td>\n",
              "      <td>-1.982541e-16</td>\n",
              "      <td>1.665335e-16</td>\n",
              "    </tr>\n",
              "    <tr>\n",
              "      <th>std</th>\n",
              "      <td>1.006557e+00</td>\n",
              "      <td>1.006557e+00</td>\n",
              "      <td>1.006557e+00</td>\n",
              "      <td>1.006557e+00</td>\n",
              "      <td>1.006557e+00</td>\n",
              "      <td>1.006557e+00</td>\n",
              "      <td>1.006557e+00</td>\n",
              "      <td>1.006557e+00</td>\n",
              "      <td>1.006557e+00</td>\n",
              "      <td>1.006557e+00</td>\n",
              "      <td>1.006557e+00</td>\n",
              "    </tr>\n",
              "    <tr>\n",
              "      <th>min</th>\n",
              "      <td>-2.938605e+00</td>\n",
              "      <td>-1.420902e+00</td>\n",
              "      <td>-1.013072e+00</td>\n",
              "      <td>-1.917189e+00</td>\n",
              "      <td>-9.088244e-01</td>\n",
              "      <td>-2.542013e+00</td>\n",
              "      <td>-1.625929e+00</td>\n",
              "      <td>-1.212115e+00</td>\n",
              "      <td>-1.272550e+00</td>\n",
              "      <td>-3.542628e+00</td>\n",
              "      <td>-2.469891e+00</td>\n",
              "    </tr>\n",
              "    <tr>\n",
              "      <th>25%</th>\n",
              "      <td>-3.555846e-01</td>\n",
              "      <td>-5.014948e-01</td>\n",
              "      <td>-1.013072e+00</td>\n",
              "      <td>-3.563056e-01</td>\n",
              "      <td>-4.864980e-01</td>\n",
              "      <td>-7.267769e-01</td>\n",
              "      <td>-9.317120e-01</td>\n",
              "      <td>-7.774919e-01</td>\n",
              "      <td>-1.462701e-01</td>\n",
              "      <td>-1.980675e-01</td>\n",
              "      <td>-6.532825e-01</td>\n",
              "    </tr>\n",
              "    <tr>\n",
              "      <th>50%</th>\n",
              "      <td>1.610194e-01</td>\n",
              "      <td>4.179123e-01</td>\n",
              "      <td>-1.298811e-02</td>\n",
              "      <td>2.440343e-01</td>\n",
              "      <td>-6.417167e-02</td>\n",
              "      <td>-4.606439e-16</td>\n",
              "      <td>-6.089621e-03</td>\n",
              "      <td>-1.255577e-01</td>\n",
              "      <td>-1.462701e-01</td>\n",
              "      <td>-1.980675e-01</td>\n",
              "      <td>-3.072619e-01</td>\n",
              "    </tr>\n",
              "    <tr>\n",
              "      <th>75%</th>\n",
              "      <td>1.610194e-01</td>\n",
              "      <td>4.179123e-01</td>\n",
              "      <td>9.870962e-01</td>\n",
              "      <td>6.042382e-01</td>\n",
              "      <td>3.581547e-01</td>\n",
              "      <td>5.698204e-01</td>\n",
              "      <td>9.195328e-01</td>\n",
              "      <td>3.090651e-01</td>\n",
              "      <td>-1.462701e-01</td>\n",
              "      <td>-1.980675e-01</td>\n",
              "      <td>7.740527e-01</td>\n",
              "    </tr>\n",
              "    <tr>\n",
              "      <th>max</th>\n",
              "      <td>2.744040e+00</td>\n",
              "      <td>3.176134e+00</td>\n",
              "      <td>3.987349e+00</td>\n",
              "      <td>1.924986e+00</td>\n",
              "      <td>5.003745e+00</td>\n",
              "      <td>2.125737e+00</td>\n",
              "      <td>1.845155e+00</td>\n",
              "      <td>3.351425e+00</td>\n",
              "      <td>3.232570e+00</td>\n",
              "      <td>3.146493e+00</td>\n",
              "      <td>2.936682e+00</td>\n",
              "    </tr>\n",
              "  </tbody>\n",
              "</table>\n",
              "</div>"
            ],
            "text/plain": [
              "                 0             1             2             3             4   \\\n",
              "count  7.700000e+01  7.700000e+01  7.700000e+01  7.700000e+01  7.700000e+01   \n",
              "mean  -1.258012e-16  5.767392e-17  1.013349e-16 -5.190653e-17  1.463476e-16   \n",
              "std    1.006557e+00  1.006557e+00  1.006557e+00  1.006557e+00  1.006557e+00   \n",
              "min   -2.938605e+00 -1.420902e+00 -1.013072e+00 -1.917189e+00 -9.088244e-01   \n",
              "25%   -3.555846e-01 -5.014948e-01 -1.013072e+00 -3.563056e-01 -4.864980e-01   \n",
              "50%    1.610194e-01  4.179123e-01 -1.298811e-02  2.440343e-01 -6.417167e-02   \n",
              "75%    1.610194e-01  4.179123e-01  9.870962e-01  6.042382e-01  3.581547e-01   \n",
              "max    2.744040e+00  3.176134e+00  3.987349e+00  1.924986e+00  5.003745e+00   \n",
              "\n",
              "                 5             6             7             8             9   \\\n",
              "count  7.700000e+01  7.700000e+01  7.700000e+01  7.700000e+01  7.700000e+01   \n",
              "mean  -4.527403e-16 -2.144749e-16 -4.758099e-17  5.190653e-17 -1.982541e-16   \n",
              "std    1.006557e+00  1.006557e+00  1.006557e+00  1.006557e+00  1.006557e+00   \n",
              "min   -2.542013e+00 -1.625929e+00 -1.212115e+00 -1.272550e+00 -3.542628e+00   \n",
              "25%   -7.267769e-01 -9.317120e-01 -7.774919e-01 -1.462701e-01 -1.980675e-01   \n",
              "50%   -4.606439e-16 -6.089621e-03 -1.255577e-01 -1.462701e-01 -1.980675e-01   \n",
              "75%    5.698204e-01  9.195328e-01  3.090651e-01 -1.462701e-01 -1.980675e-01   \n",
              "max    2.125737e+00  1.845155e+00  3.351425e+00  3.232570e+00  3.146493e+00   \n",
              "\n",
              "                 10  \n",
              "count  7.700000e+01  \n",
              "mean   1.665335e-16  \n",
              "std    1.006557e+00  \n",
              "min   -2.469891e+00  \n",
              "25%   -6.532825e-01  \n",
              "50%   -3.072619e-01  \n",
              "75%    7.740527e-01  \n",
              "max    2.936682e+00  "
            ]
          },
          "execution_count": 19,
          "metadata": {},
          "output_type": "execute_result"
        }
      ],
      "source": [
        "cereals_std.describe()"
      ]
    },
    {
      "cell_type": "code",
      "execution_count": null,
      "metadata": {
        "id": "pmyF6fuonLvc",
        "outputId": "b93dc3b9-b530-4071-dcd4-a89873a1f17a"
      },
      "outputs": [
        {
          "data": {
            "text/plain": [
              "0     0\n",
              "1     0\n",
              "2     0\n",
              "3     0\n",
              "4     0\n",
              "5     0\n",
              "6     0\n",
              "7     0\n",
              "8     0\n",
              "9     0\n",
              "10    0\n",
              "dtype: int64"
            ]
          },
          "execution_count": 20,
          "metadata": {},
          "output_type": "execute_result"
        }
      ],
      "source": [
        "cereals_std.isna().sum()"
      ]
    },
    {
      "cell_type": "markdown",
      "metadata": {
        "id": "8QcIMa-tnLvc"
      },
      "source": [
        "### Agglomerative Clustering"
      ]
    },
    {
      "cell_type": "code",
      "execution_count": null,
      "metadata": {
        "id": "vffMfsSxnLvc"
      },
      "outputs": [],
      "source": [
        "from sklearn.cluster import AgglomerativeClustering\n",
        "import scipy.cluster.hierarchy as shc\n",
        "import matplotlib.pyplot as plt"
      ]
    },
    {
      "cell_type": "code",
      "execution_count": null,
      "metadata": {
        "id": "WfDFwTq8nLvc",
        "outputId": "db93d1b7-2ae7-4f19-911c-ba56db6b35cb"
      },
      "outputs": [
        {
          "data": {
            "image/png": "[encoded data removed]",
            "text/plain": [
              "<Figure size 576x576 with 1 Axes>"
            ]
          },
          "metadata": {
            "needs_background": "light"
          },
          "output_type": "display_data"
        }
      ],
      "source": [
        "plt.figure(figsize =(8, 8))\n",
        "plt.title('Visualising the data')\n",
        "Dendrogram = shc.dendrogram((shc.linkage(cereals_std, method ='ward')))"
      ]
    },
    {
      "cell_type": "code",
      "execution_count": null,
      "metadata": {
        "id": "TetqmDSEnLvc",
        "outputId": "ce47bfa7-f6d2-4ac5-9c28-be07739bafab"
      },
      "outputs": [
        {
          "data": {
            "image/png": "[encoded data removed]",
            "text/plain": [
              "<Figure size 216x216 with 1 Axes>"
            ]
          },
          "metadata": {
            "needs_background": "light"
          },
          "output_type": "display_data"
        }
      ],
      "source": [
        "ac2 = AgglomerativeClustering(n_clusters = 2)\n",
        "  \n",
        "# Visualizing the clustering\n",
        "plt.figure(figsize =(3, 3))\n",
        "plt.scatter(cereals_std.iloc[:,0], cereals_std.iloc[:,1], \n",
        "           c = ac2.fit_predict(cereals_std), cmap ='rainbow')\n",
        "plt.show()"
      ]
    },
    {
      "cell_type": "code",
      "execution_count": null,
      "metadata": {
        "id": "V2wtXZaxnLvc",
        "outputId": "6822ca0d-7f80-42d4-95cb-5112f8061114"
      },
      "outputs": [
        {
          "data": {
            "image/png": "[encoded data removed]",
            "text/plain": [
              "<Figure size 216x216 with 1 Axes>"
            ]
          },
          "metadata": {
            "needs_background": "light"
          },
          "output_type": "display_data"
        }
      ],
      "source": [
        "ac2 = AgglomerativeClustering(n_clusters = 4)\n",
        "  \n",
        "# Visualizing the clustering\n",
        "plt.figure(figsize =(3, 3))\n",
        "plt.scatter(cereals_std.iloc[:,0], cereals_std.iloc[:,1], \n",
        "           c = ac2.fit_predict(cereals_std), cmap ='rainbow')\n",
        "plt.show()"
      ]
    },
    {
      "cell_type": "code",
      "execution_count": null,
      "metadata": {
        "id": "k8l73p5enLvd",
        "outputId": "75b94cbf-ab08-4e19-b08a-ee733e56baea"
      },
      "outputs": [
        {
          "data": {
            "image/png": "[encoded data removed]",
            "text/plain": [
              "<Figure size 216x216 with 1 Axes>"
            ]
          },
          "metadata": {
            "needs_background": "light"
          },
          "output_type": "display_data"
        }
      ],
      "source": [
        "ac2 = AgglomerativeClustering(n_clusters = 5)\n",
        "  \n",
        "# Visualizing the clustering\n",
        "plt.figure(figsize =(3, 3))\n",
        "plt.scatter(cereals_std.iloc[:,0], cereals_std.iloc[:,1], \n",
        "           c = ac2.fit_predict(cereals_std), cmap ='rainbow')\n",
        "plt.show()"
      ]
    },
    {
      "cell_type": "code",
      "execution_count": null,
      "metadata": {
        "id": "LwqZrOLgnLvd"
      },
      "outputs": [],
      "source": []
    },
    {
      "cell_type": "code",
      "execution_count": null,
      "metadata": {
        "id": "Kh2R-2NRnLvd"
      },
      "outputs": [],
      "source": []
    },
    {
      "cell_type": "markdown",
      "metadata": {
        "id": "gMcT-vognLvd"
      },
      "source": [
        "### K-Means Clustering"
      ]
    },
    {
      "cell_type": "markdown",
      "metadata": {
        "id": "zsGEphmLnLvd"
      },
      "source": [
        "- Kmeans is a distance based iterative technique, where the instances that are \"closer\" are \"grouped\" together forming a \"cluster\". \n",
        "- This \"closeness\" is computed by distances,by default, Euclidean distances\n",
        "- We need to specify prior, how many clusters we want to get.\n",
        "- What is iterative in this case?\n",
        "    - We specify a number of clusters we need, so in the first iteration, centroids(centre) of the cluster are randomly picked in the data (this centroid need not be a data point but could be any other point as well). For eg: if we need 3 clusters, 3 centroids are randomly picked.\n",
        "    - Now with respect to each of these centroids, distance is computed for each of the points in the data and the data point is assigned to that cluster for which the point's distance is closest to its centroid. This is \"Assignment phase\".\n",
        "    - Once all points are assigned to the clusters, new centroids are computed from the points of each cluster (in 2d it is (x1+x2)/2, (y1+y2)/2)..remember this formula :)\n",
        "    - Once, this new centroids are computed, the assignment phase starts-- compute the distance between each of the data points with each of the new centroids and assign the point to the closest cluster. After assignment, the new cluster centroids are computed. This process continues until there is no change in cluster centroids from previous iteration"
      ]
    },
    {
      "cell_type": "code",
      "execution_count": null,
      "metadata": {
        "id": "tk9GWuBdnLvd",
        "outputId": "e2aa6e4f-2d93-4c99-d737-2db16f31dc9c"
      },
      "outputs": [
        {
          "data": {
            "text/plain": [
              "66"
            ]
          },
          "execution_count": 93,
          "metadata": {},
          "output_type": "execute_result"
        }
      ],
      "source": [
        "np.random.seed(121)\n",
        "np.random.randint(0,100)"
      ]
    },
    {
      "cell_type": "code",
      "execution_count": null,
      "metadata": {
        "id": "aMlnrYU8nLvd"
      },
      "outputs": [],
      "source": [
        "from sklearn.cluster import KMeans\n",
        "kmeans_object = KMeans(n_clusters=5, random_state=1240)\n",
        "kmeans_object.fit(cereals_std)\n",
        "\n",
        "\n",
        "kmeans_clusters = kmeans_object.labels_"
      ]
    },
    {
      "cell_type": "code",
      "execution_count": null,
      "metadata": {
        "id": "YaFAelqlnLve",
        "outputId": "adacd4e8-fe6e-4ead-bc6b-838c303d6ed0"
      },
      "outputs": [
        {
          "data": {
            "text/plain": [
              "array([4, 2, 4, 4, 2, 2, 2, 0, 2, 2, 2, 1, 2, 2, 2, 1, 1, 2, 2, 2, 3, 1,\n",
              "       2, 1, 2, 2, 3, 0, 0, 2, 2, 2, 2, 2, 2, 2, 2, 2, 1, 0, 1, 2, 2, 3,\n",
              "       0, 0, 0, 2, 2, 0, 1, 0, 0, 1, 3, 3, 2, 3, 0, 2, 3, 1, 1, 3, 3, 3,\n",
              "       2, 1, 3, 1, 0, 1, 1, 2, 1, 1, 2], dtype=int32)"
            ]
          },
          "execution_count": 18,
          "metadata": {},
          "output_type": "execute_result"
        }
      ],
      "source": [
        "kmeans_clusters"
      ]
    },
    {
      "cell_type": "code",
      "execution_count": null,
      "metadata": {
        "id": "lggI8h11nLve",
        "outputId": "0ca78cf4-2938-41ae-c6f6-a1b37ceae94d"
      },
      "outputs": [
        {
          "data": {
            "text/plain": [
              "(array([0, 1, 2, 3, 4], dtype=int32), array([12, 17, 34, 11,  3]))"
            ]
          },
          "execution_count": 19,
          "metadata": {},
          "output_type": "execute_result"
        }
      ],
      "source": [
        "np.unique(kmeans_clusters, return_counts=True)"
      ]
    },
    {
      "cell_type": "code",
      "execution_count": null,
      "metadata": {
        "id": "vmVrdQdznLve",
        "outputId": "63ed9e13-9478-4b26-8505-51d4e5cbb437"
      },
      "outputs": [
        {
          "data": {
            "text/html": [
              "<div>\n",
              "<style scoped>\n",
              "    .dataframe tbody tr th:only-of-type {\n",
              "        vertical-align: middle;\n",
              "    }\n",
              "\n",
              "    .dataframe tbody tr th {\n",
              "        vertical-align: top;\n",
              "    }\n",
              "\n",
              "    .dataframe thead th {\n",
              "        text-align: right;\n",
              "    }\n",
              "</style>\n",
              "<table border=\"1\" class=\"dataframe\">\n",
              "  <thead>\n",
              "    <tr style=\"text-align: right;\">\n",
              "      <th></th>\n",
              "      <th>label</th>\n",
              "      <th>kmeans_cluster</th>\n",
              "    </tr>\n",
              "  </thead>\n",
              "  <tbody>\n",
              "    <tr>\n",
              "      <th>0</th>\n",
              "      <td>100%_Bran (68.4)</td>\n",
              "      <td>4</td>\n",
              "    </tr>\n",
              "    <tr>\n",
              "      <th>1</th>\n",
              "      <td>100%_Natural_Bran (33.98)</td>\n",
              "      <td>2</td>\n",
              "    </tr>\n",
              "    <tr>\n",
              "      <th>2</th>\n",
              "      <td>All-Bran (59.43)</td>\n",
              "      <td>4</td>\n",
              "    </tr>\n",
              "    <tr>\n",
              "      <th>3</th>\n",
              "      <td>All-Bran_with_Extra_Fiber (93.7)</td>\n",
              "      <td>4</td>\n",
              "    </tr>\n",
              "    <tr>\n",
              "      <th>4</th>\n",
              "      <td>Almond_Delight (34.38)</td>\n",
              "      <td>2</td>\n",
              "    </tr>\n",
              "  </tbody>\n",
              "</table>\n",
              "</div>"
            ],
            "text/plain": [
              "                              label  kmeans_cluster\n",
              "0                  100%_Bran (68.4)               4\n",
              "1         100%_Natural_Bran (33.98)               2\n",
              "2                  All-Bran (59.43)               4\n",
              "3  All-Bran_with_Extra_Fiber (93.7)               4\n",
              "4            Almond_Delight (34.38)               2"
            ]
          },
          "execution_count": 20,
          "metadata": {},
          "output_type": "execute_result"
        }
      ],
      "source": [
        "kmeans_results = pd.DataFrame({\"label\":cereal_label,\"kmeans_cluster\":kmeans_clusters})\n",
        "kmeans_results.head()"
      ]
    },
    {
      "cell_type": "markdown",
      "metadata": {
        "id": "tXro21KunLve"
      },
      "source": [
        "#### Inspecting cluster centroids to understand average statistics of each cluster"
      ]
    },
    {
      "cell_type": "code",
      "execution_count": null,
      "metadata": {
        "id": "drkEbFQRnLve",
        "outputId": "4be2970e-4b32-4744-9d2c-2e288625173d"
      },
      "outputs": [
        {
          "data": {
            "text/html": [
              "<div>\n",
              "<style scoped>\n",
              "    .dataframe tbody tr th:only-of-type {\n",
              "        vertical-align: middle;\n",
              "    }\n",
              "\n",
              "    .dataframe tbody tr th {\n",
              "        vertical-align: top;\n",
              "    }\n",
              "\n",
              "    .dataframe thead th {\n",
              "        text-align: right;\n",
              "    }\n",
              "</style>\n",
              "<table border=\"1\" class=\"dataframe\">\n",
              "  <thead>\n",
              "    <tr style=\"text-align: right;\">\n",
              "      <th></th>\n",
              "      <th>calories</th>\n",
              "      <th>protein</th>\n",
              "      <th>fat</th>\n",
              "      <th>sodium</th>\n",
              "      <th>fiber</th>\n",
              "      <th>carbo</th>\n",
              "      <th>sugars</th>\n",
              "      <th>potass</th>\n",
              "      <th>vitamins</th>\n",
              "      <th>weight</th>\n",
              "      <th>cups</th>\n",
              "    </tr>\n",
              "  </thead>\n",
              "  <tbody>\n",
              "    <tr>\n",
              "      <th>0</th>\n",
              "      <td>135.000000</td>\n",
              "      <td>3.166667</td>\n",
              "      <td>1.666667</td>\n",
              "      <td>180.416667</td>\n",
              "      <td>3.541667</td>\n",
              "      <td>15.625000</td>\n",
              "      <td>10.916667</td>\n",
              "      <td>172.083333</td>\n",
              "      <td>37.500000</td>\n",
              "      <td>1.287500</td>\n",
              "      <td>0.758333</td>\n",
              "    </tr>\n",
              "    <tr>\n",
              "      <th>1</th>\n",
              "      <td>105.294118</td>\n",
              "      <td>2.705882</td>\n",
              "      <td>0.529412</td>\n",
              "      <td>237.058824</td>\n",
              "      <td>1.176471</td>\n",
              "      <td>19.294118</td>\n",
              "      <td>3.000000</td>\n",
              "      <td>62.352941</td>\n",
              "      <td>42.647059</td>\n",
              "      <td>1.000000</td>\n",
              "      <td>1.002941</td>\n",
              "    </tr>\n",
              "    <tr>\n",
              "      <th>2</th>\n",
              "      <td>108.529412</td>\n",
              "      <td>2.058824</td>\n",
              "      <td>1.294118</td>\n",
              "      <td>161.029412</td>\n",
              "      <td>1.397059</td>\n",
              "      <td>12.661765</td>\n",
              "      <td>9.411765</td>\n",
              "      <td>74.078431</td>\n",
              "      <td>24.264706</td>\n",
              "      <td>1.000000</td>\n",
              "      <td>0.782353</td>\n",
              "    </tr>\n",
              "    <tr>\n",
              "      <th>3</th>\n",
              "      <td>85.454545</td>\n",
              "      <td>2.727273</td>\n",
              "      <td>0.272727</td>\n",
              "      <td>8.636364</td>\n",
              "      <td>2.063636</td>\n",
              "      <td>15.800239</td>\n",
              "      <td>2.547847</td>\n",
              "      <td>93.060606</td>\n",
              "      <td>9.090909</td>\n",
              "      <td>0.893636</td>\n",
              "      <td>0.846364</td>\n",
              "    </tr>\n",
              "    <tr>\n",
              "      <th>4</th>\n",
              "      <td>63.333333</td>\n",
              "      <td>4.000000</td>\n",
              "      <td>0.666667</td>\n",
              "      <td>176.666667</td>\n",
              "      <td>11.000000</td>\n",
              "      <td>6.666667</td>\n",
              "      <td>3.666667</td>\n",
              "      <td>310.000000</td>\n",
              "      <td>25.000000</td>\n",
              "      <td>1.000000</td>\n",
              "      <td>0.386667</td>\n",
              "    </tr>\n",
              "  </tbody>\n",
              "</table>\n",
              "</div>"
            ],
            "text/plain": [
              "     calories   protein       fat      sodium      fiber      carbo  \\\n",
              "0  135.000000  3.166667  1.666667  180.416667   3.541667  15.625000   \n",
              "1  105.294118  2.705882  0.529412  237.058824   1.176471  19.294118   \n",
              "2  108.529412  2.058824  1.294118  161.029412   1.397059  12.661765   \n",
              "3   85.454545  2.727273  0.272727    8.636364   2.063636  15.800239   \n",
              "4   63.333333  4.000000  0.666667  176.666667  11.000000   6.666667   \n",
              "\n",
              "      sugars      potass   vitamins    weight      cups  \n",
              "0  10.916667  172.083333  37.500000  1.287500  0.758333  \n",
              "1   3.000000   62.352941  42.647059  1.000000  1.002941  \n",
              "2   9.411765   74.078431  24.264706  1.000000  0.782353  \n",
              "3   2.547847   93.060606   9.090909  0.893636  0.846364  \n",
              "4   3.666667  310.000000  25.000000  1.000000  0.386667  "
            ]
          },
          "execution_count": 21,
          "metadata": {},
          "output_type": "execute_result"
        }
      ],
      "source": [
        "## Using inverse_transform to retrive actual values from standardized data\n",
        "cluster_centroids = pd.DataFrame(standardizer.inverse_transform(kmeans_object.cluster_centers_),\n",
        "                                 columns=cereals.columns)   \n",
        "cluster_centroids"
      ]
    },
    {
      "cell_type": "code",
      "execution_count": null,
      "metadata": {
        "id": "ZQB1PYdDnLve"
      },
      "outputs": [],
      "source": [
        "cluster_centroids.to_csv(\"best_kmeans_cluster_centroids.csv\")"
      ]
    },
    {
      "cell_type": "markdown",
      "metadata": {
        "id": "MgdXXrXdnLve"
      },
      "source": [
        "#### In the above case, we have randomly given clusters number. But how would we know the optimal clusters\n",
        "- The clustering is said to be good, if the points in the cluster are closer to each other and the clusters themselves are far apart. The two quantities which describe the above said factors are \"Within Sum of Squares (wss)\" and \"Between Sum of Squares(bss)\" respectively. In kmeans function in python, wss is defined as inertia. \n",
        "- Ideally, if wss is minimum, we have a better clustering. \n",
        "- Now the question is.. how do we choose k "
      ]
    },
    {
      "cell_type": "markdown",
      "metadata": {
        "id": "pxKQ9QkNnLvf"
      },
      "source": [
        "**Parameter description**\n",
        "\n",
        "n_clusters : The number of clusters to find.\n",
        "\n",
        "n_init : Number of time the k-means algorithm will be run with different centroid seeds. The final results will be the best output of n_init consecutive runs in terms of inertia.\n",
        "\n",
        "max_iter : max iterations of recomputing new cluster centroids "
      ]
    },
    {
      "cell_type": "code",
      "execution_count": null,
      "metadata": {
        "id": "Q98ayltOnLvf"
      },
      "outputs": [],
      "source": [
        "wss= {}\n",
        "for k in range(2, 21):\n",
        "    kmeans_loop = KMeans(n_clusters=k,n_init=30,max_iter=300,random_state=1000).fit(cereals_std)\n",
        "    clusters = kmeans_loop.labels_\n",
        "    wss[k] = kmeans_loop.inertia_ # Inertia: Sum of squared distances of samples to their closest cluster center\n"
      ]
    },
    {
      "cell_type": "code",
      "execution_count": null,
      "metadata": {
        "id": "yrNe1L3KnLvf",
        "outputId": "8865ab99-dc5f-4f4f-cd88-ef7b5e22eb7f"
      },
      "outputs": [
        {
          "data": {
            "image/png": "[encoded data removed]",
            "text/plain": [
              "<Figure size 432x288 with 1 Axes>"
            ]
          },
          "metadata": {
            "needs_background": "light"
          },
          "output_type": "display_data"
        }
      ],
      "source": [
        "import matplotlib.pyplot as plt\n",
        "%matplotlib inline\n",
        "plt.figure()\n",
        "\n",
        "plt.plot(list(wss.keys()),list(wss.values()), 'bx--')\n",
        "plt.xlabel('Number of clusters')\n",
        "plt.ylabel('Total within sum of squares')\n",
        "plt.show()"
      ]
    },
    {
      "cell_type": "markdown",
      "metadata": {
        "id": "ryyOaan6nLvf"
      },
      "source": [
        "### Silhouette Analysis\n",
        "**Higher the silhouette score better the clustering**\n",
        "\n",
        "*The silhouette value is a measure of how similar an object is to its own cluster (cohesion) compared to other clusters (separation). The silhouette ranges from −1 to +1, where a high value indicates that the object is well matched to its own cluster and poorly matched to neighboring clusters. If most objects have a high value, then the clustering configuration is appropriate. If many points have a low or negative value, then the clustering configuration may have too many or too few clusters.*"
      ]
    },
    {
      "cell_type": "code",
      "execution_count": null,
      "metadata": {
        "id": "_VZf5KAInLvf",
        "outputId": "0eeaf2f7-0c01-4790-8cab-26ab8f8eadd3"
      },
      "outputs": [
        {
          "data": {
            "image/png": "[encoded data removed]",
            "text/plain": [
              "<Figure size 432x288 with 1 Axes>"
            ]
          },
          "metadata": {
            "needs_background": "light"
          },
          "output_type": "display_data"
        },
        {
          "data": {
            "image/png": "[encoded data removed]",
            "text/plain": [
              "<Figure size 432x288 with 1 Axes>"
            ]
          },
          "metadata": {
            "needs_background": "light"
          },
          "output_type": "display_data"
        },
        {
          "data": {
            "image/png": "[encoded data removed]",
            "text/plain": [
              "<Figure size 432x288 with 1 Axes>"
            ]
          },
          "metadata": {
            "needs_background": "light"
          },
          "output_type": "display_data"
        },
        {
          "data": {
            "image/png": "[encoded data removed]",
            "text/plain": [
              "<Figure size 432x288 with 1 Axes>"
            ]
          },
          "metadata": {
            "needs_background": "light"
          },
          "output_type": "display_data"
        },
        {
          "data": {
            "image/png": "[encoded data removed]",
            "text/plain": [
              "<Figure size 432x288 with 1 Axes>"
            ]
          },
          "metadata": {
            "needs_background": "light"
          },
          "output_type": "display_data"
        },
        {
          "data": {
            "image/png": "[encoded data removed]",
            "text/plain": [
              "<Figure size 432x288 with 1 Axes>"
            ]
          },
          "metadata": {
            "needs_background": "light"
          },
          "output_type": "display_data"
        },
        {
          "data": {
            "image/png": "[encoded data removed]",
            "text/plain": [
              "<Figure size 432x288 with 1 Axes>"
            ]
          },
          "metadata": {
            "needs_background": "light"
          },
          "output_type": "display_data"
        },
        {
          "data": {
            "image/png": "[encoded data removed]",
            "text/plain": [
              "<Figure size 432x288 with 1 Axes>"
            ]
          },
          "metadata": {
            "needs_background": "light"
          },
          "output_type": "display_data"
        },
        {
          "data": {
            "image/png": "[encoded data removed]",
            "text/plain": [
              "<Figure size 432x288 with 1 Axes>"
            ]
          },
          "metadata": {
            "needs_background": "light"
          },
          "output_type": "display_data"
        }
      ],
      "source": [
        "## Standard plotting code copied from sklearn documentation.\n",
        "## Just change \"X_matrix\" to the data of your choice\n",
        "\n",
        "from sklearn.metrics import silhouette_samples, silhouette_score\n",
        "import matplotlib.cm as cm\n",
        "\n",
        "### Just change this to your dataframe\n",
        "X_matrix = cereals_std.values\n",
        "\n",
        "range_n_clusters = [3, 4, 5, 6, 7, 8, 9, 10, 11]\n",
        "\n",
        "for n_clusters in range_n_clusters:\n",
        "    fig, (ax1) = plt.subplots()\n",
        "\n",
        "    \n",
        "    # Initialize the clusterer with n_clusters value and a random generator\n",
        "    # seed of 10 for reproducibility.\n",
        "    clusterer = KMeans(n_clusters=n_clusters, random_state=10)\n",
        "    cluster_labels = clusterer.fit_predict(X_matrix)\n",
        "\n",
        "    # The silhouette_score gives the average value for all the samples.\n",
        "    # This gives a perspective into the density and separation of the formed\n",
        "    # clusters\n",
        "    silhouette_avg = silhouette_score(X_matrix, cluster_labels)\n",
        "\n",
        "    # Compute the silhouette scores for each sample\n",
        "    sample_silhouette_values = silhouette_samples(X_matrix, cluster_labels)\n",
        "\n",
        "    y_lower = 0\n",
        "    for i in range(n_clusters):\n",
        "        # Aggregate the silhouette scores for samples belonging to\n",
        "        # cluster i, and sort them\n",
        "        ith_cluster_silhouette_values = \\\n",
        "            sample_silhouette_values[cluster_labels == i]\n",
        "\n",
        "        ith_cluster_silhouette_values.sort()\n",
        "\n",
        "        size_cluster_i = ith_cluster_silhouette_values.shape[0]\n",
        "        y_upper = y_lower + size_cluster_i\n",
        "\n",
        "        color = cm.nipy_spectral(float(i) / n_clusters)\n",
        "        ax1.fill_betweenx(np.arange(y_lower, y_upper),\n",
        "                          0, ith_cluster_silhouette_values,\n",
        "                          facecolor=color, edgecolor=color, alpha=0.7)\n",
        "\n",
        "        # Label the silhouette plots with their cluster numbers at the middle\n",
        "        ax1.text(-0.05, y_lower + 0.5 * size_cluster_i, str(i))\n",
        "\n",
        "        # Compute the new y_lower for next plot\n",
        "        y_lower = y_upper + 10  # 10 for the 0 samples\n",
        "\n",
        "    ax1.set_title(\"The silhouette plot for the various clusters\")\n",
        "    ax1.set_xlabel(\"The silhouette coefficient values\")\n",
        "    ax1.set_ylabel(\"Cluster label\")\n",
        "\n",
        "    # The vertical line for average silhouette score of all the values\n",
        "    ax1.axvline(x=silhouette_avg, color=\"red\", linestyle=\"--\")\n",
        "\n",
        "    ax1.set_yticks([])  # Clear the yaxis labels / ticks\n",
        "    ax1.set_xticks([-0.2, 0, 0.2, 0.4, 0.6, 0.8, 1])\n",
        "\n",
        "    plt.suptitle((\"For %d clusters, silhouette avg coeff = %f \" % (n_clusters,silhouette_avg)),\n",
        "                 fontsize=14, fontweight='bold')\n",
        "    plt.show()"
      ]
    },
    {
      "cell_type": "markdown",
      "metadata": {
        "id": "rVbrZGj1nLvg"
      },
      "source": [
        "#### Note: Higher the silhouette score better the clustering.\n",
        "Hence best K value for this dataset is 8"
      ]
    },
    {
      "cell_type": "code",
      "execution_count": null,
      "metadata": {
        "id": "GkzwDuqlnLvg"
      },
      "outputs": [],
      "source": [
        "best_kmeans = KMeans(n_clusters=8, random_state=1240)\n",
        "best_kmeans.fit(cereals_std)\n",
        "best_kmeans_labels = best_kmeans.labels_"
      ]
    },
    {
      "cell_type": "code",
      "execution_count": null,
      "metadata": {
        "id": "OziiovZwnLvg",
        "outputId": "7e3c5f8e-e269-4d4a-e95e-cb7e545f8502"
      },
      "outputs": [
        {
          "data": {
            "text/html": [
              "<div>\n",
              "<style scoped>\n",
              "    .dataframe tbody tr th:only-of-type {\n",
              "        vertical-align: middle;\n",
              "    }\n",
              "\n",
              "    .dataframe tbody tr th {\n",
              "        vertical-align: top;\n",
              "    }\n",
              "\n",
              "    .dataframe thead th {\n",
              "        text-align: right;\n",
              "    }\n",
              "</style>\n",
              "<table border=\"1\" class=\"dataframe\">\n",
              "  <thead>\n",
              "    <tr style=\"text-align: right;\">\n",
              "      <th></th>\n",
              "      <th>label</th>\n",
              "      <th>kmeans_cluster</th>\n",
              "    </tr>\n",
              "  </thead>\n",
              "  <tbody>\n",
              "    <tr>\n",
              "      <th>0</th>\n",
              "      <td>100%_Bran (68.4)</td>\n",
              "      <td>4</td>\n",
              "    </tr>\n",
              "    <tr>\n",
              "      <th>1</th>\n",
              "      <td>100%_Natural_Bran (33.98)</td>\n",
              "      <td>0</td>\n",
              "    </tr>\n",
              "    <tr>\n",
              "      <th>2</th>\n",
              "      <td>All-Bran (59.43)</td>\n",
              "      <td>4</td>\n",
              "    </tr>\n",
              "    <tr>\n",
              "      <th>3</th>\n",
              "      <td>All-Bran_with_Extra_Fiber (93.7)</td>\n",
              "      <td>4</td>\n",
              "    </tr>\n",
              "    <tr>\n",
              "      <th>4</th>\n",
              "      <td>Almond_Delight (34.38)</td>\n",
              "      <td>1</td>\n",
              "    </tr>\n",
              "  </tbody>\n",
              "</table>\n",
              "</div>"
            ],
            "text/plain": [
              "                              label  kmeans_cluster\n",
              "0                  100%_Bran (68.4)               4\n",
              "1         100%_Natural_Bran (33.98)               0\n",
              "2                  All-Bran (59.43)               4\n",
              "3  All-Bran_with_Extra_Fiber (93.7)               4\n",
              "4            Almond_Delight (34.38)               1"
            ]
          },
          "execution_count": 95,
          "metadata": {},
          "output_type": "execute_result"
        }
      ],
      "source": [
        "kmeans_results = pd.DataFrame({\"label\":cereal_label,\"kmeans_cluster\":best_kmeans_labels})\n",
        "kmeans_results.head()"
      ]
    },
    {
      "cell_type": "code",
      "execution_count": null,
      "metadata": {
        "id": "Y-yKA6wfnLvg",
        "outputId": "983203c3-d552-4ed8-ebc7-5bd903a74a27"
      },
      "outputs": [
        {
          "data": {
            "text/plain": [
              "1    21\n",
              "2    12\n",
              "7    10\n",
              "5    10\n",
              "0     8\n",
              "6     7\n",
              "3     6\n",
              "4     3\n",
              "Name: kmeans_cluster, dtype: int64"
            ]
          },
          "execution_count": 96,
          "metadata": {},
          "output_type": "execute_result"
        }
      ],
      "source": [
        "kmeans_results.kmeans_cluster.value_counts()"
      ]
    },
    {
      "cell_type": "markdown",
      "metadata": {
        "id": "5kk614xYnLvg"
      },
      "source": [
        "### Add Cluster Labels to Original Data"
      ]
    },
    {
      "cell_type": "code",
      "execution_count": null,
      "metadata": {
        "id": "i1XSEXGMnLvg",
        "outputId": "48997646-a1fc-490e-8eaf-20ca3a25c223"
      },
      "outputs": [
        {
          "data": {
            "text/html": [
              "<div>\n",
              "<style scoped>\n",
              "    .dataframe tbody tr th:only-of-type {\n",
              "        vertical-align: middle;\n",
              "    }\n",
              "\n",
              "    .dataframe tbody tr th {\n",
              "        vertical-align: top;\n",
              "    }\n",
              "\n",
              "    .dataframe thead th {\n",
              "        text-align: right;\n",
              "    }\n",
              "</style>\n",
              "<table border=\"1\" class=\"dataframe\">\n",
              "  <thead>\n",
              "    <tr style=\"text-align: right;\">\n",
              "      <th></th>\n",
              "      <th>calories</th>\n",
              "      <th>protein</th>\n",
              "      <th>fat</th>\n",
              "      <th>sodium</th>\n",
              "      <th>fiber</th>\n",
              "      <th>carbo</th>\n",
              "      <th>sugars</th>\n",
              "      <th>potass</th>\n",
              "      <th>vitamins</th>\n",
              "      <th>weight</th>\n",
              "      <th>cups</th>\n",
              "      <th>label</th>\n",
              "      <th>kmeans_cluster</th>\n",
              "    </tr>\n",
              "  </thead>\n",
              "  <tbody>\n",
              "    <tr>\n",
              "      <th>0</th>\n",
              "      <td>70</td>\n",
              "      <td>4</td>\n",
              "      <td>1</td>\n",
              "      <td>130</td>\n",
              "      <td>10.0</td>\n",
              "      <td>5.0</td>\n",
              "      <td>6.0</td>\n",
              "      <td>280.0</td>\n",
              "      <td>25</td>\n",
              "      <td>1.00</td>\n",
              "      <td>0.33</td>\n",
              "      <td>100%_Bran (68.4)</td>\n",
              "      <td>4</td>\n",
              "    </tr>\n",
              "    <tr>\n",
              "      <th>1</th>\n",
              "      <td>120</td>\n",
              "      <td>3</td>\n",
              "      <td>5</td>\n",
              "      <td>15</td>\n",
              "      <td>2.0</td>\n",
              "      <td>8.0</td>\n",
              "      <td>8.0</td>\n",
              "      <td>135.0</td>\n",
              "      <td>0</td>\n",
              "      <td>1.00</td>\n",
              "      <td>1.00</td>\n",
              "      <td>100%_Natural_Bran (33.98)</td>\n",
              "      <td>0</td>\n",
              "    </tr>\n",
              "    <tr>\n",
              "      <th>2</th>\n",
              "      <td>70</td>\n",
              "      <td>4</td>\n",
              "      <td>1</td>\n",
              "      <td>260</td>\n",
              "      <td>9.0</td>\n",
              "      <td>7.0</td>\n",
              "      <td>5.0</td>\n",
              "      <td>320.0</td>\n",
              "      <td>25</td>\n",
              "      <td>1.00</td>\n",
              "      <td>0.33</td>\n",
              "      <td>All-Bran (59.43)</td>\n",
              "      <td>4</td>\n",
              "    </tr>\n",
              "    <tr>\n",
              "      <th>3</th>\n",
              "      <td>50</td>\n",
              "      <td>4</td>\n",
              "      <td>0</td>\n",
              "      <td>140</td>\n",
              "      <td>14.0</td>\n",
              "      <td>8.0</td>\n",
              "      <td>0.0</td>\n",
              "      <td>330.0</td>\n",
              "      <td>25</td>\n",
              "      <td>1.00</td>\n",
              "      <td>0.50</td>\n",
              "      <td>All-Bran_with_Extra_Fiber (93.7)</td>\n",
              "      <td>4</td>\n",
              "    </tr>\n",
              "    <tr>\n",
              "      <th>4</th>\n",
              "      <td>110</td>\n",
              "      <td>2</td>\n",
              "      <td>2</td>\n",
              "      <td>200</td>\n",
              "      <td>1.0</td>\n",
              "      <td>14.0</td>\n",
              "      <td>8.0</td>\n",
              "      <td>NaN</td>\n",
              "      <td>25</td>\n",
              "      <td>1.00</td>\n",
              "      <td>0.75</td>\n",
              "      <td>Almond_Delight (34.38)</td>\n",
              "      <td>1</td>\n",
              "    </tr>\n",
              "    <tr>\n",
              "      <th>5</th>\n",
              "      <td>110</td>\n",
              "      <td>2</td>\n",
              "      <td>2</td>\n",
              "      <td>180</td>\n",
              "      <td>1.5</td>\n",
              "      <td>10.5</td>\n",
              "      <td>10.0</td>\n",
              "      <td>70.0</td>\n",
              "      <td>25</td>\n",
              "      <td>1.00</td>\n",
              "      <td>0.75</td>\n",
              "      <td>Apple_Cinnamon_Cheerios (29.51)</td>\n",
              "      <td>1</td>\n",
              "    </tr>\n",
              "    <tr>\n",
              "      <th>6</th>\n",
              "      <td>110</td>\n",
              "      <td>2</td>\n",
              "      <td>0</td>\n",
              "      <td>125</td>\n",
              "      <td>1.0</td>\n",
              "      <td>11.0</td>\n",
              "      <td>14.0</td>\n",
              "      <td>30.0</td>\n",
              "      <td>25</td>\n",
              "      <td>1.00</td>\n",
              "      <td>1.00</td>\n",
              "      <td>Apple_Jacks (33.17)</td>\n",
              "      <td>1</td>\n",
              "    </tr>\n",
              "    <tr>\n",
              "      <th>7</th>\n",
              "      <td>130</td>\n",
              "      <td>3</td>\n",
              "      <td>2</td>\n",
              "      <td>210</td>\n",
              "      <td>2.0</td>\n",
              "      <td>18.0</td>\n",
              "      <td>8.0</td>\n",
              "      <td>100.0</td>\n",
              "      <td>25</td>\n",
              "      <td>1.33</td>\n",
              "      <td>0.75</td>\n",
              "      <td>Basic_4 (37.04)</td>\n",
              "      <td>7</td>\n",
              "    </tr>\n",
              "    <tr>\n",
              "      <th>8</th>\n",
              "      <td>90</td>\n",
              "      <td>2</td>\n",
              "      <td>1</td>\n",
              "      <td>200</td>\n",
              "      <td>4.0</td>\n",
              "      <td>15.0</td>\n",
              "      <td>6.0</td>\n",
              "      <td>125.0</td>\n",
              "      <td>25</td>\n",
              "      <td>1.00</td>\n",
              "      <td>0.67</td>\n",
              "      <td>Bran_Chex (49.12)</td>\n",
              "      <td>2</td>\n",
              "    </tr>\n",
              "    <tr>\n",
              "      <th>9</th>\n",
              "      <td>90</td>\n",
              "      <td>3</td>\n",
              "      <td>0</td>\n",
              "      <td>210</td>\n",
              "      <td>5.0</td>\n",
              "      <td>13.0</td>\n",
              "      <td>5.0</td>\n",
              "      <td>190.0</td>\n",
              "      <td>25</td>\n",
              "      <td>1.00</td>\n",
              "      <td>0.67</td>\n",
              "      <td>Bran_Flakes (53.31)</td>\n",
              "      <td>2</td>\n",
              "    </tr>\n",
              "  </tbody>\n",
              "</table>\n",
              "</div>"
            ],
            "text/plain": [
              "   calories  protein  fat  sodium  fiber  carbo  sugars  potass  vitamins  \\\n",
              "0        70        4    1     130   10.0    5.0     6.0   280.0        25   \n",
              "1       120        3    5      15    2.0    8.0     8.0   135.0         0   \n",
              "2        70        4    1     260    9.0    7.0     5.0   320.0        25   \n",
              "3        50        4    0     140   14.0    8.0     0.0   330.0        25   \n",
              "4       110        2    2     200    1.0   14.0     8.0     NaN        25   \n",
              "5       110        2    2     180    1.5   10.5    10.0    70.0        25   \n",
              "6       110        2    0     125    1.0   11.0    14.0    30.0        25   \n",
              "7       130        3    2     210    2.0   18.0     8.0   100.0        25   \n",
              "8        90        2    1     200    4.0   15.0     6.0   125.0        25   \n",
              "9        90        3    0     210    5.0   13.0     5.0   190.0        25   \n",
              "\n",
              "   weight  cups                             label  kmeans_cluster  \n",
              "0    1.00  0.33                  100%_Bran (68.4)               4  \n",
              "1    1.00  1.00         100%_Natural_Bran (33.98)               0  \n",
              "2    1.00  0.33                  All-Bran (59.43)               4  \n",
              "3    1.00  0.50  All-Bran_with_Extra_Fiber (93.7)               4  \n",
              "4    1.00  0.75            Almond_Delight (34.38)               1  \n",
              "5    1.00  0.75   Apple_Cinnamon_Cheerios (29.51)               1  \n",
              "6    1.00  1.00               Apple_Jacks (33.17)               1  \n",
              "7    1.33  0.75                   Basic_4 (37.04)               7  \n",
              "8    1.00  0.67                 Bran_Chex (49.12)               2  \n",
              "9    1.00  0.67               Bran_Flakes (53.31)               2  "
            ]
          },
          "execution_count": 28,
          "metadata": {},
          "output_type": "execute_result"
        }
      ],
      "source": [
        "cereals = pd.read_csv(\"Cereals.csv\")\n",
        "cereals['label'] = cereals['name']+ ' (' + round(cereals['rating'],2).astype(str) + ')'\n",
        "cereals.drop(['name','rating'], axis=1, inplace=True)\n",
        "\n",
        "final_cluster_data = pd.merge(cereals, kmeans_results, on='label')\n",
        "final_cluster_data.head(10)\n"
      ]
    },
    {
      "cell_type": "code",
      "execution_count": null,
      "metadata": {
        "id": "5tW7vFFsnLvh",
        "outputId": "23696af9-2aaa-4619-a4c6-95c6c16a79aa"
      },
      "outputs": [
        {
          "data": {
            "text/html": [
              "<div>\n",
              "<style scoped>\n",
              "    .dataframe tbody tr th:only-of-type {\n",
              "        vertical-align: middle;\n",
              "    }\n",
              "\n",
              "    .dataframe tbody tr th {\n",
              "        vertical-align: top;\n",
              "    }\n",
              "\n",
              "    .dataframe thead th {\n",
              "        text-align: right;\n",
              "    }\n",
              "</style>\n",
              "<table border=\"1\" class=\"dataframe\">\n",
              "  <thead>\n",
              "    <tr style=\"text-align: right;\">\n",
              "      <th></th>\n",
              "      <th>calories</th>\n",
              "      <th>protein</th>\n",
              "      <th>fat</th>\n",
              "      <th>sodium</th>\n",
              "      <th>fiber</th>\n",
              "      <th>carbo</th>\n",
              "      <th>sugars</th>\n",
              "      <th>potass</th>\n",
              "      <th>vitamins</th>\n",
              "      <th>weight</th>\n",
              "      <th>cups</th>\n",
              "      <th>label</th>\n",
              "      <th>kmeans_cluster</th>\n",
              "    </tr>\n",
              "  </thead>\n",
              "  <tbody>\n",
              "    <tr>\n",
              "      <th>8</th>\n",
              "      <td>90</td>\n",
              "      <td>2</td>\n",
              "      <td>1</td>\n",
              "      <td>200</td>\n",
              "      <td>4.0</td>\n",
              "      <td>15.0</td>\n",
              "      <td>6.0</td>\n",
              "      <td>125.0</td>\n",
              "      <td>25</td>\n",
              "      <td>1.0</td>\n",
              "      <td>0.67</td>\n",
              "      <td>Bran_Chex (49.12)</td>\n",
              "      <td>2</td>\n",
              "    </tr>\n",
              "    <tr>\n",
              "      <th>9</th>\n",
              "      <td>90</td>\n",
              "      <td>3</td>\n",
              "      <td>0</td>\n",
              "      <td>210</td>\n",
              "      <td>5.0</td>\n",
              "      <td>13.0</td>\n",
              "      <td>5.0</td>\n",
              "      <td>190.0</td>\n",
              "      <td>25</td>\n",
              "      <td>1.0</td>\n",
              "      <td>0.67</td>\n",
              "      <td>Bran_Flakes (53.31)</td>\n",
              "      <td>2</td>\n",
              "    </tr>\n",
              "    <tr>\n",
              "      <th>11</th>\n",
              "      <td>110</td>\n",
              "      <td>6</td>\n",
              "      <td>2</td>\n",
              "      <td>290</td>\n",
              "      <td>2.0</td>\n",
              "      <td>17.0</td>\n",
              "      <td>1.0</td>\n",
              "      <td>105.0</td>\n",
              "      <td>25</td>\n",
              "      <td>1.0</td>\n",
              "      <td>1.25</td>\n",
              "      <td>Cheerios (50.76)</td>\n",
              "      <td>2</td>\n",
              "    </tr>\n",
              "    <tr>\n",
              "      <th>23</th>\n",
              "      <td>100</td>\n",
              "      <td>2</td>\n",
              "      <td>0</td>\n",
              "      <td>190</td>\n",
              "      <td>1.0</td>\n",
              "      <td>18.0</td>\n",
              "      <td>5.0</td>\n",
              "      <td>80.0</td>\n",
              "      <td>25</td>\n",
              "      <td>1.0</td>\n",
              "      <td>0.75</td>\n",
              "      <td>Double_Chex (44.33)</td>\n",
              "      <td>2</td>\n",
              "    </tr>\n",
              "    <tr>\n",
              "      <th>32</th>\n",
              "      <td>100</td>\n",
              "      <td>3</td>\n",
              "      <td>1</td>\n",
              "      <td>140</td>\n",
              "      <td>3.0</td>\n",
              "      <td>15.0</td>\n",
              "      <td>5.0</td>\n",
              "      <td>85.0</td>\n",
              "      <td>25</td>\n",
              "      <td>1.0</td>\n",
              "      <td>0.88</td>\n",
              "      <td>Grape_Nuts_Flakes (52.08)</td>\n",
              "      <td>2</td>\n",
              "    </tr>\n",
              "    <tr>\n",
              "      <th>33</th>\n",
              "      <td>110</td>\n",
              "      <td>3</td>\n",
              "      <td>0</td>\n",
              "      <td>170</td>\n",
              "      <td>3.0</td>\n",
              "      <td>17.0</td>\n",
              "      <td>3.0</td>\n",
              "      <td>90.0</td>\n",
              "      <td>25</td>\n",
              "      <td>1.0</td>\n",
              "      <td>0.25</td>\n",
              "      <td>Grape-Nuts (53.37)</td>\n",
              "      <td>2</td>\n",
              "    </tr>\n",
              "    <tr>\n",
              "      <th>36</th>\n",
              "      <td>110</td>\n",
              "      <td>3</td>\n",
              "      <td>1</td>\n",
              "      <td>250</td>\n",
              "      <td>1.5</td>\n",
              "      <td>11.5</td>\n",
              "      <td>10.0</td>\n",
              "      <td>90.0</td>\n",
              "      <td>25</td>\n",
              "      <td>1.0</td>\n",
              "      <td>0.75</td>\n",
              "      <td>Honey_Nut_Cheerios (31.07)</td>\n",
              "      <td>2</td>\n",
              "    </tr>\n",
              "    <tr>\n",
              "      <th>47</th>\n",
              "      <td>100</td>\n",
              "      <td>2</td>\n",
              "      <td>1</td>\n",
              "      <td>220</td>\n",
              "      <td>2.0</td>\n",
              "      <td>15.0</td>\n",
              "      <td>6.0</td>\n",
              "      <td>90.0</td>\n",
              "      <td>25</td>\n",
              "      <td>1.0</td>\n",
              "      <td>1.00</td>\n",
              "      <td>Multi-Grain_Cheerios (40.11)</td>\n",
              "      <td>2</td>\n",
              "    </tr>\n",
              "    <tr>\n",
              "      <th>50</th>\n",
              "      <td>90</td>\n",
              "      <td>3</td>\n",
              "      <td>0</td>\n",
              "      <td>170</td>\n",
              "      <td>3.0</td>\n",
              "      <td>18.0</td>\n",
              "      <td>2.0</td>\n",
              "      <td>90.0</td>\n",
              "      <td>25</td>\n",
              "      <td>1.0</td>\n",
              "      <td>1.00</td>\n",
              "      <td>Nutri-grain_Wheat (59.64)</td>\n",
              "      <td>2</td>\n",
              "    </tr>\n",
              "    <tr>\n",
              "      <th>67</th>\n",
              "      <td>110</td>\n",
              "      <td>6</td>\n",
              "      <td>0</td>\n",
              "      <td>230</td>\n",
              "      <td>1.0</td>\n",
              "      <td>16.0</td>\n",
              "      <td>3.0</td>\n",
              "      <td>55.0</td>\n",
              "      <td>25</td>\n",
              "      <td>1.0</td>\n",
              "      <td>1.00</td>\n",
              "      <td>Special_K (53.13)</td>\n",
              "      <td>2</td>\n",
              "    </tr>\n",
              "    <tr>\n",
              "      <th>74</th>\n",
              "      <td>100</td>\n",
              "      <td>3</td>\n",
              "      <td>1</td>\n",
              "      <td>230</td>\n",
              "      <td>3.0</td>\n",
              "      <td>17.0</td>\n",
              "      <td>3.0</td>\n",
              "      <td>115.0</td>\n",
              "      <td>25</td>\n",
              "      <td>1.0</td>\n",
              "      <td>0.67</td>\n",
              "      <td>Wheat_Chex (49.79)</td>\n",
              "      <td>2</td>\n",
              "    </tr>\n",
              "    <tr>\n",
              "      <th>75</th>\n",
              "      <td>100</td>\n",
              "      <td>3</td>\n",
              "      <td>1</td>\n",
              "      <td>200</td>\n",
              "      <td>3.0</td>\n",
              "      <td>17.0</td>\n",
              "      <td>3.0</td>\n",
              "      <td>110.0</td>\n",
              "      <td>25</td>\n",
              "      <td>1.0</td>\n",
              "      <td>1.00</td>\n",
              "      <td>Wheaties (51.59)</td>\n",
              "      <td>2</td>\n",
              "    </tr>\n",
              "  </tbody>\n",
              "</table>\n",
              "</div>"
            ],
            "text/plain": [
              "    calories  protein  fat  sodium  fiber  carbo  sugars  potass  vitamins  \\\n",
              "8         90        2    1     200    4.0   15.0     6.0   125.0        25   \n",
              "9         90        3    0     210    5.0   13.0     5.0   190.0        25   \n",
              "11       110        6    2     290    2.0   17.0     1.0   105.0        25   \n",
              "23       100        2    0     190    1.0   18.0     5.0    80.0        25   \n",
              "32       100        3    1     140    3.0   15.0     5.0    85.0        25   \n",
              "33       110        3    0     170    3.0   17.0     3.0    90.0        25   \n",
              "36       110        3    1     250    1.5   11.5    10.0    90.0        25   \n",
              "47       100        2    1     220    2.0   15.0     6.0    90.0        25   \n",
              "50        90        3    0     170    3.0   18.0     2.0    90.0        25   \n",
              "67       110        6    0     230    1.0   16.0     3.0    55.0        25   \n",
              "74       100        3    1     230    3.0   17.0     3.0   115.0        25   \n",
              "75       100        3    1     200    3.0   17.0     3.0   110.0        25   \n",
              "\n",
              "    weight  cups                         label  kmeans_cluster  \n",
              "8      1.0  0.67             Bran_Chex (49.12)               2  \n",
              "9      1.0  0.67           Bran_Flakes (53.31)               2  \n",
              "11     1.0  1.25              Cheerios (50.76)               2  \n",
              "23     1.0  0.75           Double_Chex (44.33)               2  \n",
              "32     1.0  0.88     Grape_Nuts_Flakes (52.08)               2  \n",
              "33     1.0  0.25            Grape-Nuts (53.37)               2  \n",
              "36     1.0  0.75    Honey_Nut_Cheerios (31.07)               2  \n",
              "47     1.0  1.00  Multi-Grain_Cheerios (40.11)               2  \n",
              "50     1.0  1.00     Nutri-grain_Wheat (59.64)               2  \n",
              "67     1.0  1.00             Special_K (53.13)               2  \n",
              "74     1.0  0.67            Wheat_Chex (49.79)               2  \n",
              "75     1.0  1.00              Wheaties (51.59)               2  "
            ]
          },
          "execution_count": 100,
          "metadata": {},
          "output_type": "execute_result"
        }
      ],
      "source": [
        "final_cluster_data[final_cluster_data.kmeans_cluster ==2]"
      ]
    },
    {
      "cell_type": "code",
      "execution_count": null,
      "metadata": {
        "id": "cn0MmYZ2nLvh",
        "outputId": "4f5e850c-96cb-42f7-8c0e-24d18fc1ea49"
      },
      "outputs": [
        {
          "data": {
            "text/plain": [
              "(77, 13)"
            ]
          },
          "execution_count": 29,
          "metadata": {},
          "output_type": "execute_result"
        }
      ],
      "source": [
        "final_cluster_data.shape"
      ]
    },
    {
      "cell_type": "code",
      "execution_count": null,
      "metadata": {
        "id": "3Aj6ERjfnLvh",
        "outputId": "434e7ac9-56bf-4f3b-fc6c-2f7fe540aeec"
      },
      "outputs": [
        {
          "data": {
            "text/plain": [
              "1    21\n",
              "2    12\n",
              "7    10\n",
              "5    10\n",
              "0     8\n",
              "6     7\n",
              "3     6\n",
              "4     3\n",
              "Name: kmeans_cluster, dtype: int64"
            ]
          },
          "execution_count": 30,
          "metadata": {},
          "output_type": "execute_result"
        }
      ],
      "source": [
        "final_cluster_data.kmeans_cluster.value_counts()"
      ]
    },
    {
      "cell_type": "markdown",
      "metadata": {
        "id": "1_4w9d3EnLvh"
      },
      "source": [
        "### Analyzing clusters"
      ]
    },
    {
      "cell_type": "code",
      "execution_count": null,
      "metadata": {
        "id": "pcYpoQHanLvi",
        "outputId": "ce37bd79-ab23-4363-a3de-5d1ca731cc99"
      },
      "outputs": [
        {
          "data": {
            "text/html": [
              "<div>\n",
              "<style scoped>\n",
              "    .dataframe tbody tr th:only-of-type {\n",
              "        vertical-align: middle;\n",
              "    }\n",
              "\n",
              "    .dataframe tbody tr th {\n",
              "        vertical-align: top;\n",
              "    }\n",
              "\n",
              "    .dataframe thead th {\n",
              "        text-align: right;\n",
              "    }\n",
              "</style>\n",
              "<table border=\"1\" class=\"dataframe\">\n",
              "  <thead>\n",
              "    <tr style=\"text-align: right;\">\n",
              "      <th></th>\n",
              "      <th>kmeans_cluster</th>\n",
              "      <th>calories</th>\n",
              "      <th>protein</th>\n",
              "      <th>fat</th>\n",
              "      <th>sodium</th>\n",
              "      <th>fiber</th>\n",
              "      <th>carbo</th>\n",
              "      <th>sugars</th>\n",
              "      <th>potass</th>\n",
              "      <th>vitamins</th>\n",
              "      <th>weight</th>\n",
              "      <th>cups</th>\n",
              "    </tr>\n",
              "  </thead>\n",
              "  <tbody>\n",
              "    <tr>\n",
              "      <th>0</th>\n",
              "      <td>0</td>\n",
              "      <td>107.500000</td>\n",
              "      <td>3.500000</td>\n",
              "      <td>2.500000</td>\n",
              "      <td>99.375000</td>\n",
              "      <td>2.525000</td>\n",
              "      <td>11.500000</td>\n",
              "      <td>6.571429</td>\n",
              "      <td>119.375000</td>\n",
              "      <td>18.75</td>\n",
              "      <td>1.000000</td>\n",
              "      <td>0.583750</td>\n",
              "    </tr>\n",
              "    <tr>\n",
              "      <th>1</th>\n",
              "      <td>1</td>\n",
              "      <td>110.952381</td>\n",
              "      <td>1.476190</td>\n",
              "      <td>1.047619</td>\n",
              "      <td>166.190476</td>\n",
              "      <td>0.547619</td>\n",
              "      <td>12.547619</td>\n",
              "      <td>11.380952</td>\n",
              "      <td>45.250000</td>\n",
              "      <td>25.00</td>\n",
              "      <td>1.000000</td>\n",
              "      <td>0.875238</td>\n",
              "    </tr>\n",
              "    <tr>\n",
              "      <th>2</th>\n",
              "      <td>2</td>\n",
              "      <td>100.833333</td>\n",
              "      <td>3.250000</td>\n",
              "      <td>0.666667</td>\n",
              "      <td>208.333333</td>\n",
              "      <td>2.625000</td>\n",
              "      <td>15.791667</td>\n",
              "      <td>4.333333</td>\n",
              "      <td>102.083333</td>\n",
              "      <td>25.00</td>\n",
              "      <td>1.000000</td>\n",
              "      <td>0.824167</td>\n",
              "    </tr>\n",
              "    <tr>\n",
              "      <th>3</th>\n",
              "      <td>3</td>\n",
              "      <td>116.666667</td>\n",
              "      <td>2.666667</td>\n",
              "      <td>0.833333</td>\n",
              "      <td>208.333333</td>\n",
              "      <td>1.833333</td>\n",
              "      <td>18.166667</td>\n",
              "      <td>6.333333</td>\n",
              "      <td>95.833333</td>\n",
              "      <td>100.00</td>\n",
              "      <td>1.133333</td>\n",
              "      <td>0.958333</td>\n",
              "    </tr>\n",
              "    <tr>\n",
              "      <th>4</th>\n",
              "      <td>4</td>\n",
              "      <td>63.333333</td>\n",
              "      <td>4.000000</td>\n",
              "      <td>0.666667</td>\n",
              "      <td>176.666667</td>\n",
              "      <td>11.000000</td>\n",
              "      <td>6.666667</td>\n",
              "      <td>3.666667</td>\n",
              "      <td>310.000000</td>\n",
              "      <td>25.00</td>\n",
              "      <td>1.000000</td>\n",
              "      <td>0.386667</td>\n",
              "    </tr>\n",
              "    <tr>\n",
              "      <th>5</th>\n",
              "      <td>5</td>\n",
              "      <td>84.000000</td>\n",
              "      <td>2.500000</td>\n",
              "      <td>0.100000</td>\n",
              "      <td>9.500000</td>\n",
              "      <td>2.000000</td>\n",
              "      <td>15.900000</td>\n",
              "      <td>2.100000</td>\n",
              "      <td>90.555556</td>\n",
              "      <td>10.00</td>\n",
              "      <td>0.883000</td>\n",
              "      <td>0.864000</td>\n",
              "    </tr>\n",
              "    <tr>\n",
              "      <th>6</th>\n",
              "      <td>6</td>\n",
              "      <td>108.571429</td>\n",
              "      <td>1.857143</td>\n",
              "      <td>0.285714</td>\n",
              "      <td>261.428571</td>\n",
              "      <td>0.285714</td>\n",
              "      <td>21.571429</td>\n",
              "      <td>2.714286</td>\n",
              "      <td>36.428571</td>\n",
              "      <td>25.00</td>\n",
              "      <td>1.000000</td>\n",
              "      <td>1.054286</td>\n",
              "    </tr>\n",
              "    <tr>\n",
              "      <th>7</th>\n",
              "      <td>7</td>\n",
              "      <td>134.000000</td>\n",
              "      <td>3.200000</td>\n",
              "      <td>1.800000</td>\n",
              "      <td>180.500000</td>\n",
              "      <td>3.650000</td>\n",
              "      <td>15.250000</td>\n",
              "      <td>10.800000</td>\n",
              "      <td>174.000000</td>\n",
              "      <td>25.00</td>\n",
              "      <td>1.265000</td>\n",
              "      <td>0.735000</td>\n",
              "    </tr>\n",
              "  </tbody>\n",
              "</table>\n",
              "</div>"
            ],
            "text/plain": [
              "   kmeans_cluster    calories   protein       fat      sodium      fiber  \\\n",
              "0               0  107.500000  3.500000  2.500000   99.375000   2.525000   \n",
              "1               1  110.952381  1.476190  1.047619  166.190476   0.547619   \n",
              "2               2  100.833333  3.250000  0.666667  208.333333   2.625000   \n",
              "3               3  116.666667  2.666667  0.833333  208.333333   1.833333   \n",
              "4               4   63.333333  4.000000  0.666667  176.666667  11.000000   \n",
              "5               5   84.000000  2.500000  0.100000    9.500000   2.000000   \n",
              "6               6  108.571429  1.857143  0.285714  261.428571   0.285714   \n",
              "7               7  134.000000  3.200000  1.800000  180.500000   3.650000   \n",
              "\n",
              "       carbo     sugars      potass  vitamins    weight      cups  \n",
              "0  11.500000   6.571429  119.375000     18.75  1.000000  0.583750  \n",
              "1  12.547619  11.380952   45.250000     25.00  1.000000  0.875238  \n",
              "2  15.791667   4.333333  102.083333     25.00  1.000000  0.824167  \n",
              "3  18.166667   6.333333   95.833333    100.00  1.133333  0.958333  \n",
              "4   6.666667   3.666667  310.000000     25.00  1.000000  0.386667  \n",
              "5  15.900000   2.100000   90.555556     10.00  0.883000  0.864000  \n",
              "6  21.571429   2.714286   36.428571     25.00  1.000000  1.054286  \n",
              "7  15.250000  10.800000  174.000000     25.00  1.265000  0.735000  "
            ]
          },
          "execution_count": 132,
          "metadata": {},
          "output_type": "execute_result"
        }
      ],
      "source": [
        "ClusterLevelMean = final_cluster_data.groupby(['kmeans_cluster']).mean().reset_index()\n",
        "ClusterLevelMean"
      ]
    },
    {
      "cell_type": "code",
      "execution_count": null,
      "metadata": {
        "id": "LfXQOoiynLvi",
        "outputId": "ae2c7bbe-d0f5-4273-cfd4-a09fee43db52"
      },
      "outputs": [
        {
          "data": {
            "text/html": [
              "<div>\n",
              "<style scoped>\n",
              "    .dataframe tbody tr th:only-of-type {\n",
              "        vertical-align: middle;\n",
              "    }\n",
              "\n",
              "    .dataframe tbody tr th {\n",
              "        vertical-align: top;\n",
              "    }\n",
              "\n",
              "    .dataframe thead th {\n",
              "        text-align: right;\n",
              "    }\n",
              "</style>\n",
              "<table border=\"1\" class=\"dataframe\">\n",
              "  <thead>\n",
              "    <tr style=\"text-align: right;\">\n",
              "      <th></th>\n",
              "      <th>kmeans_cluster</th>\n",
              "      <th>calories</th>\n",
              "      <th>protein</th>\n",
              "      <th>fat</th>\n",
              "      <th>sodium</th>\n",
              "      <th>fiber</th>\n",
              "      <th>carbo</th>\n",
              "      <th>sugars</th>\n",
              "      <th>potass</th>\n",
              "      <th>vitamins</th>\n",
              "      <th>weight</th>\n",
              "      <th>cups</th>\n",
              "    </tr>\n",
              "  </thead>\n",
              "  <tbody>\n",
              "    <tr>\n",
              "      <th>0</th>\n",
              "      <td>0</td>\n",
              "      <td>8.864053</td>\n",
              "      <td>0.755929</td>\n",
              "      <td>1.195229</td>\n",
              "      <td>61.379237</td>\n",
              "      <td>0.710634</td>\n",
              "      <td>2.101587</td>\n",
              "      <td>1.397276</td>\n",
              "      <td>22.903135</td>\n",
              "      <td>11.572751</td>\n",
              "      <td>0.000000</td>\n",
              "      <td>0.200210</td>\n",
              "    </tr>\n",
              "    <tr>\n",
              "      <th>1</th>\n",
              "      <td>1</td>\n",
              "      <td>5.389584</td>\n",
              "      <td>0.511766</td>\n",
              "      <td>0.804748</td>\n",
              "      <td>55.269901</td>\n",
              "      <td>0.630570</td>\n",
              "      <td>1.716863</td>\n",
              "      <td>2.085094</td>\n",
              "      <td>22.505847</td>\n",
              "      <td>0.000000</td>\n",
              "      <td>0.000000</td>\n",
              "      <td>0.162838</td>\n",
              "    </tr>\n",
              "    <tr>\n",
              "      <th>2</th>\n",
              "      <td>2</td>\n",
              "      <td>7.929615</td>\n",
              "      <td>1.356801</td>\n",
              "      <td>0.651339</td>\n",
              "      <td>39.962103</td>\n",
              "      <td>1.189442</td>\n",
              "      <td>1.993835</td>\n",
              "      <td>2.386833</td>\n",
              "      <td>33.129109</td>\n",
              "      <td>0.000000</td>\n",
              "      <td>0.000000</td>\n",
              "      <td>0.255857</td>\n",
              "    </tr>\n",
              "    <tr>\n",
              "      <th>3</th>\n",
              "      <td>3</td>\n",
              "      <td>18.618987</td>\n",
              "      <td>0.516398</td>\n",
              "      <td>0.408248</td>\n",
              "      <td>56.361926</td>\n",
              "      <td>1.471960</td>\n",
              "      <td>2.483277</td>\n",
              "      <td>4.457204</td>\n",
              "      <td>71.792525</td>\n",
              "      <td>0.000000</td>\n",
              "      <td>0.216025</td>\n",
              "      <td>0.102062</td>\n",
              "    </tr>\n",
              "    <tr>\n",
              "      <th>4</th>\n",
              "      <td>4</td>\n",
              "      <td>11.547005</td>\n",
              "      <td>0.000000</td>\n",
              "      <td>0.577350</td>\n",
              "      <td>72.341781</td>\n",
              "      <td>2.645751</td>\n",
              "      <td>1.527525</td>\n",
              "      <td>3.214550</td>\n",
              "      <td>26.457513</td>\n",
              "      <td>0.000000</td>\n",
              "      <td>0.000000</td>\n",
              "      <td>0.098150</td>\n",
              "    </tr>\n",
              "    <tr>\n",
              "      <th>5</th>\n",
              "      <td>5</td>\n",
              "      <td>18.973666</td>\n",
              "      <td>0.849837</td>\n",
              "      <td>0.316228</td>\n",
              "      <td>25.215736</td>\n",
              "      <td>1.414214</td>\n",
              "      <td>3.348300</td>\n",
              "      <td>2.884826</td>\n",
              "      <td>37.370146</td>\n",
              "      <td>12.909944</td>\n",
              "      <td>0.208702</td>\n",
              "      <td>0.189397</td>\n",
              "    </tr>\n",
              "    <tr>\n",
              "      <th>6</th>\n",
              "      <td>6</td>\n",
              "      <td>3.779645</td>\n",
              "      <td>0.377964</td>\n",
              "      <td>0.487950</td>\n",
              "      <td>26.726124</td>\n",
              "      <td>0.487950</td>\n",
              "      <td>0.786796</td>\n",
              "      <td>0.487950</td>\n",
              "      <td>11.443443</td>\n",
              "      <td>0.000000</td>\n",
              "      <td>0.000000</td>\n",
              "      <td>0.226852</td>\n",
              "    </tr>\n",
              "    <tr>\n",
              "      <th>7</th>\n",
              "      <td>7</td>\n",
              "      <td>15.055453</td>\n",
              "      <td>0.421637</td>\n",
              "      <td>0.918937</td>\n",
              "      <td>43.362170</td>\n",
              "      <td>1.491643</td>\n",
              "      <td>2.974428</td>\n",
              "      <td>2.149935</td>\n",
              "      <td>50.815571</td>\n",
              "      <td>0.000000</td>\n",
              "      <td>0.155367</td>\n",
              "      <td>0.155367</td>\n",
              "    </tr>\n",
              "  </tbody>\n",
              "</table>\n",
              "</div>"
            ],
            "text/plain": [
              "   kmeans_cluster   calories   protein       fat     sodium     fiber  \\\n",
              "0               0   8.864053  0.755929  1.195229  61.379237  0.710634   \n",
              "1               1   5.389584  0.511766  0.804748  55.269901  0.630570   \n",
              "2               2   7.929615  1.356801  0.651339  39.962103  1.189442   \n",
              "3               3  18.618987  0.516398  0.408248  56.361926  1.471960   \n",
              "4               4  11.547005  0.000000  0.577350  72.341781  2.645751   \n",
              "5               5  18.973666  0.849837  0.316228  25.215736  1.414214   \n",
              "6               6   3.779645  0.377964  0.487950  26.726124  0.487950   \n",
              "7               7  15.055453  0.421637  0.918937  43.362170  1.491643   \n",
              "\n",
              "      carbo    sugars     potass   vitamins    weight      cups  \n",
              "0  2.101587  1.397276  22.903135  11.572751  0.000000  0.200210  \n",
              "1  1.716863  2.085094  22.505847   0.000000  0.000000  0.162838  \n",
              "2  1.993835  2.386833  33.129109   0.000000  0.000000  0.255857  \n",
              "3  2.483277  4.457204  71.792525   0.000000  0.216025  0.102062  \n",
              "4  1.527525  3.214550  26.457513   0.000000  0.000000  0.098150  \n",
              "5  3.348300  2.884826  37.370146  12.909944  0.208702  0.189397  \n",
              "6  0.786796  0.487950  11.443443   0.000000  0.000000  0.226852  \n",
              "7  2.974428  2.149935  50.815571   0.000000  0.155367  0.155367  "
            ]
          },
          "execution_count": 32,
          "metadata": {},
          "output_type": "execute_result"
        }
      ],
      "source": [
        "ClusterLevelStdev = final_cluster_data.groupby(['kmeans_cluster']).std().reset_index()\n",
        "ClusterLevelStdev"
      ]
    },
    {
      "cell_type": "markdown",
      "metadata": {
        "id": "zq-NUAnznLvi"
      },
      "source": [
        "#### Checking cluster stability"
      ]
    },
    {
      "cell_type": "code",
      "execution_count": null,
      "metadata": {
        "id": "74OuNlGanLvi"
      },
      "outputs": [],
      "source": [
        "from sklearn.metrics import adjusted_rand_score\n",
        "import numpy as np"
      ]
    },
    {
      "cell_type": "code",
      "execution_count": null,
      "metadata": {
        "id": "goTvzNa_nLvj",
        "outputId": "15eb077b-ff80-4f6a-aa19-e10f88facd91"
      },
      "outputs": [
        {
          "name": "stdout",
          "output_type": "stream",
          "text": [
            "Int64Index([53, 64, 70,  4, 60, 23, 29, 61,  8, 74,  9, 75, 44, 24, 76, 63, 71,\n",
            "            43, 51,  1, 37, 45, 58, 31, 14, 72, 16, 26, 19, 69,  6, 62, 50, 67,\n",
            "            15, 18, 13, 22, 10, 59, 11,  0,  5, 42,  3, 40, 12, 54, 34, 27, 30,\n",
            "            21, 33, 38, 52, 28, 35, 41,  7, 48, 56, 73, 20, 65, 39,  2, 55, 49,\n",
            "            68],\n",
            "           dtype='int64')\n"
          ]
        }
      ],
      "source": [
        "indices=cereals_std.sample(frac=0.9,random_state=123).index\n",
        "print(indices)"
      ]
    },
    {
      "cell_type": "code",
      "execution_count": null,
      "metadata": {
        "id": "zhS8wXXbnLvj"
      },
      "outputs": [],
      "source": [
        "cereals_std_subset=cereals_std.iloc[indices,:]"
      ]
    },
    {
      "cell_type": "code",
      "execution_count": null,
      "metadata": {
        "id": "zQkjrc8tnLvj",
        "outputId": "f8f7c14b-02ca-4229-9cdd-4d144388c5be"
      },
      "outputs": [
        {
          "data": {
            "text/plain": [
              "(77, 11)"
            ]
          },
          "execution_count": 109,
          "metadata": {},
          "output_type": "execute_result"
        }
      ],
      "source": [
        "cereals_std.shape"
      ]
    },
    {
      "cell_type": "code",
      "execution_count": null,
      "metadata": {
        "id": "EJPAnWMsnLvj",
        "outputId": "660b4c01-850d-4fae-cf43-d0dbdb7dea23"
      },
      "outputs": [
        {
          "data": {
            "text/plain": [
              "(69, 11)"
            ]
          },
          "execution_count": 110,
          "metadata": {},
          "output_type": "execute_result"
        }
      ],
      "source": [
        "cereals_std_subset.shape"
      ]
    },
    {
      "cell_type": "code",
      "execution_count": null,
      "metadata": {
        "id": "xdHyiwUjnLvj"
      },
      "outputs": [],
      "source": [
        "kmeans_object = KMeans(n_clusters=8,n_init=30,max_iter=300,random_state=1000)\n",
        "kmeans_object.fit(cereals_std)\n",
        "clus1= kmeans_object.labels_"
      ]
    },
    {
      "cell_type": "code",
      "execution_count": null,
      "metadata": {
        "id": "gBZ3r41unLvj"
      },
      "outputs": [],
      "source": [
        "kmeans_object = KMeans(n_clusters=8,n_init=30,max_iter=300,random_state=1000)\n",
        "kmeans_object.fit(cereals_std_subset)\n",
        "clus2= kmeans_object.labels_"
      ]
    },
    {
      "cell_type": "code",
      "execution_count": null,
      "metadata": {
        "id": "YIWbXSsCnLvj",
        "outputId": "babc73e3-8ce5-4e55-cd8c-7c46ba6dcee1"
      },
      "outputs": [
        {
          "name": "stdout",
          "output_type": "stream",
          "text": [
            "77\n",
            "69\n"
          ]
        }
      ],
      "source": [
        "print(len(clus1))\n",
        "print(len(clus2))"
      ]
    },
    {
      "cell_type": "code",
      "execution_count": null,
      "metadata": {
        "id": "PDVaMsM1nLvk",
        "outputId": "e64fb37e-dbff-4bf6-c48a-fc31a0bf9d46"
      },
      "outputs": [
        {
          "name": "stdout",
          "output_type": "stream",
          "text": [
            "69\n"
          ]
        }
      ],
      "source": [
        "clus1=clus1[indices]\n",
        "print(len(clus1))"
      ]
    },
    {
      "cell_type": "code",
      "execution_count": null,
      "metadata": {
        "id": "zYd8OmjKnLvk",
        "outputId": "f95108a7-fff5-4675-ab88-61e5bb9f1c44"
      },
      "outputs": [
        {
          "data": {
            "text/plain": [
              "0.9434104263756622"
            ]
          },
          "execution_count": 130,
          "metadata": {},
          "output_type": "execute_result"
        }
      ],
      "source": [
        "adjusted_rand_score(clus1,clus2)"
      ]
    },
    {
      "cell_type": "markdown",
      "metadata": {
        "id": "pZ-hHF37nLvk"
      },
      "source": [
        "### Categorize new samples into predefined clusters"
      ]
    },
    {
      "cell_type": "code",
      "execution_count": null,
      "metadata": {
        "id": "9kc2QfsInLvk"
      },
      "outputs": [],
      "source": [
        "newdata=pd.read_csv(\"Cereals.csv\") ## Assume this part is a newly added samples for demonstration "
      ]
    },
    {
      "cell_type": "code",
      "execution_count": null,
      "metadata": {
        "id": "pabqhST3nLvk",
        "outputId": "a5e686f3-8066-434e-8239-5579e4b326df"
      },
      "outputs": [
        {
          "data": {
            "text/html": [
              "<div>\n",
              "<style scoped>\n",
              "    .dataframe tbody tr th:only-of-type {\n",
              "        vertical-align: middle;\n",
              "    }\n",
              "\n",
              "    .dataframe tbody tr th {\n",
              "        vertical-align: top;\n",
              "    }\n",
              "\n",
              "    .dataframe thead th {\n",
              "        text-align: right;\n",
              "    }\n",
              "</style>\n",
              "<table border=\"1\" class=\"dataframe\">\n",
              "  <thead>\n",
              "    <tr style=\"text-align: right;\">\n",
              "      <th></th>\n",
              "      <th>name</th>\n",
              "      <th>calories</th>\n",
              "      <th>protein</th>\n",
              "      <th>fat</th>\n",
              "      <th>sodium</th>\n",
              "      <th>fiber</th>\n",
              "      <th>carbo</th>\n",
              "      <th>sugars</th>\n",
              "      <th>potass</th>\n",
              "      <th>vitamins</th>\n",
              "      <th>weight</th>\n",
              "      <th>cups</th>\n",
              "      <th>rating</th>\n",
              "    </tr>\n",
              "  </thead>\n",
              "  <tbody>\n",
              "    <tr>\n",
              "      <th>0</th>\n",
              "      <td>100%_Bran</td>\n",
              "      <td>70</td>\n",
              "      <td>4</td>\n",
              "      <td>1</td>\n",
              "      <td>130</td>\n",
              "      <td>10.0</td>\n",
              "      <td>5.0</td>\n",
              "      <td>6.0</td>\n",
              "      <td>280.0</td>\n",
              "      <td>25</td>\n",
              "      <td>1.0</td>\n",
              "      <td>0.33</td>\n",
              "      <td>68.402973</td>\n",
              "    </tr>\n",
              "    <tr>\n",
              "      <th>1</th>\n",
              "      <td>100%_Natural_Bran</td>\n",
              "      <td>120</td>\n",
              "      <td>3</td>\n",
              "      <td>5</td>\n",
              "      <td>15</td>\n",
              "      <td>2.0</td>\n",
              "      <td>8.0</td>\n",
              "      <td>8.0</td>\n",
              "      <td>135.0</td>\n",
              "      <td>0</td>\n",
              "      <td>1.0</td>\n",
              "      <td>1.00</td>\n",
              "      <td>33.983679</td>\n",
              "    </tr>\n",
              "    <tr>\n",
              "      <th>2</th>\n",
              "      <td>All-Bran</td>\n",
              "      <td>70</td>\n",
              "      <td>4</td>\n",
              "      <td>1</td>\n",
              "      <td>260</td>\n",
              "      <td>9.0</td>\n",
              "      <td>7.0</td>\n",
              "      <td>5.0</td>\n",
              "      <td>320.0</td>\n",
              "      <td>25</td>\n",
              "      <td>1.0</td>\n",
              "      <td>0.33</td>\n",
              "      <td>59.425505</td>\n",
              "    </tr>\n",
              "    <tr>\n",
              "      <th>3</th>\n",
              "      <td>All-Bran_with_Extra_Fiber</td>\n",
              "      <td>50</td>\n",
              "      <td>4</td>\n",
              "      <td>0</td>\n",
              "      <td>140</td>\n",
              "      <td>14.0</td>\n",
              "      <td>8.0</td>\n",
              "      <td>0.0</td>\n",
              "      <td>330.0</td>\n",
              "      <td>25</td>\n",
              "      <td>1.0</td>\n",
              "      <td>0.50</td>\n",
              "      <td>93.704912</td>\n",
              "    </tr>\n",
              "    <tr>\n",
              "      <th>4</th>\n",
              "      <td>Almond_Delight</td>\n",
              "      <td>110</td>\n",
              "      <td>2</td>\n",
              "      <td>2</td>\n",
              "      <td>200</td>\n",
              "      <td>1.0</td>\n",
              "      <td>14.0</td>\n",
              "      <td>8.0</td>\n",
              "      <td>NaN</td>\n",
              "      <td>25</td>\n",
              "      <td>1.0</td>\n",
              "      <td>0.75</td>\n",
              "      <td>34.384843</td>\n",
              "    </tr>\n",
              "    <tr>\n",
              "      <th>...</th>\n",
              "      <td>...</td>\n",
              "      <td>...</td>\n",
              "      <td>...</td>\n",
              "      <td>...</td>\n",
              "      <td>...</td>\n",
              "      <td>...</td>\n",
              "      <td>...</td>\n",
              "      <td>...</td>\n",
              "      <td>...</td>\n",
              "      <td>...</td>\n",
              "      <td>...</td>\n",
              "      <td>...</td>\n",
              "      <td>...</td>\n",
              "    </tr>\n",
              "    <tr>\n",
              "      <th>72</th>\n",
              "      <td>Triples</td>\n",
              "      <td>110</td>\n",
              "      <td>2</td>\n",
              "      <td>1</td>\n",
              "      <td>250</td>\n",
              "      <td>0.0</td>\n",
              "      <td>21.0</td>\n",
              "      <td>3.0</td>\n",
              "      <td>60.0</td>\n",
              "      <td>25</td>\n",
              "      <td>1.0</td>\n",
              "      <td>0.75</td>\n",
              "      <td>39.106174</td>\n",
              "    </tr>\n",
              "    <tr>\n",
              "      <th>73</th>\n",
              "      <td>Trix</td>\n",
              "      <td>110</td>\n",
              "      <td>1</td>\n",
              "      <td>1</td>\n",
              "      <td>140</td>\n",
              "      <td>0.0</td>\n",
              "      <td>13.0</td>\n",
              "      <td>12.0</td>\n",
              "      <td>25.0</td>\n",
              "      <td>25</td>\n",
              "      <td>1.0</td>\n",
              "      <td>1.00</td>\n",
              "      <td>27.753301</td>\n",
              "    </tr>\n",
              "    <tr>\n",
              "      <th>74</th>\n",
              "      <td>Wheat_Chex</td>\n",
              "      <td>100</td>\n",
              "      <td>3</td>\n",
              "      <td>1</td>\n",
              "      <td>230</td>\n",
              "      <td>3.0</td>\n",
              "      <td>17.0</td>\n",
              "      <td>3.0</td>\n",
              "      <td>115.0</td>\n",
              "      <td>25</td>\n",
              "      <td>1.0</td>\n",
              "      <td>0.67</td>\n",
              "      <td>49.787445</td>\n",
              "    </tr>\n",
              "    <tr>\n",
              "      <th>75</th>\n",
              "      <td>Wheaties</td>\n",
              "      <td>100</td>\n",
              "      <td>3</td>\n",
              "      <td>1</td>\n",
              "      <td>200</td>\n",
              "      <td>3.0</td>\n",
              "      <td>17.0</td>\n",
              "      <td>3.0</td>\n",
              "      <td>110.0</td>\n",
              "      <td>25</td>\n",
              "      <td>1.0</td>\n",
              "      <td>1.00</td>\n",
              "      <td>51.592193</td>\n",
              "    </tr>\n",
              "    <tr>\n",
              "      <th>76</th>\n",
              "      <td>Wheaties_Honey_Gold</td>\n",
              "      <td>110</td>\n",
              "      <td>2</td>\n",
              "      <td>1</td>\n",
              "      <td>200</td>\n",
              "      <td>1.0</td>\n",
              "      <td>16.0</td>\n",
              "      <td>8.0</td>\n",
              "      <td>60.0</td>\n",
              "      <td>25</td>\n",
              "      <td>1.0</td>\n",
              "      <td>0.75</td>\n",
              "      <td>36.187559</td>\n",
              "    </tr>\n",
              "  </tbody>\n",
              "</table>\n",
              "<p>77 rows × 13 columns</p>\n",
              "</div>"
            ],
            "text/plain": [
              "                         name  calories  protein  fat  sodium  fiber  carbo  \\\n",
              "0                   100%_Bran        70        4    1     130   10.0    5.0   \n",
              "1           100%_Natural_Bran       120        3    5      15    2.0    8.0   \n",
              "2                    All-Bran        70        4    1     260    9.0    7.0   \n",
              "3   All-Bran_with_Extra_Fiber        50        4    0     140   14.0    8.0   \n",
              "4              Almond_Delight       110        2    2     200    1.0   14.0   \n",
              "..                        ...       ...      ...  ...     ...    ...    ...   \n",
              "72                    Triples       110        2    1     250    0.0   21.0   \n",
              "73                       Trix       110        1    1     140    0.0   13.0   \n",
              "74                 Wheat_Chex       100        3    1     230    3.0   17.0   \n",
              "75                   Wheaties       100        3    1     200    3.0   17.0   \n",
              "76        Wheaties_Honey_Gold       110        2    1     200    1.0   16.0   \n",
              "\n",
              "    sugars  potass  vitamins  weight  cups     rating  \n",
              "0      6.0   280.0        25     1.0  0.33  68.402973  \n",
              "1      8.0   135.0         0     1.0  1.00  33.983679  \n",
              "2      5.0   320.0        25     1.0  0.33  59.425505  \n",
              "3      0.0   330.0        25     1.0  0.50  93.704912  \n",
              "4      8.0     NaN        25     1.0  0.75  34.384843  \n",
              "..     ...     ...       ...     ...   ...        ...  \n",
              "72     3.0    60.0        25     1.0  0.75  39.106174  \n",
              "73    12.0    25.0        25     1.0  1.00  27.753301  \n",
              "74     3.0   115.0        25     1.0  0.67  49.787445  \n",
              "75     3.0   110.0        25     1.0  1.00  51.592193  \n",
              "76     8.0    60.0        25     1.0  0.75  36.187559  \n",
              "\n",
              "[77 rows x 13 columns]"
            ]
          },
          "execution_count": 72,
          "metadata": {},
          "output_type": "execute_result"
        }
      ],
      "source": [
        "newdata"
      ]
    },
    {
      "cell_type": "code",
      "execution_count": null,
      "metadata": {
        "id": "vYtEJcwEnLvk",
        "outputId": "5733cbf7-0d1b-4cf5-8969-ef178cd0f586"
      },
      "outputs": [
        {
          "data": {
            "text/html": [
              "<div>\n",
              "<style scoped>\n",
              "    .dataframe tbody tr th:only-of-type {\n",
              "        vertical-align: middle;\n",
              "    }\n",
              "\n",
              "    .dataframe tbody tr th {\n",
              "        vertical-align: top;\n",
              "    }\n",
              "\n",
              "    .dataframe thead th {\n",
              "        text-align: right;\n",
              "    }\n",
              "</style>\n",
              "<table border=\"1\" class=\"dataframe\">\n",
              "  <thead>\n",
              "    <tr style=\"text-align: right;\">\n",
              "      <th></th>\n",
              "      <th>calories</th>\n",
              "      <th>protein</th>\n",
              "      <th>fat</th>\n",
              "      <th>sodium</th>\n",
              "      <th>fiber</th>\n",
              "      <th>carbo</th>\n",
              "      <th>sugars</th>\n",
              "      <th>potass</th>\n",
              "      <th>vitamins</th>\n",
              "      <th>weight</th>\n",
              "      <th>cups</th>\n",
              "    </tr>\n",
              "  </thead>\n",
              "  <tbody>\n",
              "    <tr>\n",
              "      <th>0</th>\n",
              "      <td>70</td>\n",
              "      <td>4</td>\n",
              "      <td>1</td>\n",
              "      <td>130</td>\n",
              "      <td>10.0</td>\n",
              "      <td>5.0</td>\n",
              "      <td>6.0</td>\n",
              "      <td>280.0</td>\n",
              "      <td>25</td>\n",
              "      <td>1.0</td>\n",
              "      <td>0.33</td>\n",
              "    </tr>\n",
              "    <tr>\n",
              "      <th>1</th>\n",
              "      <td>120</td>\n",
              "      <td>3</td>\n",
              "      <td>5</td>\n",
              "      <td>15</td>\n",
              "      <td>2.0</td>\n",
              "      <td>8.0</td>\n",
              "      <td>8.0</td>\n",
              "      <td>135.0</td>\n",
              "      <td>0</td>\n",
              "      <td>1.0</td>\n",
              "      <td>1.00</td>\n",
              "    </tr>\n",
              "    <tr>\n",
              "      <th>2</th>\n",
              "      <td>70</td>\n",
              "      <td>4</td>\n",
              "      <td>1</td>\n",
              "      <td>260</td>\n",
              "      <td>9.0</td>\n",
              "      <td>7.0</td>\n",
              "      <td>5.0</td>\n",
              "      <td>320.0</td>\n",
              "      <td>25</td>\n",
              "      <td>1.0</td>\n",
              "      <td>0.33</td>\n",
              "    </tr>\n",
              "    <tr>\n",
              "      <th>3</th>\n",
              "      <td>50</td>\n",
              "      <td>4</td>\n",
              "      <td>0</td>\n",
              "      <td>140</td>\n",
              "      <td>14.0</td>\n",
              "      <td>8.0</td>\n",
              "      <td>0.0</td>\n",
              "      <td>330.0</td>\n",
              "      <td>25</td>\n",
              "      <td>1.0</td>\n",
              "      <td>0.50</td>\n",
              "    </tr>\n",
              "    <tr>\n",
              "      <th>4</th>\n",
              "      <td>110</td>\n",
              "      <td>2</td>\n",
              "      <td>2</td>\n",
              "      <td>200</td>\n",
              "      <td>1.0</td>\n",
              "      <td>14.0</td>\n",
              "      <td>8.0</td>\n",
              "      <td>NaN</td>\n",
              "      <td>25</td>\n",
              "      <td>1.0</td>\n",
              "      <td>0.75</td>\n",
              "    </tr>\n",
              "    <tr>\n",
              "      <th>...</th>\n",
              "      <td>...</td>\n",
              "      <td>...</td>\n",
              "      <td>...</td>\n",
              "      <td>...</td>\n",
              "      <td>...</td>\n",
              "      <td>...</td>\n",
              "      <td>...</td>\n",
              "      <td>...</td>\n",
              "      <td>...</td>\n",
              "      <td>...</td>\n",
              "      <td>...</td>\n",
              "    </tr>\n",
              "    <tr>\n",
              "      <th>72</th>\n",
              "      <td>110</td>\n",
              "      <td>2</td>\n",
              "      <td>1</td>\n",
              "      <td>250</td>\n",
              "      <td>0.0</td>\n",
              "      <td>21.0</td>\n",
              "      <td>3.0</td>\n",
              "      <td>60.0</td>\n",
              "      <td>25</td>\n",
              "      <td>1.0</td>\n",
              "      <td>0.75</td>\n",
              "    </tr>\n",
              "    <tr>\n",
              "      <th>73</th>\n",
              "      <td>110</td>\n",
              "      <td>1</td>\n",
              "      <td>1</td>\n",
              "      <td>140</td>\n",
              "      <td>0.0</td>\n",
              "      <td>13.0</td>\n",
              "      <td>12.0</td>\n",
              "      <td>25.0</td>\n",
              "      <td>25</td>\n",
              "      <td>1.0</td>\n",
              "      <td>1.00</td>\n",
              "    </tr>\n",
              "    <tr>\n",
              "      <th>74</th>\n",
              "      <td>100</td>\n",
              "      <td>3</td>\n",
              "      <td>1</td>\n",
              "      <td>230</td>\n",
              "      <td>3.0</td>\n",
              "      <td>17.0</td>\n",
              "      <td>3.0</td>\n",
              "      <td>115.0</td>\n",
              "      <td>25</td>\n",
              "      <td>1.0</td>\n",
              "      <td>0.67</td>\n",
              "    </tr>\n",
              "    <tr>\n",
              "      <th>75</th>\n",
              "      <td>100</td>\n",
              "      <td>3</td>\n",
              "      <td>1</td>\n",
              "      <td>200</td>\n",
              "      <td>3.0</td>\n",
              "      <td>17.0</td>\n",
              "      <td>3.0</td>\n",
              "      <td>110.0</td>\n",
              "      <td>25</td>\n",
              "      <td>1.0</td>\n",
              "      <td>1.00</td>\n",
              "    </tr>\n",
              "    <tr>\n",
              "      <th>76</th>\n",
              "      <td>110</td>\n",
              "      <td>2</td>\n",
              "      <td>1</td>\n",
              "      <td>200</td>\n",
              "      <td>1.0</td>\n",
              "      <td>16.0</td>\n",
              "      <td>8.0</td>\n",
              "      <td>60.0</td>\n",
              "      <td>25</td>\n",
              "      <td>1.0</td>\n",
              "      <td>0.75</td>\n",
              "    </tr>\n",
              "  </tbody>\n",
              "</table>\n",
              "<p>77 rows × 11 columns</p>\n",
              "</div>"
            ],
            "text/plain": [
              "    calories  protein  fat  sodium  fiber  carbo  sugars  potass  vitamins  \\\n",
              "0         70        4    1     130   10.0    5.0     6.0   280.0        25   \n",
              "1        120        3    5      15    2.0    8.0     8.0   135.0         0   \n",
              "2         70        4    1     260    9.0    7.0     5.0   320.0        25   \n",
              "3         50        4    0     140   14.0    8.0     0.0   330.0        25   \n",
              "4        110        2    2     200    1.0   14.0     8.0     NaN        25   \n",
              "..       ...      ...  ...     ...    ...    ...     ...     ...       ...   \n",
              "72       110        2    1     250    0.0   21.0     3.0    60.0        25   \n",
              "73       110        1    1     140    0.0   13.0    12.0    25.0        25   \n",
              "74       100        3    1     230    3.0   17.0     3.0   115.0        25   \n",
              "75       100        3    1     200    3.0   17.0     3.0   110.0        25   \n",
              "76       110        2    1     200    1.0   16.0     8.0    60.0        25   \n",
              "\n",
              "    weight  cups  \n",
              "0      1.0  0.33  \n",
              "1      1.0  1.00  \n",
              "2      1.0  0.33  \n",
              "3      1.0  0.50  \n",
              "4      1.0  0.75  \n",
              "..     ...   ...  \n",
              "72     1.0  0.75  \n",
              "73     1.0  1.00  \n",
              "74     1.0  0.67  \n",
              "75     1.0  1.00  \n",
              "76     1.0  0.75  \n",
              "\n",
              "[77 rows x 11 columns]"
            ]
          },
          "execution_count": 73,
          "metadata": {},
          "output_type": "execute_result"
        }
      ],
      "source": [
        "newdata['label'] = newdata['name']+ ' (' + round(newdata['rating'],2).astype(str) + ')'\n",
        "\n",
        "newdata.drop(['name','rating'], axis=1, inplace=True)\n",
        "\n",
        "\n",
        "newdata_label = newdata['label']\n",
        "newdata.drop(columns=\"label\", inplace=True)\n",
        "newdata"
      ]
    },
    {
      "cell_type": "code",
      "execution_count": null,
      "metadata": {
        "id": "A7rPWWlbnLvk",
        "outputId": "2c9672d5-fb64-428a-a0dc-a020fbdf53ec"
      },
      "outputs": [
        {
          "data": {
            "text/html": [
              "<div>\n",
              "<style scoped>\n",
              "    .dataframe tbody tr th:only-of-type {\n",
              "        vertical-align: middle;\n",
              "    }\n",
              "\n",
              "    .dataframe tbody tr th {\n",
              "        vertical-align: top;\n",
              "    }\n",
              "\n",
              "    .dataframe thead th {\n",
              "        text-align: right;\n",
              "    }\n",
              "</style>\n",
              "<table border=\"1\" class=\"dataframe\">\n",
              "  <thead>\n",
              "    <tr style=\"text-align: right;\">\n",
              "      <th></th>\n",
              "      <th>calories</th>\n",
              "      <th>protein</th>\n",
              "      <th>fat</th>\n",
              "      <th>sodium</th>\n",
              "      <th>fiber</th>\n",
              "      <th>carbo</th>\n",
              "      <th>sugars</th>\n",
              "      <th>potass</th>\n",
              "      <th>vitamins</th>\n",
              "      <th>weight</th>\n",
              "      <th>cups</th>\n",
              "    </tr>\n",
              "  </thead>\n",
              "  <tbody>\n",
              "    <tr>\n",
              "      <th>0</th>\n",
              "      <td>70.0</td>\n",
              "      <td>4.0</td>\n",
              "      <td>1.0</td>\n",
              "      <td>130.0</td>\n",
              "      <td>10.0</td>\n",
              "      <td>5.0</td>\n",
              "      <td>6.0</td>\n",
              "      <td>280.000000</td>\n",
              "      <td>25.0</td>\n",
              "      <td>1.0</td>\n",
              "      <td>0.33</td>\n",
              "    </tr>\n",
              "    <tr>\n",
              "      <th>1</th>\n",
              "      <td>120.0</td>\n",
              "      <td>3.0</td>\n",
              "      <td>5.0</td>\n",
              "      <td>15.0</td>\n",
              "      <td>2.0</td>\n",
              "      <td>8.0</td>\n",
              "      <td>8.0</td>\n",
              "      <td>135.000000</td>\n",
              "      <td>0.0</td>\n",
              "      <td>1.0</td>\n",
              "      <td>1.00</td>\n",
              "    </tr>\n",
              "    <tr>\n",
              "      <th>2</th>\n",
              "      <td>70.0</td>\n",
              "      <td>4.0</td>\n",
              "      <td>1.0</td>\n",
              "      <td>260.0</td>\n",
              "      <td>9.0</td>\n",
              "      <td>7.0</td>\n",
              "      <td>5.0</td>\n",
              "      <td>320.000000</td>\n",
              "      <td>25.0</td>\n",
              "      <td>1.0</td>\n",
              "      <td>0.33</td>\n",
              "    </tr>\n",
              "    <tr>\n",
              "      <th>3</th>\n",
              "      <td>50.0</td>\n",
              "      <td>4.0</td>\n",
              "      <td>0.0</td>\n",
              "      <td>140.0</td>\n",
              "      <td>14.0</td>\n",
              "      <td>8.0</td>\n",
              "      <td>0.0</td>\n",
              "      <td>330.000000</td>\n",
              "      <td>25.0</td>\n",
              "      <td>1.0</td>\n",
              "      <td>0.50</td>\n",
              "    </tr>\n",
              "    <tr>\n",
              "      <th>4</th>\n",
              "      <td>110.0</td>\n",
              "      <td>2.0</td>\n",
              "      <td>2.0</td>\n",
              "      <td>200.0</td>\n",
              "      <td>1.0</td>\n",
              "      <td>14.0</td>\n",
              "      <td>8.0</td>\n",
              "      <td>98.666667</td>\n",
              "      <td>25.0</td>\n",
              "      <td>1.0</td>\n",
              "      <td>0.75</td>\n",
              "    </tr>\n",
              "    <tr>\n",
              "      <th>...</th>\n",
              "      <td>...</td>\n",
              "      <td>...</td>\n",
              "      <td>...</td>\n",
              "      <td>...</td>\n",
              "      <td>...</td>\n",
              "      <td>...</td>\n",
              "      <td>...</td>\n",
              "      <td>...</td>\n",
              "      <td>...</td>\n",
              "      <td>...</td>\n",
              "      <td>...</td>\n",
              "    </tr>\n",
              "    <tr>\n",
              "      <th>72</th>\n",
              "      <td>110.0</td>\n",
              "      <td>2.0</td>\n",
              "      <td>1.0</td>\n",
              "      <td>250.0</td>\n",
              "      <td>0.0</td>\n",
              "      <td>21.0</td>\n",
              "      <td>3.0</td>\n",
              "      <td>60.000000</td>\n",
              "      <td>25.0</td>\n",
              "      <td>1.0</td>\n",
              "      <td>0.75</td>\n",
              "    </tr>\n",
              "    <tr>\n",
              "      <th>73</th>\n",
              "      <td>110.0</td>\n",
              "      <td>1.0</td>\n",
              "      <td>1.0</td>\n",
              "      <td>140.0</td>\n",
              "      <td>0.0</td>\n",
              "      <td>13.0</td>\n",
              "      <td>12.0</td>\n",
              "      <td>25.000000</td>\n",
              "      <td>25.0</td>\n",
              "      <td>1.0</td>\n",
              "      <td>1.00</td>\n",
              "    </tr>\n",
              "    <tr>\n",
              "      <th>74</th>\n",
              "      <td>100.0</td>\n",
              "      <td>3.0</td>\n",
              "      <td>1.0</td>\n",
              "      <td>230.0</td>\n",
              "      <td>3.0</td>\n",
              "      <td>17.0</td>\n",
              "      <td>3.0</td>\n",
              "      <td>115.000000</td>\n",
              "      <td>25.0</td>\n",
              "      <td>1.0</td>\n",
              "      <td>0.67</td>\n",
              "    </tr>\n",
              "    <tr>\n",
              "      <th>75</th>\n",
              "      <td>100.0</td>\n",
              "      <td>3.0</td>\n",
              "      <td>1.0</td>\n",
              "      <td>200.0</td>\n",
              "      <td>3.0</td>\n",
              "      <td>17.0</td>\n",
              "      <td>3.0</td>\n",
              "      <td>110.000000</td>\n",
              "      <td>25.0</td>\n",
              "      <td>1.0</td>\n",
              "      <td>1.00</td>\n",
              "    </tr>\n",
              "    <tr>\n",
              "      <th>76</th>\n",
              "      <td>110.0</td>\n",
              "      <td>2.0</td>\n",
              "      <td>1.0</td>\n",
              "      <td>200.0</td>\n",
              "      <td>1.0</td>\n",
              "      <td>16.0</td>\n",
              "      <td>8.0</td>\n",
              "      <td>60.000000</td>\n",
              "      <td>25.0</td>\n",
              "      <td>1.0</td>\n",
              "      <td>0.75</td>\n",
              "    </tr>\n",
              "  </tbody>\n",
              "</table>\n",
              "<p>77 rows × 11 columns</p>\n",
              "</div>"
            ],
            "text/plain": [
              "    calories  protein  fat  sodium  fiber  carbo  sugars      potass  \\\n",
              "0       70.0      4.0  1.0   130.0   10.0    5.0     6.0  280.000000   \n",
              "1      120.0      3.0  5.0    15.0    2.0    8.0     8.0  135.000000   \n",
              "2       70.0      4.0  1.0   260.0    9.0    7.0     5.0  320.000000   \n",
              "3       50.0      4.0  0.0   140.0   14.0    8.0     0.0  330.000000   \n",
              "4      110.0      2.0  2.0   200.0    1.0   14.0     8.0   98.666667   \n",
              "..       ...      ...  ...     ...    ...    ...     ...         ...   \n",
              "72     110.0      2.0  1.0   250.0    0.0   21.0     3.0   60.000000   \n",
              "73     110.0      1.0  1.0   140.0    0.0   13.0    12.0   25.000000   \n",
              "74     100.0      3.0  1.0   230.0    3.0   17.0     3.0  115.000000   \n",
              "75     100.0      3.0  1.0   200.0    3.0   17.0     3.0  110.000000   \n",
              "76     110.0      2.0  1.0   200.0    1.0   16.0     8.0   60.000000   \n",
              "\n",
              "    vitamins  weight  cups  \n",
              "0       25.0     1.0  0.33  \n",
              "1        0.0     1.0  1.00  \n",
              "2       25.0     1.0  0.33  \n",
              "3       25.0     1.0  0.50  \n",
              "4       25.0     1.0  0.75  \n",
              "..       ...     ...   ...  \n",
              "72      25.0     1.0  0.75  \n",
              "73      25.0     1.0  1.00  \n",
              "74      25.0     1.0  0.67  \n",
              "75      25.0     1.0  1.00  \n",
              "76      25.0     1.0  0.75  \n",
              "\n",
              "[77 rows x 11 columns]"
            ]
          },
          "execution_count": 74,
          "metadata": {},
          "output_type": "execute_result"
        }
      ],
      "source": [
        "newdata = pd.DataFrame(mean_imputer.transform(newdata),columns=newdata.columns)\n",
        "newdata\n"
      ]
    },
    {
      "cell_type": "code",
      "execution_count": null,
      "metadata": {
        "id": "niCqRQZmnLvl",
        "outputId": "fc2cae8d-5490-4ac2-a652-16e5b8853745"
      },
      "outputs": [
        {
          "data": {
            "text/plain": [
              "array([4, 0, 4, 4, 1, 1, 1, 7, 2, 2, 1, 2, 1, 0, 1, 6, 6, 1, 1, 0, 5, 6,\n",
              "       1, 2, 1, 1, 5, 7, 7, 1, 1, 1, 2, 2, 0, 1, 2, 1, 3, 3, 6, 0, 1, 5,\n",
              "       7, 7, 7, 2, 1, 7, 2, 7, 7, 3, 5, 5, 0, 0, 7, 0, 5, 6, 6, 5, 5, 5,\n",
              "       1, 2, 5, 3, 3, 3, 6, 1, 2, 2, 1], dtype=int32)"
            ]
          },
          "execution_count": 75,
          "metadata": {},
          "output_type": "execute_result"
        }
      ],
      "source": [
        "best_kmeans_labels = best_kmeans.labels_\n",
        "best_kmeans_labels"
      ]
    },
    {
      "cell_type": "code",
      "execution_count": null,
      "metadata": {
        "id": "k_XLdBzPnLvl",
        "outputId": "c5fcd010-ebe4-4967-f5d4-9ab350309f43"
      },
      "outputs": [
        {
          "data": {
            "text/html": [
              "<div>\n",
              "<style scoped>\n",
              "    .dataframe tbody tr th:only-of-type {\n",
              "        vertical-align: middle;\n",
              "    }\n",
              "\n",
              "    .dataframe tbody tr th {\n",
              "        vertical-align: top;\n",
              "    }\n",
              "\n",
              "    .dataframe thead th {\n",
              "        text-align: right;\n",
              "    }\n",
              "</style>\n",
              "<table border=\"1\" class=\"dataframe\">\n",
              "  <thead>\n",
              "    <tr style=\"text-align: right;\">\n",
              "      <th></th>\n",
              "      <th>label</th>\n",
              "      <th>kmeans_cluster</th>\n",
              "    </tr>\n",
              "  </thead>\n",
              "  <tbody>\n",
              "    <tr>\n",
              "      <th>0</th>\n",
              "      <td>100%_Bran (68.4)</td>\n",
              "      <td>4</td>\n",
              "    </tr>\n",
              "    <tr>\n",
              "      <th>1</th>\n",
              "      <td>100%_Natural_Bran (33.98)</td>\n",
              "      <td>0</td>\n",
              "    </tr>\n",
              "    <tr>\n",
              "      <th>2</th>\n",
              "      <td>All-Bran (59.43)</td>\n",
              "      <td>4</td>\n",
              "    </tr>\n",
              "    <tr>\n",
              "      <th>3</th>\n",
              "      <td>All-Bran_with_Extra_Fiber (93.7)</td>\n",
              "      <td>4</td>\n",
              "    </tr>\n",
              "    <tr>\n",
              "      <th>4</th>\n",
              "      <td>Almond_Delight (34.38)</td>\n",
              "      <td>1</td>\n",
              "    </tr>\n",
              "    <tr>\n",
              "      <th>...</th>\n",
              "      <td>...</td>\n",
              "      <td>...</td>\n",
              "    </tr>\n",
              "    <tr>\n",
              "      <th>72</th>\n",
              "      <td>Triples (39.11)</td>\n",
              "      <td>6</td>\n",
              "    </tr>\n",
              "    <tr>\n",
              "      <th>73</th>\n",
              "      <td>Trix (27.75)</td>\n",
              "      <td>1</td>\n",
              "    </tr>\n",
              "    <tr>\n",
              "      <th>74</th>\n",
              "      <td>Wheat_Chex (49.79)</td>\n",
              "      <td>2</td>\n",
              "    </tr>\n",
              "    <tr>\n",
              "      <th>75</th>\n",
              "      <td>Wheaties (51.59)</td>\n",
              "      <td>2</td>\n",
              "    </tr>\n",
              "    <tr>\n",
              "      <th>76</th>\n",
              "      <td>Wheaties_Honey_Gold (36.19)</td>\n",
              "      <td>1</td>\n",
              "    </tr>\n",
              "  </tbody>\n",
              "</table>\n",
              "<p>77 rows × 2 columns</p>\n",
              "</div>"
            ],
            "text/plain": [
              "                               label  kmeans_cluster\n",
              "0                   100%_Bran (68.4)               4\n",
              "1          100%_Natural_Bran (33.98)               0\n",
              "2                   All-Bran (59.43)               4\n",
              "3   All-Bran_with_Extra_Fiber (93.7)               4\n",
              "4             Almond_Delight (34.38)               1\n",
              "..                               ...             ...\n",
              "72                   Triples (39.11)               6\n",
              "73                      Trix (27.75)               1\n",
              "74                Wheat_Chex (49.79)               2\n",
              "75                  Wheaties (51.59)               2\n",
              "76       Wheaties_Honey_Gold (36.19)               1\n",
              "\n",
              "[77 rows x 2 columns]"
            ]
          },
          "execution_count": 77,
          "metadata": {},
          "output_type": "execute_result"
        }
      ],
      "source": [
        "kmeans_results = pd.DataFrame({\"label\":newdata_label,\"kmeans_cluster\":best_kmeans_labels})\n",
        "kmeans_results"
      ]
    },
    {
      "cell_type": "markdown",
      "metadata": {
        "id": "oDu7Zx0KnLvl"
      },
      "source": [
        "#### References:\n",
        "\n",
        "* https://kapilddatascience.wordpress.com/2015/11/10/using-silhouette-analysis-for-selecting-the-number-of-cluster-for-k-means-clustering/\n",
        "* https://scikit-learn.org/stable/modules/clustering.html#hierarchical-clustering\n",
        "* https://scikit-learn.org/stable/modules/generated/sklearn.cluster.KMeans.html"
      ]
    },
    {
      "cell_type": "markdown",
      "metadata": {
        "id": "AvWPCfpLnLvl"
      },
      "source": [
        "# DBSCAN - Density-Based Spatial Clustering of Applications with Noise"
      ]
    },
    {
      "cell_type": "code",
      "execution_count": null,
      "metadata": {
        "id": "xL9XaF3ynLvl",
        "outputId": "e8b43c29-10b4-4e30-eaab-af4035bc1fe5"
      },
      "outputs": [
        {
          "data": {
            "text/html": [
              "<div>\n",
              "<style scoped>\n",
              "    .dataframe tbody tr th:only-of-type {\n",
              "        vertical-align: middle;\n",
              "    }\n",
              "\n",
              "    .dataframe tbody tr th {\n",
              "        vertical-align: top;\n",
              "    }\n",
              "\n",
              "    .dataframe thead th {\n",
              "        text-align: right;\n",
              "    }\n",
              "</style>\n",
              "<table border=\"1\" class=\"dataframe\">\n",
              "  <thead>\n",
              "    <tr style=\"text-align: right;\">\n",
              "      <th></th>\n",
              "      <th>0</th>\n",
              "      <th>1</th>\n",
              "      <th>2</th>\n",
              "      <th>3</th>\n",
              "      <th>4</th>\n",
              "      <th>5</th>\n",
              "      <th>6</th>\n",
              "      <th>7</th>\n",
              "      <th>8</th>\n",
              "      <th>9</th>\n",
              "      <th>10</th>\n",
              "    </tr>\n",
              "  </thead>\n",
              "  <tbody>\n",
              "    <tr>\n",
              "      <th>0</th>\n",
              "      <td>-1.905397</td>\n",
              "      <td>1.337319</td>\n",
              "      <td>-0.012988</td>\n",
              "      <td>-0.356306</td>\n",
              "      <td>3.314439</td>\n",
              "      <td>-2.542013</td>\n",
              "      <td>-0.237495</td>\n",
              "      <td>2.627053</td>\n",
              "      <td>-0.14627</td>\n",
              "      <td>-0.198067</td>\n",
              "      <td>-2.123870</td>\n",
              "    </tr>\n",
              "    <tr>\n",
              "      <th>1</th>\n",
              "      <td>0.677623</td>\n",
              "      <td>0.417912</td>\n",
              "      <td>3.987349</td>\n",
              "      <td>-1.737087</td>\n",
              "      <td>-0.064172</td>\n",
              "      <td>-1.764055</td>\n",
              "      <td>0.225316</td>\n",
              "      <td>0.526376</td>\n",
              "      <td>-1.27255</td>\n",
              "      <td>-0.198067</td>\n",
              "      <td>0.774053</td>\n",
              "    </tr>\n",
              "    <tr>\n",
              "      <th>2</th>\n",
              "      <td>-1.905397</td>\n",
              "      <td>1.337319</td>\n",
              "      <td>-0.012988</td>\n",
              "      <td>1.204578</td>\n",
              "      <td>2.892113</td>\n",
              "      <td>-2.023374</td>\n",
              "      <td>-0.468901</td>\n",
              "      <td>3.206550</td>\n",
              "      <td>-0.14627</td>\n",
              "      <td>-0.198067</td>\n",
              "      <td>-2.123870</td>\n",
              "    </tr>\n",
              "    <tr>\n",
              "      <th>3</th>\n",
              "      <td>-2.938605</td>\n",
              "      <td>1.337319</td>\n",
              "      <td>-1.013072</td>\n",
              "      <td>-0.236238</td>\n",
              "      <td>5.003745</td>\n",
              "      <td>-1.764055</td>\n",
              "      <td>-1.625929</td>\n",
              "      <td>3.351425</td>\n",
              "      <td>-0.14627</td>\n",
              "      <td>-0.198067</td>\n",
              "      <td>-1.388576</td>\n",
              "    </tr>\n",
              "    <tr>\n",
              "      <th>4</th>\n",
              "      <td>0.161019</td>\n",
              "      <td>-0.501495</td>\n",
              "      <td>0.987096</td>\n",
              "      <td>0.484170</td>\n",
              "      <td>-0.486498</td>\n",
              "      <td>-0.208138</td>\n",
              "      <td>0.225316</td>\n",
              "      <td>0.000000</td>\n",
              "      <td>-0.14627</td>\n",
              "      <td>-0.198067</td>\n",
              "      <td>-0.307262</td>\n",
              "    </tr>\n",
              "    <tr>\n",
              "      <th>...</th>\n",
              "      <td>...</td>\n",
              "      <td>...</td>\n",
              "      <td>...</td>\n",
              "      <td>...</td>\n",
              "      <td>...</td>\n",
              "      <td>...</td>\n",
              "      <td>...</td>\n",
              "      <td>...</td>\n",
              "      <td>...</td>\n",
              "      <td>...</td>\n",
              "      <td>...</td>\n",
              "    </tr>\n",
              "    <tr>\n",
              "      <th>72</th>\n",
              "      <td>0.161019</td>\n",
              "      <td>-0.501495</td>\n",
              "      <td>-0.012988</td>\n",
              "      <td>1.084510</td>\n",
              "      <td>-0.908824</td>\n",
              "      <td>1.607098</td>\n",
              "      <td>-0.931712</td>\n",
              "      <td>-0.560180</td>\n",
              "      <td>-0.14627</td>\n",
              "      <td>-0.198067</td>\n",
              "      <td>-0.307262</td>\n",
              "    </tr>\n",
              "    <tr>\n",
              "      <th>73</th>\n",
              "      <td>0.161019</td>\n",
              "      <td>-1.420902</td>\n",
              "      <td>-0.012988</td>\n",
              "      <td>-0.236238</td>\n",
              "      <td>-0.908824</td>\n",
              "      <td>-0.467457</td>\n",
              "      <td>1.150938</td>\n",
              "      <td>-1.067240</td>\n",
              "      <td>-0.14627</td>\n",
              "      <td>-0.198067</td>\n",
              "      <td>0.774053</td>\n",
              "    </tr>\n",
              "    <tr>\n",
              "      <th>74</th>\n",
              "      <td>-0.355585</td>\n",
              "      <td>0.417912</td>\n",
              "      <td>-0.012988</td>\n",
              "      <td>0.844374</td>\n",
              "      <td>0.358155</td>\n",
              "      <td>0.569820</td>\n",
              "      <td>-0.931712</td>\n",
              "      <td>0.236628</td>\n",
              "      <td>-0.14627</td>\n",
              "      <td>-0.198067</td>\n",
              "      <td>-0.653283</td>\n",
              "    </tr>\n",
              "    <tr>\n",
              "      <th>75</th>\n",
              "      <td>-0.355585</td>\n",
              "      <td>0.417912</td>\n",
              "      <td>-0.012988</td>\n",
              "      <td>0.484170</td>\n",
              "      <td>0.358155</td>\n",
              "      <td>0.569820</td>\n",
              "      <td>-0.931712</td>\n",
              "      <td>0.164191</td>\n",
              "      <td>-0.14627</td>\n",
              "      <td>-0.198067</td>\n",
              "      <td>0.774053</td>\n",
              "    </tr>\n",
              "    <tr>\n",
              "      <th>76</th>\n",
              "      <td>0.161019</td>\n",
              "      <td>-0.501495</td>\n",
              "      <td>-0.012988</td>\n",
              "      <td>0.484170</td>\n",
              "      <td>-0.486498</td>\n",
              "      <td>0.310501</td>\n",
              "      <td>0.225316</td>\n",
              "      <td>-0.560180</td>\n",
              "      <td>-0.14627</td>\n",
              "      <td>-0.198067</td>\n",
              "      <td>-0.307262</td>\n",
              "    </tr>\n",
              "  </tbody>\n",
              "</table>\n",
              "<p>77 rows × 11 columns</p>\n",
              "</div>"
            ],
            "text/plain": [
              "          0         1         2         3         4         5         6   \\\n",
              "0  -1.905397  1.337319 -0.012988 -0.356306  3.314439 -2.542013 -0.237495   \n",
              "1   0.677623  0.417912  3.987349 -1.737087 -0.064172 -1.764055  0.225316   \n",
              "2  -1.905397  1.337319 -0.012988  1.204578  2.892113 -2.023374 -0.468901   \n",
              "3  -2.938605  1.337319 -1.013072 -0.236238  5.003745 -1.764055 -1.625929   \n",
              "4   0.161019 -0.501495  0.987096  0.484170 -0.486498 -0.208138  0.225316   \n",
              "..       ...       ...       ...       ...       ...       ...       ...   \n",
              "72  0.161019 -0.501495 -0.012988  1.084510 -0.908824  1.607098 -0.931712   \n",
              "73  0.161019 -1.420902 -0.012988 -0.236238 -0.908824 -0.467457  1.150938   \n",
              "74 -0.355585  0.417912 -0.012988  0.844374  0.358155  0.569820 -0.931712   \n",
              "75 -0.355585  0.417912 -0.012988  0.484170  0.358155  0.569820 -0.931712   \n",
              "76  0.161019 -0.501495 -0.012988  0.484170 -0.486498  0.310501  0.225316   \n",
              "\n",
              "          7        8         9         10  \n",
              "0   2.627053 -0.14627 -0.198067 -2.123870  \n",
              "1   0.526376 -1.27255 -0.198067  0.774053  \n",
              "2   3.206550 -0.14627 -0.198067 -2.123870  \n",
              "3   3.351425 -0.14627 -0.198067 -1.388576  \n",
              "4   0.000000 -0.14627 -0.198067 -0.307262  \n",
              "..       ...      ...       ...       ...  \n",
              "72 -0.560180 -0.14627 -0.198067 -0.307262  \n",
              "73 -1.067240 -0.14627 -0.198067  0.774053  \n",
              "74  0.236628 -0.14627 -0.198067 -0.653283  \n",
              "75  0.164191 -0.14627 -0.198067  0.774053  \n",
              "76 -0.560180 -0.14627 -0.198067 -0.307262  \n",
              "\n",
              "[77 rows x 11 columns]"
            ]
          },
          "execution_count": 78,
          "metadata": {},
          "output_type": "execute_result"
        }
      ],
      "source": [
        "cereals_std"
      ]
    },
    {
      "cell_type": "code",
      "execution_count": null,
      "metadata": {
        "id": "AjsuqaEtnLvl",
        "outputId": "c3cde23e-e778-4917-bc26-75b2de307818"
      },
      "outputs": [
        {
          "data": {
            "text/plain": [
              "array([-1, -1, -1, -1, -1, -1, -1, -1, -1, -1, -1, -1, -1, -1, -1, -1, -1,\n",
              "       -1, -1, -1, -1, -1, -1, -1, -1, -1, -1, -1, -1, -1, -1, -1, -1, -1,\n",
              "       -1, -1, -1, -1, -1, -1, -1, -1, -1, -1, -1, -1, -1, -1, -1, -1, -1,\n",
              "       -1, -1, -1, -1, -1, -1, -1, -1, -1, -1, -1, -1, -1, -1, -1, -1, -1,\n",
              "       -1, -1, -1, -1, -1, -1, -1, -1, -1])"
            ]
          },
          "execution_count": 133,
          "metadata": {},
          "output_type": "execute_result"
        }
      ],
      "source": [
        "from sklearn.cluster import DBSCAN\n",
        "\n",
        "dbscan = DBSCAN()\n",
        "clustering =  dbscan.fit(cereals_std)\n",
        "clustering.labels_"
      ]
    },
    {
      "cell_type": "code",
      "execution_count": null,
      "metadata": {
        "id": "e99WGG9knLvl",
        "outputId": "252af2d0-49d3-41ad-ec19-fa105b60368a"
      },
      "outputs": [
        {
          "data": {
            "text/plain": [
              "array([-1, -1, -1, -1, -1, -1, -1, -1, -1, -1, -1, -1, -1, -1, -1, -1, -1,\n",
              "       -1, -1, -1, -1, -1, -1, -1, -1, -1, -1, -1, -1, -1, -1, -1, -1, -1,\n",
              "       -1, -1, -1, -1, -1, -1, -1, -1, -1, -1, -1, -1, -1, -1, -1, -1, -1,\n",
              "       -1, -1, -1, -1, -1, -1, -1, -1, -1, -1, -1, -1, -1, -1, -1, -1, -1,\n",
              "       -1, -1, -1, -1, -1, -1, -1, -1, -1])"
            ]
          },
          "execution_count": 134,
          "metadata": {},
          "output_type": "execute_result"
        }
      ],
      "source": [
        "clustering.labels_"
      ]
    },
    {
      "cell_type": "code",
      "execution_count": null,
      "metadata": {
        "id": "daQuDu2unLvm",
        "outputId": "df0dfef6-7f01-42c9-ec71-7db0f110c4f5"
      },
      "outputs": [
        {
          "data": {
            "text/plain": [
              "array([ 0, -1,  0,  0,  1,  1,  1,  1,  1,  1,  1,  2,  1,  1,  1,  1,  1,\n",
              "        1,  1,  1,  1,  1,  1,  1,  1,  1,  1,  1,  1,  1,  1,  1,  1,  1,\n",
              "        1,  1,  1,  1,  3, -1,  1,  1,  1,  1,  4,  4,  1,  1,  1,  1,  1,\n",
              "        1,  1,  3,  5,  5,  1,  1,  1,  1,  1,  1,  1,  1,  1,  1,  1,  2,\n",
              "        1,  3, -1,  3,  1,  1,  1,  1,  1])"
            ]
          },
          "execution_count": 138,
          "metadata": {},
          "output_type": "execute_result"
        }
      ],
      "source": [
        "dbscan = DBSCAN(eps=3, min_samples=2)\n",
        "clustering =  dbscan.fit(cereals_std)\n",
        "clustering.labels_"
      ]
    },
    {
      "cell_type": "code",
      "execution_count": null,
      "metadata": {
        "id": "5FEjmAn7nLvm"
      },
      "outputs": [],
      "source": []
    }
  ],
  "metadata": {
    "kernelspec": {
      "display_name": "Python 3",
      "language": "python",
      "name": "python3"
    },
    "language_info": {
      "codemirror_mode": {
        "name": "ipython",
        "version": 3
      },
      "file_extension": ".py",
      "mimetype": "text/x-python",
      "name": "python",
      "nbconvert_exporter": "python",
      "pygments_lexer": "ipython3",
      "version": "3.7.6"
    },
    "colab": {
      "provenance": [],
      "include_colab_link": true
    }
  },
  "nbformat": 4,
  "nbformat_minor": 0
}