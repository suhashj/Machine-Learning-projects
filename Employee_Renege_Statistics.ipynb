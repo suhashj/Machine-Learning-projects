{
  "cells": [
    {
      "cell_type": "markdown",
      "metadata": {
        "id": "view-in-github",
        "colab_type": "text"
      },
      "source": [
        "<a href=\"https://colab.research.google.com/github/suhashj/Machine-Learning-projects/blob/main/Employee_Renege_Statistics.ipynb\" target=\"_parent\"><img src=\"https://colab.research.google.com/assets/colab-badge.svg\" alt=\"Open In Colab\"/></a>"
      ]
    },
    {
      "cell_type": "markdown",
      "metadata": {
        "id": "5Ah9YYOcnw4X"
      },
      "source": [
        "## <font color = Green> Introduction </font>\n",
        "<br>\n",
        "<br>\n",
        "In an organisation the recruitment teams have hard time to fill the vacant positions. They go through the rigorous process of hiring right from searching for applicants, screening and making an offer the job to prospective candidates. The candidates accept the offer but drop out before the join date. This is called __RENEGE__ in HR domain. So, high Renege means more unfilled positions.\n",
        "\n",
        "We have data collected from different organizations. Lets use this data and get insights on what are the factors for Renege and how to tackle this problem.\n"
      ]
    },
    {
      "cell_type": "markdown",
      "metadata": {
        "id": "NyldP_Wgnw4Z"
      },
      "source": [
        "### <font color = black> Import Libraries </font>"
      ]
    },
    {
      "cell_type": "code",
      "execution_count": null,
      "metadata": {
        "id": "UH_eu-hAnw4a"
      },
      "outputs": [],
      "source": [
        "import warnings\n",
        "warnings.filterwarnings('ignore')\n",
        "import os\n",
        "import pandas as pd\n",
        "import numpy as np\n",
        "import sklearn"
      ]
    },
    {
      "cell_type": "code",
      "execution_count": null,
      "metadata": {
        "id": "Z0X5mVe5nw4a"
      },
      "outputs": [],
      "source": [
        "from sklearn.model_selection import train_test_split              # To split the data into train and test sets\n",
        "from sklearn.metrics import accuracy_score, recall_score          # To compute error metrics\n",
        "from sklearn.metrics import confusion_matrix\n",
        "\n",
        "from sklearn.tree import DecisionTreeClassifier                   # To build Decision tree model\n",
        "from sklearn.ensemble import RandomForestClassifier               # To build Random forest model\n",
        "\n",
        "from sklearn.model_selection import GridSearchCV                  # To perform Grid Search using CV\n",
        "import matplotlib.pyplot as plt \n",
        "import seaborn as sns\n",
        "%matplotlib inline \n",
        "\n",
        "from scipy import stats\n"
      ]
    },
    {
      "cell_type": "markdown",
      "metadata": {
        "id": "2GUNiT3Hnw4b"
      },
      "source": [
        "### <font color = blue> Load the Data </font>"
      ]
    },
    {
      "cell_type": "code",
      "execution_count": null,
      "metadata": {
        "id": "G5yaY8rLnw4b"
      },
      "outputs": [],
      "source": [
        "PATH = os.getcwd()\n",
        "os.chdir(PATH)\n",
        "data = pd.read_csv(\"Employee_Renege.csv\")"
      ]
    },
    {
      "cell_type": "markdown",
      "metadata": {
        "id": "TVoqoVoanw4b"
      },
      "source": [
        "### <font color = blue> Data Overview </font>"
      ]
    },
    {
      "cell_type": "markdown",
      "metadata": {
        "id": "0IiS6Rhinw4b"
      },
      "source": [
        "We have the data of 1999 employees who either joined or dropped the offer after getting an opportunity. For each of employee some data is gathered which is believed to effect the decision either individually or collectively. This data contains employees \n",
        "\n",
        "- Professional information\n",
        "- Personal information\n",
        "- Distance from home\n",
        "- Interview details\n",
        "- Offer details\n",
        "\n",
        "So a total of 17 attributes are collected for each employee meaning number of columns in the data set are 17.\n",
        "\n",
        "Lets see sample data and also check the dtypes for each column\n"
      ]
    },
    {
      "cell_type": "code",
      "execution_count": null,
      "metadata": {
        "id": "DU39eSssnw4b",
        "outputId": "09ae3da7-ca5d-4055-f4cc-958c97f27428"
      },
      "outputs": [
        {
          "data": {
            "text/plain": [
              "(1999, 17)"
            ]
          },
          "execution_count": 4,
          "metadata": {},
          "output_type": "execute_result"
        }
      ],
      "source": [
        "# Check the data dimensions\n",
        "data.shape"
      ]
    },
    {
      "cell_type": "code",
      "execution_count": null,
      "metadata": {
        "id": "rps9u3QWnw4c",
        "outputId": "2dbd0b31-983a-4c5c-de78-5bd7a67295af"
      },
      "outputs": [
        {
          "data": {
            "text/html": [
              "<div>\n",
              "<style scoped>\n",
              "    .dataframe tbody tr th:only-of-type {\n",
              "        vertical-align: middle;\n",
              "    }\n",
              "\n",
              "    .dataframe tbody tr th {\n",
              "        vertical-align: top;\n",
              "    }\n",
              "\n",
              "    .dataframe thead th {\n",
              "        text-align: right;\n",
              "    }\n",
              "</style>\n",
              "<table border=\"1\" class=\"dataframe\">\n",
              "  <thead>\n",
              "    <tr style=\"text-align: right;\">\n",
              "      <th></th>\n",
              "      <th>age</th>\n",
              "      <th>marital_status</th>\n",
              "      <th>education_level</th>\n",
              "      <th>gender</th>\n",
              "      <th>percent_hike</th>\n",
              "      <th>distance_from_home</th>\n",
              "      <th>sourcing_channel</th>\n",
              "      <th>total_rounds</th>\n",
              "      <th>date_1st_contact</th>\n",
              "      <th>date_offered</th>\n",
              "      <th>satisfaction_index</th>\n",
              "      <th>no_companies_worked</th>\n",
              "      <th>career_growth</th>\n",
              "      <th>flexi_work</th>\n",
              "      <th>total_experience</th>\n",
              "      <th>timely_communication</th>\n",
              "      <th>offer_dropped</th>\n",
              "    </tr>\n",
              "  </thead>\n",
              "  <tbody>\n",
              "    <tr>\n",
              "      <th>0</th>\n",
              "      <td>29</td>\n",
              "      <td>married</td>\n",
              "      <td>Associate Certification</td>\n",
              "      <td>Female</td>\n",
              "      <td>27.0</td>\n",
              "      <td>&lt;15 kms</td>\n",
              "      <td>Internal Referrals</td>\n",
              "      <td>8.0</td>\n",
              "      <td>5/12/2015</td>\n",
              "      <td>10/14/2015</td>\n",
              "      <td>24</td>\n",
              "      <td>3.0</td>\n",
              "      <td>Lateral</td>\n",
              "      <td>Yes</td>\n",
              "      <td>5</td>\n",
              "      <td>No</td>\n",
              "      <td>Yes</td>\n",
              "    </tr>\n",
              "    <tr>\n",
              "      <th>1</th>\n",
              "      <td>37</td>\n",
              "      <td>married</td>\n",
              "      <td>Associate Degree</td>\n",
              "      <td>Female</td>\n",
              "      <td>22.0</td>\n",
              "      <td>&lt;15 kms</td>\n",
              "      <td>Consultants</td>\n",
              "      <td>8.0</td>\n",
              "      <td>3/9/2015</td>\n",
              "      <td>9/3/2015</td>\n",
              "      <td>20</td>\n",
              "      <td>8.0</td>\n",
              "      <td>Lateral</td>\n",
              "      <td>Yes</td>\n",
              "      <td>13</td>\n",
              "      <td>No</td>\n",
              "      <td>Yes</td>\n",
              "    </tr>\n",
              "    <tr>\n",
              "      <th>2</th>\n",
              "      <td>28</td>\n",
              "      <td>married</td>\n",
              "      <td>Associate Certification</td>\n",
              "      <td>Female</td>\n",
              "      <td>32.0</td>\n",
              "      <td>&lt;15 kms</td>\n",
              "      <td>Internal Referrals</td>\n",
              "      <td>8.0</td>\n",
              "      <td>12/17/2015</td>\n",
              "      <td>5/22/2016</td>\n",
              "      <td>23</td>\n",
              "      <td>4.0</td>\n",
              "      <td>Lateral</td>\n",
              "      <td>Yes</td>\n",
              "      <td>4</td>\n",
              "      <td>No</td>\n",
              "      <td>Yes</td>\n",
              "    </tr>\n",
              "    <tr>\n",
              "      <th>3</th>\n",
              "      <td>44</td>\n",
              "      <td>married</td>\n",
              "      <td>Associate Certification</td>\n",
              "      <td>Female</td>\n",
              "      <td>27.0</td>\n",
              "      <td>&gt; 20 kms</td>\n",
              "      <td>Job Portals</td>\n",
              "      <td>9.0</td>\n",
              "      <td>12/11/2015</td>\n",
              "      <td>6/7/2016</td>\n",
              "      <td>26</td>\n",
              "      <td>6.0</td>\n",
              "      <td>Lateral</td>\n",
              "      <td>Yes</td>\n",
              "      <td>20</td>\n",
              "      <td>No</td>\n",
              "      <td>Yes</td>\n",
              "    </tr>\n",
              "    <tr>\n",
              "      <th>4</th>\n",
              "      <td>32</td>\n",
              "      <td>married</td>\n",
              "      <td>Bachelor Degree</td>\n",
              "      <td>Female</td>\n",
              "      <td>28.0</td>\n",
              "      <td>15-20 kms</td>\n",
              "      <td>Company Website</td>\n",
              "      <td>3.0</td>\n",
              "      <td>2/13/2016</td>\n",
              "      <td>3/11/2016</td>\n",
              "      <td>53</td>\n",
              "      <td>8.0</td>\n",
              "      <td>Vertical</td>\n",
              "      <td>Yes</td>\n",
              "      <td>8</td>\n",
              "      <td>No</td>\n",
              "      <td>No</td>\n",
              "    </tr>\n",
              "  </tbody>\n",
              "</table>\n",
              "</div>"
            ],
            "text/plain": [
              "   age marital_status          education_level  gender  percent_hike  \\\n",
              "0   29        married  Associate Certification  Female          27.0   \n",
              "1   37        married         Associate Degree  Female          22.0   \n",
              "2   28        married  Associate Certification  Female          32.0   \n",
              "3   44        married  Associate Certification  Female          27.0   \n",
              "4   32        married          Bachelor Degree  Female          28.0   \n",
              "\n",
              "  distance_from_home    sourcing_channel  total_rounds date_1st_contact  \\\n",
              "0            <15 kms  Internal Referrals           8.0        5/12/2015   \n",
              "1            <15 kms         Consultants           8.0         3/9/2015   \n",
              "2            <15 kms  Internal Referrals           8.0       12/17/2015   \n",
              "3           > 20 kms         Job Portals           9.0       12/11/2015   \n",
              "4          15-20 kms     Company Website           3.0        2/13/2016   \n",
              "\n",
              "  date_offered  satisfaction_index  no_companies_worked career_growth  \\\n",
              "0   10/14/2015                  24                  3.0       Lateral   \n",
              "1     9/3/2015                  20                  8.0       Lateral   \n",
              "2    5/22/2016                  23                  4.0       Lateral   \n",
              "3     6/7/2016                  26                  6.0       Lateral   \n",
              "4    3/11/2016                  53                  8.0      Vertical   \n",
              "\n",
              "  flexi_work  total_experience timely_communication offer_dropped  \n",
              "0        Yes                 5                   No           Yes  \n",
              "1        Yes                13                   No           Yes  \n",
              "2        Yes                 4                   No           Yes  \n",
              "3        Yes                20                   No           Yes  \n",
              "4        Yes                 8                   No            No  "
            ]
          },
          "execution_count": 5,
          "metadata": {},
          "output_type": "execute_result"
        }
      ],
      "source": [
        "# Sample Data Check\n",
        "data.head()"
      ]
    },
    {
      "cell_type": "code",
      "execution_count": null,
      "metadata": {
        "id": "NySnt80enw4c",
        "outputId": "c3318be6-8cde-418d-a9e0-8b957463cec0"
      },
      "outputs": [
        {
          "data": {
            "text/plain": [
              "age                       int64\n",
              "marital_status           object\n",
              "education_level          object\n",
              "gender                   object\n",
              "percent_hike            float64\n",
              "distance_from_home       object\n",
              "sourcing_channel         object\n",
              "total_rounds            float64\n",
              "date_1st_contact         object\n",
              "date_offered             object\n",
              "satisfaction_index        int64\n",
              "no_companies_worked     float64\n",
              "career_growth            object\n",
              "flexi_work               object\n",
              "total_experience          int64\n",
              "timely_communication     object\n",
              "offer_dropped            object\n",
              "dtype: object"
            ]
          },
          "execution_count": 6,
          "metadata": {},
          "output_type": "execute_result"
        }
      ],
      "source": [
        "# Checking the Data Types\n",
        "data.dtypes"
      ]
    },
    {
      "cell_type": "markdown",
      "metadata": {
        "id": "8UCI4McQnw4c"
      },
      "source": [
        "Let us calculate the percentage of employees who dropped the offer. This will give an idea on how challenging is to hire an employee."
      ]
    },
    {
      "cell_type": "code",
      "execution_count": null,
      "metadata": {
        "id": "8gf4ASXQnw4c",
        "outputId": "2cc3cb9c-67c7-446b-e133-ef623caafb92"
      },
      "outputs": [
        {
          "data": {
            "text/plain": [
              "Yes    1024\n",
              "No      975\n",
              "Name: offer_dropped, dtype: int64"
            ]
          },
          "execution_count": 7,
          "metadata": {},
          "output_type": "execute_result"
        }
      ],
      "source": [
        "# Target Attribute \"offer_dropped\" frequency distribution\n",
        "pd.value_counts(data[\"offer_dropped\"])"
      ]
    },
    {
      "cell_type": "code",
      "execution_count": null,
      "metadata": {
        "id": "3APis96_nw4c",
        "outputId": "10d9450b-6e9d-4ac7-e332-f605a1755652"
      },
      "outputs": [
        {
          "name": "stdout",
          "output_type": "stream",
          "text": [
            "0.512256128064032\n"
          ]
        }
      ],
      "source": [
        "offer_dropped_percentage = len(data[data[\"offer_dropped\"] == \"Yes\"])/len(data[\"offer_dropped\"])\n",
        "print(offer_dropped_percentage)"
      ]
    },
    {
      "cell_type": "markdown",
      "metadata": {
        "id": "U9EUL444nw4d"
      },
      "source": [
        "Lets have a look at data and see if there are any discrepancies like any attribute missing for employee and also observe the summary statistics."
      ]
    },
    {
      "cell_type": "code",
      "execution_count": null,
      "metadata": {
        "scrolled": true,
        "id": "NFfsHb4xnw4d",
        "outputId": "1c95f43e-996c-45c1-a20a-dd9dca9d9017"
      },
      "outputs": [
        {
          "data": {
            "text/plain": [
              "age                     0\n",
              "marital_status          0\n",
              "education_level         0\n",
              "gender                  0\n",
              "percent_hike            1\n",
              "distance_from_home      0\n",
              "sourcing_channel        1\n",
              "total_rounds            2\n",
              "date_1st_contact        0\n",
              "date_offered            0\n",
              "satisfaction_index      0\n",
              "no_companies_worked     2\n",
              "career_growth           0\n",
              "flexi_work              0\n",
              "total_experience        0\n",
              "timely_communication    0\n",
              "offer_dropped           0\n",
              "dtype: int64"
            ]
          },
          "execution_count": 9,
          "metadata": {},
          "output_type": "execute_result"
        }
      ],
      "source": [
        "# Missing Value Check\n",
        "data.isnull().sum()"
      ]
    },
    {
      "cell_type": "code",
      "execution_count": null,
      "metadata": {
        "id": "2ABkrZPGnw4d",
        "outputId": "76f5b3c3-8fa1-4c85-9ec3-65b5617ff545"
      },
      "outputs": [
        {
          "data": {
            "text/html": [
              "<div>\n",
              "<style scoped>\n",
              "    .dataframe tbody tr th:only-of-type {\n",
              "        vertical-align: middle;\n",
              "    }\n",
              "\n",
              "    .dataframe tbody tr th {\n",
              "        vertical-align: top;\n",
              "    }\n",
              "\n",
              "    .dataframe thead th {\n",
              "        text-align: right;\n",
              "    }\n",
              "</style>\n",
              "<table border=\"1\" class=\"dataframe\">\n",
              "  <thead>\n",
              "    <tr style=\"text-align: right;\">\n",
              "      <th></th>\n",
              "      <th>age</th>\n",
              "      <th>marital_status</th>\n",
              "      <th>education_level</th>\n",
              "      <th>gender</th>\n",
              "      <th>percent_hike</th>\n",
              "      <th>distance_from_home</th>\n",
              "      <th>sourcing_channel</th>\n",
              "      <th>total_rounds</th>\n",
              "      <th>date_1st_contact</th>\n",
              "      <th>date_offered</th>\n",
              "      <th>satisfaction_index</th>\n",
              "      <th>no_companies_worked</th>\n",
              "      <th>career_growth</th>\n",
              "      <th>flexi_work</th>\n",
              "      <th>total_experience</th>\n",
              "      <th>timely_communication</th>\n",
              "      <th>offer_dropped</th>\n",
              "    </tr>\n",
              "  </thead>\n",
              "  <tbody>\n",
              "    <tr>\n",
              "      <th>count</th>\n",
              "      <td>1999.000000</td>\n",
              "      <td>1999</td>\n",
              "      <td>1999</td>\n",
              "      <td>1999</td>\n",
              "      <td>1998.000000</td>\n",
              "      <td>1999</td>\n",
              "      <td>1998</td>\n",
              "      <td>1997.000000</td>\n",
              "      <td>1999</td>\n",
              "      <td>1999</td>\n",
              "      <td>1999.000000</td>\n",
              "      <td>1997.000000</td>\n",
              "      <td>1999</td>\n",
              "      <td>1999</td>\n",
              "      <td>1999.000000</td>\n",
              "      <td>1999</td>\n",
              "      <td>1999</td>\n",
              "    </tr>\n",
              "    <tr>\n",
              "      <th>unique</th>\n",
              "      <td>NaN</td>\n",
              "      <td>4</td>\n",
              "      <td>4</td>\n",
              "      <td>2</td>\n",
              "      <td>NaN</td>\n",
              "      <td>3</td>\n",
              "      <td>5</td>\n",
              "      <td>NaN</td>\n",
              "      <td>252</td>\n",
              "      <td>573</td>\n",
              "      <td>NaN</td>\n",
              "      <td>NaN</td>\n",
              "      <td>2</td>\n",
              "      <td>2</td>\n",
              "      <td>NaN</td>\n",
              "      <td>2</td>\n",
              "      <td>2</td>\n",
              "    </tr>\n",
              "    <tr>\n",
              "      <th>top</th>\n",
              "      <td>NaN</td>\n",
              "      <td>married</td>\n",
              "      <td>Associate Degree</td>\n",
              "      <td>Male</td>\n",
              "      <td>NaN</td>\n",
              "      <td>&gt; 20 kms</td>\n",
              "      <td>Job Portals</td>\n",
              "      <td>NaN</td>\n",
              "      <td>3/31/2015</td>\n",
              "      <td>10/20/2015</td>\n",
              "      <td>NaN</td>\n",
              "      <td>NaN</td>\n",
              "      <td>Lateral</td>\n",
              "      <td>Yes</td>\n",
              "      <td>NaN</td>\n",
              "      <td>No</td>\n",
              "      <td>Yes</td>\n",
              "    </tr>\n",
              "    <tr>\n",
              "      <th>freq</th>\n",
              "      <td>NaN</td>\n",
              "      <td>1389</td>\n",
              "      <td>624</td>\n",
              "      <td>1517</td>\n",
              "      <td>NaN</td>\n",
              "      <td>781</td>\n",
              "      <td>486</td>\n",
              "      <td>NaN</td>\n",
              "      <td>54</td>\n",
              "      <td>9</td>\n",
              "      <td>NaN</td>\n",
              "      <td>NaN</td>\n",
              "      <td>1286</td>\n",
              "      <td>1177</td>\n",
              "      <td>NaN</td>\n",
              "      <td>1188</td>\n",
              "      <td>1024</td>\n",
              "    </tr>\n",
              "    <tr>\n",
              "      <th>mean</th>\n",
              "      <td>35.378189</td>\n",
              "      <td>NaN</td>\n",
              "      <td>NaN</td>\n",
              "      <td>NaN</td>\n",
              "      <td>21.103604</td>\n",
              "      <td>NaN</td>\n",
              "      <td>NaN</td>\n",
              "      <td>6.485228</td>\n",
              "      <td>NaN</td>\n",
              "      <td>NaN</td>\n",
              "      <td>40.383692</td>\n",
              "      <td>4.781673</td>\n",
              "      <td>NaN</td>\n",
              "      <td>NaN</td>\n",
              "      <td>11.103552</td>\n",
              "      <td>NaN</td>\n",
              "      <td>NaN</td>\n",
              "    </tr>\n",
              "    <tr>\n",
              "      <th>std</th>\n",
              "      <td>6.132589</td>\n",
              "      <td>NaN</td>\n",
              "      <td>NaN</td>\n",
              "      <td>NaN</td>\n",
              "      <td>8.932102</td>\n",
              "      <td>NaN</td>\n",
              "      <td>NaN</td>\n",
              "      <td>2.605184</td>\n",
              "      <td>NaN</td>\n",
              "      <td>NaN</td>\n",
              "      <td>23.485313</td>\n",
              "      <td>1.925830</td>\n",
              "      <td>NaN</td>\n",
              "      <td>NaN</td>\n",
              "      <td>6.057349</td>\n",
              "      <td>NaN</td>\n",
              "      <td>NaN</td>\n",
              "    </tr>\n",
              "    <tr>\n",
              "      <th>min</th>\n",
              "      <td>25.000000</td>\n",
              "      <td>NaN</td>\n",
              "      <td>NaN</td>\n",
              "      <td>NaN</td>\n",
              "      <td>10.000000</td>\n",
              "      <td>NaN</td>\n",
              "      <td>NaN</td>\n",
              "      <td>3.000000</td>\n",
              "      <td>NaN</td>\n",
              "      <td>NaN</td>\n",
              "      <td>15.000000</td>\n",
              "      <td>1.000000</td>\n",
              "      <td>NaN</td>\n",
              "      <td>NaN</td>\n",
              "      <td>1.000000</td>\n",
              "      <td>NaN</td>\n",
              "      <td>NaN</td>\n",
              "    </tr>\n",
              "    <tr>\n",
              "      <th>25%</th>\n",
              "      <td>30.000000</td>\n",
              "      <td>NaN</td>\n",
              "      <td>NaN</td>\n",
              "      <td>NaN</td>\n",
              "      <td>13.000000</td>\n",
              "      <td>NaN</td>\n",
              "      <td>NaN</td>\n",
              "      <td>4.000000</td>\n",
              "      <td>NaN</td>\n",
              "      <td>NaN</td>\n",
              "      <td>22.000000</td>\n",
              "      <td>3.000000</td>\n",
              "      <td>NaN</td>\n",
              "      <td>NaN</td>\n",
              "      <td>6.000000</td>\n",
              "      <td>NaN</td>\n",
              "      <td>NaN</td>\n",
              "    </tr>\n",
              "    <tr>\n",
              "      <th>50%</th>\n",
              "      <td>35.000000</td>\n",
              "      <td>NaN</td>\n",
              "      <td>NaN</td>\n",
              "      <td>NaN</td>\n",
              "      <td>19.000000</td>\n",
              "      <td>NaN</td>\n",
              "      <td>NaN</td>\n",
              "      <td>7.000000</td>\n",
              "      <td>NaN</td>\n",
              "      <td>NaN</td>\n",
              "      <td>29.000000</td>\n",
              "      <td>5.000000</td>\n",
              "      <td>NaN</td>\n",
              "      <td>NaN</td>\n",
              "      <td>11.000000</td>\n",
              "      <td>NaN</td>\n",
              "      <td>NaN</td>\n",
              "    </tr>\n",
              "    <tr>\n",
              "      <th>75%</th>\n",
              "      <td>41.000000</td>\n",
              "      <td>NaN</td>\n",
              "      <td>NaN</td>\n",
              "      <td>NaN</td>\n",
              "      <td>29.000000</td>\n",
              "      <td>NaN</td>\n",
              "      <td>NaN</td>\n",
              "      <td>9.000000</td>\n",
              "      <td>NaN</td>\n",
              "      <td>NaN</td>\n",
              "      <td>59.000000</td>\n",
              "      <td>6.000000</td>\n",
              "      <td>NaN</td>\n",
              "      <td>NaN</td>\n",
              "      <td>16.000000</td>\n",
              "      <td>NaN</td>\n",
              "      <td>NaN</td>\n",
              "    </tr>\n",
              "    <tr>\n",
              "      <th>max</th>\n",
              "      <td>46.000000</td>\n",
              "      <td>NaN</td>\n",
              "      <td>NaN</td>\n",
              "      <td>NaN</td>\n",
              "      <td>40.000000</td>\n",
              "      <td>NaN</td>\n",
              "      <td>NaN</td>\n",
              "      <td>10.000000</td>\n",
              "      <td>NaN</td>\n",
              "      <td>NaN</td>\n",
              "      <td>95.000000</td>\n",
              "      <td>8.000000</td>\n",
              "      <td>NaN</td>\n",
              "      <td>NaN</td>\n",
              "      <td>22.000000</td>\n",
              "      <td>NaN</td>\n",
              "      <td>NaN</td>\n",
              "    </tr>\n",
              "  </tbody>\n",
              "</table>\n",
              "</div>"
            ],
            "text/plain": [
              "                age marital_status   education_level gender  percent_hike  \\\n",
              "count   1999.000000           1999              1999   1999   1998.000000   \n",
              "unique          NaN              4                 4      2           NaN   \n",
              "top             NaN        married  Associate Degree   Male           NaN   \n",
              "freq            NaN           1389               624   1517           NaN   \n",
              "mean      35.378189            NaN               NaN    NaN     21.103604   \n",
              "std        6.132589            NaN               NaN    NaN      8.932102   \n",
              "min       25.000000            NaN               NaN    NaN     10.000000   \n",
              "25%       30.000000            NaN               NaN    NaN     13.000000   \n",
              "50%       35.000000            NaN               NaN    NaN     19.000000   \n",
              "75%       41.000000            NaN               NaN    NaN     29.000000   \n",
              "max       46.000000            NaN               NaN    NaN     40.000000   \n",
              "\n",
              "       distance_from_home sourcing_channel  total_rounds date_1st_contact  \\\n",
              "count                1999             1998   1997.000000             1999   \n",
              "unique                  3                5           NaN              252   \n",
              "top              > 20 kms      Job Portals           NaN        3/31/2015   \n",
              "freq                  781              486           NaN               54   \n",
              "mean                  NaN              NaN      6.485228              NaN   \n",
              "std                   NaN              NaN      2.605184              NaN   \n",
              "min                   NaN              NaN      3.000000              NaN   \n",
              "25%                   NaN              NaN      4.000000              NaN   \n",
              "50%                   NaN              NaN      7.000000              NaN   \n",
              "75%                   NaN              NaN      9.000000              NaN   \n",
              "max                   NaN              NaN     10.000000              NaN   \n",
              "\n",
              "       date_offered  satisfaction_index  no_companies_worked career_growth  \\\n",
              "count          1999         1999.000000          1997.000000          1999   \n",
              "unique          573                 NaN                  NaN             2   \n",
              "top      10/20/2015                 NaN                  NaN       Lateral   \n",
              "freq              9                 NaN                  NaN          1286   \n",
              "mean            NaN           40.383692             4.781673           NaN   \n",
              "std             NaN           23.485313             1.925830           NaN   \n",
              "min             NaN           15.000000             1.000000           NaN   \n",
              "25%             NaN           22.000000             3.000000           NaN   \n",
              "50%             NaN           29.000000             5.000000           NaN   \n",
              "75%             NaN           59.000000             6.000000           NaN   \n",
              "max             NaN           95.000000             8.000000           NaN   \n",
              "\n",
              "       flexi_work  total_experience timely_communication offer_dropped  \n",
              "count        1999       1999.000000                 1999          1999  \n",
              "unique          2               NaN                    2             2  \n",
              "top           Yes               NaN                   No           Yes  \n",
              "freq         1177               NaN                 1188          1024  \n",
              "mean          NaN         11.103552                  NaN           NaN  \n",
              "std           NaN          6.057349                  NaN           NaN  \n",
              "min           NaN          1.000000                  NaN           NaN  \n",
              "25%           NaN          6.000000                  NaN           NaN  \n",
              "50%           NaN         11.000000                  NaN           NaN  \n",
              "75%           NaN         16.000000                  NaN           NaN  \n",
              "max           NaN         22.000000                  NaN           NaN  "
            ]
          },
          "execution_count": 10,
          "metadata": {},
          "output_type": "execute_result"
        }
      ],
      "source": [
        "# Data Summary Understanding before data type conversions\n",
        "data.describe(include = 'all')"
      ]
    },
    {
      "cell_type": "markdown",
      "metadata": {
        "id": "iD3_-QTYnw4d"
      },
      "source": [
        "## <font color = green> Data Preprocessing </font>"
      ]
    },
    {
      "cell_type": "markdown",
      "metadata": {
        "id": "VzkOLuZtnw4d"
      },
      "source": [
        "### <font color = blue> Data Type Conversions </font>\n",
        "\n",
        "Before diving deep in to the data and understand the factors for __RENEGE__ and solve it lets do some data Pre-processing\n",
        "When we read the data the date columns like date_offered, date_1st_contact and categorical columns like marital_status, education_level, gender etc... are read as Object in Pandas data frame. \n",
        "Lets type cast them to appropriate types."
      ]
    },
    {
      "cell_type": "code",
      "execution_count": null,
      "metadata": {
        "id": "fBqzyvKcnw4e"
      },
      "outputs": [],
      "source": [
        "# Convert variables to Date\n",
        "cols = ['date_1st_contact','date_offered']\n",
        "data[cols] = data[cols].apply(pd.to_datetime)\n"
      ]
    },
    {
      "cell_type": "markdown",
      "metadata": {
        "id": "Vr0_j38Tnw4e"
      },
      "source": [
        "Checking data types after type casting"
      ]
    },
    {
      "cell_type": "code",
      "execution_count": null,
      "metadata": {
        "id": "5v9XJxGUnw4e",
        "outputId": "f4866df4-ca8d-433f-d991-4aa1e74fcd1a"
      },
      "outputs": [
        {
          "data": {
            "text/plain": [
              "age                              int64\n",
              "marital_status                  object\n",
              "education_level                 object\n",
              "gender                          object\n",
              "percent_hike                   float64\n",
              "distance_from_home              object\n",
              "sourcing_channel                object\n",
              "total_rounds                   float64\n",
              "date_1st_contact        datetime64[ns]\n",
              "date_offered            datetime64[ns]\n",
              "satisfaction_index               int64\n",
              "no_companies_worked            float64\n",
              "career_growth                   object\n",
              "flexi_work                      object\n",
              "total_experience                 int64\n",
              "timely_communication            object\n",
              "offer_dropped                   object\n",
              "dtype: object"
            ]
          },
          "execution_count": 12,
          "metadata": {},
          "output_type": "execute_result"
        }
      ],
      "source": [
        "data.dtypes"
      ]
    },
    {
      "cell_type": "markdown",
      "metadata": {
        "id": "L680zrvqnw4e"
      },
      "source": [
        "#### <font color = brown>Convert all category variables and check</font>"
      ]
    },
    {
      "cell_type": "code",
      "execution_count": null,
      "metadata": {
        "id": "Jie76Z5Nnw4e"
      },
      "outputs": [],
      "source": [
        "# Convert variables to Category\n",
        "cat_cols = data.select_dtypes(include=['object']).columns\n",
        "for col in cat_cols:\n",
        "    data[col] = data[col].astype(\"category\")"
      ]
    },
    {
      "cell_type": "code",
      "execution_count": null,
      "metadata": {
        "id": "_bAfD7lbnw4e",
        "outputId": "7d17e06c-b91b-4a52-e891-ef517049b3a8"
      },
      "outputs": [
        {
          "data": {
            "text/plain": [
              "age                              int64\n",
              "marital_status                category\n",
              "education_level               category\n",
              "gender                        category\n",
              "percent_hike                   float64\n",
              "distance_from_home            category\n",
              "sourcing_channel              category\n",
              "total_rounds                   float64\n",
              "date_1st_contact        datetime64[ns]\n",
              "date_offered            datetime64[ns]\n",
              "satisfaction_index               int64\n",
              "no_companies_worked            float64\n",
              "career_growth                 category\n",
              "flexi_work                    category\n",
              "total_experience                 int64\n",
              "timely_communication          category\n",
              "offer_dropped                 category\n",
              "dtype: object"
            ]
          },
          "execution_count": 14,
          "metadata": {},
          "output_type": "execute_result"
        }
      ],
      "source": [
        "data.dtypes"
      ]
    },
    {
      "cell_type": "markdown",
      "metadata": {
        "id": "ky4dE6gRnw4f"
      },
      "source": [
        "### <font color=green>Missing Value Imputation </font>\n",
        "\n",
        "Earlier we seen that we have 6 instances in total where we did not have employee information. These missing values are present in the \"offer dropped\", \"date_1st_contact\",\"data_offered\" attributes. \n",
        "Here we shall see the 2 out of 3 approaches to handle the missing values\n",
        "1. As the missing values are very small. Delete the employees for whome we have the missing information.\n",
        "2. Impute the missing values using the central tendencies"
      ]
    },
    {
      "cell_type": "code",
      "execution_count": null,
      "metadata": {
        "id": "z54nLZmmnw4f"
      },
      "outputs": [],
      "source": [
        "data1 = data.dropna(axis = 0)"
      ]
    },
    {
      "cell_type": "code",
      "execution_count": null,
      "metadata": {
        "id": "84wKax94nw4f",
        "outputId": "c686728b-7a92-467c-b4c4-aee8ad003fb6"
      },
      "outputs": [
        {
          "data": {
            "text/plain": [
              "(1993, 17)"
            ]
          },
          "execution_count": 16,
          "metadata": {},
          "output_type": "execute_result"
        }
      ],
      "source": [
        "data1.shape"
      ]
    },
    {
      "cell_type": "code",
      "execution_count": null,
      "metadata": {
        "id": "WpcXlJztnw4f"
      },
      "outputs": [],
      "source": [
        "# Dropping the rows where target variable is missing and the date variables, \n",
        "# where it is difficult to estimate \n",
        "#data = data.dropna(subset=['offer_dropped','date_1st_contact','date_offered'])"
      ]
    },
    {
      "cell_type": "code",
      "execution_count": null,
      "metadata": {
        "id": "JPGm2gHBnw4f",
        "outputId": "8b966f19-8977-4de1-f2d6-fd4b0908cad9"
      },
      "outputs": [
        {
          "name": "stdout",
          "output_type": "stream",
          "text": [
            "(1999, 17)\n"
          ]
        }
      ],
      "source": [
        "print(data.shape)\n"
      ]
    },
    {
      "cell_type": "code",
      "execution_count": null,
      "metadata": {
        "id": "BPUhISivnw4f",
        "outputId": "cfe8c634-537a-420a-f6c1-66cfbd1a00d1"
      },
      "outputs": [
        {
          "data": {
            "text/plain": [
              "age                     0\n",
              "marital_status          0\n",
              "education_level         0\n",
              "gender                  0\n",
              "percent_hike            1\n",
              "distance_from_home      0\n",
              "sourcing_channel        1\n",
              "total_rounds            2\n",
              "date_1st_contact        0\n",
              "date_offered            0\n",
              "satisfaction_index      0\n",
              "no_companies_worked     2\n",
              "career_growth           0\n",
              "flexi_work              0\n",
              "total_experience        0\n",
              "timely_communication    0\n",
              "offer_dropped           0\n",
              "dtype: int64"
            ]
          },
          "execution_count": 19,
          "metadata": {},
          "output_type": "execute_result"
        }
      ],
      "source": [
        "data.isnull().sum()"
      ]
    },
    {
      "cell_type": "markdown",
      "metadata": {
        "id": "bBB6w8lTnw4g"
      },
      "source": [
        "#### <font color = brown>Imputation</font>\n",
        "\n",
        "For numerical columns one can use __mean__ or __median__ central tendency to impute the missing values.\n",
        "<br>For categorical columns we can use __mode__ as the central tendency to impute.\n",
        "<br>\n",
        "<br>\n",
        "So lets get all the numerical column names and categorical names from the data set"
      ]
    },
    {
      "cell_type": "code",
      "execution_count": null,
      "metadata": {
        "id": "RQvE7uwGnw4g",
        "outputId": "2f3d0b69-383e-4dab-969c-28d94d7b67c0"
      },
      "outputs": [
        {
          "name": "stdout",
          "output_type": "stream",
          "text": [
            "Index(['age', 'percent_hike', 'total_rounds', 'satisfaction_index',\n",
            "       'no_companies_worked', 'total_experience'],\n",
            "      dtype='object')\n"
          ]
        },
        {
          "data": {
            "text/html": [
              "<div>\n",
              "<style scoped>\n",
              "    .dataframe tbody tr th:only-of-type {\n",
              "        vertical-align: middle;\n",
              "    }\n",
              "\n",
              "    .dataframe tbody tr th {\n",
              "        vertical-align: top;\n",
              "    }\n",
              "\n",
              "    .dataframe thead th {\n",
              "        text-align: right;\n",
              "    }\n",
              "</style>\n",
              "<table border=\"1\" class=\"dataframe\">\n",
              "  <thead>\n",
              "    <tr style=\"text-align: right;\">\n",
              "      <th></th>\n",
              "      <th>marital_status</th>\n",
              "      <th>education_level</th>\n",
              "      <th>gender</th>\n",
              "      <th>distance_from_home</th>\n",
              "      <th>sourcing_channel</th>\n",
              "      <th>career_growth</th>\n",
              "      <th>flexi_work</th>\n",
              "      <th>timely_communication</th>\n",
              "      <th>offer_dropped</th>\n",
              "    </tr>\n",
              "  </thead>\n",
              "  <tbody>\n",
              "    <tr>\n",
              "      <th>0</th>\n",
              "      <td>married</td>\n",
              "      <td>Associate Certification</td>\n",
              "      <td>Female</td>\n",
              "      <td>&lt;15 kms</td>\n",
              "      <td>Internal Referrals</td>\n",
              "      <td>Lateral</td>\n",
              "      <td>Yes</td>\n",
              "      <td>No</td>\n",
              "      <td>Yes</td>\n",
              "    </tr>\n",
              "    <tr>\n",
              "      <th>1</th>\n",
              "      <td>married</td>\n",
              "      <td>Associate Degree</td>\n",
              "      <td>Female</td>\n",
              "      <td>&lt;15 kms</td>\n",
              "      <td>Consultants</td>\n",
              "      <td>Lateral</td>\n",
              "      <td>Yes</td>\n",
              "      <td>No</td>\n",
              "      <td>Yes</td>\n",
              "    </tr>\n",
              "    <tr>\n",
              "      <th>2</th>\n",
              "      <td>married</td>\n",
              "      <td>Associate Certification</td>\n",
              "      <td>Female</td>\n",
              "      <td>&lt;15 kms</td>\n",
              "      <td>Internal Referrals</td>\n",
              "      <td>Lateral</td>\n",
              "      <td>Yes</td>\n",
              "      <td>No</td>\n",
              "      <td>Yes</td>\n",
              "    </tr>\n",
              "    <tr>\n",
              "      <th>3</th>\n",
              "      <td>married</td>\n",
              "      <td>Associate Certification</td>\n",
              "      <td>Female</td>\n",
              "      <td>&gt; 20 kms</td>\n",
              "      <td>Job Portals</td>\n",
              "      <td>Lateral</td>\n",
              "      <td>Yes</td>\n",
              "      <td>No</td>\n",
              "      <td>Yes</td>\n",
              "    </tr>\n",
              "    <tr>\n",
              "      <th>4</th>\n",
              "      <td>married</td>\n",
              "      <td>Bachelor Degree</td>\n",
              "      <td>Female</td>\n",
              "      <td>15-20 kms</td>\n",
              "      <td>Company Website</td>\n",
              "      <td>Vertical</td>\n",
              "      <td>Yes</td>\n",
              "      <td>No</td>\n",
              "      <td>No</td>\n",
              "    </tr>\n",
              "  </tbody>\n",
              "</table>\n",
              "</div>"
            ],
            "text/plain": [
              "  marital_status          education_level  gender distance_from_home  \\\n",
              "0        married  Associate Certification  Female            <15 kms   \n",
              "1        married         Associate Degree  Female            <15 kms   \n",
              "2        married  Associate Certification  Female            <15 kms   \n",
              "3        married  Associate Certification  Female           > 20 kms   \n",
              "4        married          Bachelor Degree  Female          15-20 kms   \n",
              "\n",
              "     sourcing_channel career_growth flexi_work timely_communication  \\\n",
              "0  Internal Referrals       Lateral        Yes                   No   \n",
              "1         Consultants       Lateral        Yes                   No   \n",
              "2  Internal Referrals       Lateral        Yes                   No   \n",
              "3         Job Portals       Lateral        Yes                   No   \n",
              "4     Company Website      Vertical        Yes                   No   \n",
              "\n",
              "  offer_dropped  \n",
              "0           Yes  \n",
              "1           Yes  \n",
              "2           Yes  \n",
              "3           Yes  \n",
              "4            No  "
            ]
          },
          "execution_count": 20,
          "metadata": {},
          "output_type": "execute_result"
        }
      ],
      "source": [
        "num_cols = data.select_dtypes(include=['float64','int64'])\n",
        "cat_cols = data.select_dtypes(include=['category'])\n",
        "print(num_cols.columns) # print the numeric columns\n",
        "cat_cols.head()"
      ]
    },
    {
      "cell_type": "markdown",
      "metadata": {
        "id": "-bIDMPdHnw4g"
      },
      "source": [
        "Missing values imputation\n"
      ]
    },
    {
      "cell_type": "code",
      "execution_count": null,
      "metadata": {
        "id": "MiLR4bHFnw4g",
        "outputId": "0e34fd1f-a03c-4691-f77b-ee1428d5c4d3"
      },
      "outputs": [
        {
          "data": {
            "text/html": [
              "<div>\n",
              "<style scoped>\n",
              "    .dataframe tbody tr th:only-of-type {\n",
              "        vertical-align: middle;\n",
              "    }\n",
              "\n",
              "    .dataframe tbody tr th {\n",
              "        vertical-align: top;\n",
              "    }\n",
              "\n",
              "    .dataframe thead th {\n",
              "        text-align: right;\n",
              "    }\n",
              "</style>\n",
              "<table border=\"1\" class=\"dataframe\">\n",
              "  <thead>\n",
              "    <tr style=\"text-align: right;\">\n",
              "      <th></th>\n",
              "      <th>marital_status</th>\n",
              "      <th>education_level</th>\n",
              "      <th>gender</th>\n",
              "      <th>distance_from_home</th>\n",
              "      <th>sourcing_channel</th>\n",
              "      <th>career_growth</th>\n",
              "      <th>flexi_work</th>\n",
              "      <th>timely_communication</th>\n",
              "      <th>offer_dropped</th>\n",
              "    </tr>\n",
              "  </thead>\n",
              "  <tbody>\n",
              "    <tr>\n",
              "      <th>0</th>\n",
              "      <td>married</td>\n",
              "      <td>Associate Certification</td>\n",
              "      <td>Female</td>\n",
              "      <td>&lt;15 kms</td>\n",
              "      <td>Internal Referrals</td>\n",
              "      <td>Lateral</td>\n",
              "      <td>Yes</td>\n",
              "      <td>No</td>\n",
              "      <td>Yes</td>\n",
              "    </tr>\n",
              "    <tr>\n",
              "      <th>1</th>\n",
              "      <td>married</td>\n",
              "      <td>Associate Degree</td>\n",
              "      <td>Female</td>\n",
              "      <td>&lt;15 kms</td>\n",
              "      <td>Consultants</td>\n",
              "      <td>Lateral</td>\n",
              "      <td>Yes</td>\n",
              "      <td>No</td>\n",
              "      <td>Yes</td>\n",
              "    </tr>\n",
              "    <tr>\n",
              "      <th>2</th>\n",
              "      <td>married</td>\n",
              "      <td>Associate Certification</td>\n",
              "      <td>Female</td>\n",
              "      <td>&lt;15 kms</td>\n",
              "      <td>Internal Referrals</td>\n",
              "      <td>Lateral</td>\n",
              "      <td>Yes</td>\n",
              "      <td>No</td>\n",
              "      <td>Yes</td>\n",
              "    </tr>\n",
              "    <tr>\n",
              "      <th>3</th>\n",
              "      <td>married</td>\n",
              "      <td>Associate Certification</td>\n",
              "      <td>Female</td>\n",
              "      <td>&gt; 20 kms</td>\n",
              "      <td>Job Portals</td>\n",
              "      <td>Lateral</td>\n",
              "      <td>Yes</td>\n",
              "      <td>No</td>\n",
              "      <td>Yes</td>\n",
              "    </tr>\n",
              "    <tr>\n",
              "      <th>4</th>\n",
              "      <td>married</td>\n",
              "      <td>Bachelor Degree</td>\n",
              "      <td>Female</td>\n",
              "      <td>15-20 kms</td>\n",
              "      <td>Company Website</td>\n",
              "      <td>Vertical</td>\n",
              "      <td>Yes</td>\n",
              "      <td>No</td>\n",
              "      <td>No</td>\n",
              "    </tr>\n",
              "  </tbody>\n",
              "</table>\n",
              "</div>"
            ],
            "text/plain": [
              "  marital_status          education_level  gender distance_from_home  \\\n",
              "0        married  Associate Certification  Female            <15 kms   \n",
              "1        married         Associate Degree  Female            <15 kms   \n",
              "2        married  Associate Certification  Female            <15 kms   \n",
              "3        married  Associate Certification  Female           > 20 kms   \n",
              "4        married          Bachelor Degree  Female          15-20 kms   \n",
              "\n",
              "     sourcing_channel career_growth flexi_work timely_communication  \\\n",
              "0  Internal Referrals       Lateral        Yes                   No   \n",
              "1         Consultants       Lateral        Yes                   No   \n",
              "2  Internal Referrals       Lateral        Yes                   No   \n",
              "3         Job Portals       Lateral        Yes                   No   \n",
              "4     Company Website      Vertical        Yes                   No   \n",
              "\n",
              "  offer_dropped  \n",
              "0           Yes  \n",
              "1           Yes  \n",
              "2           Yes  \n",
              "3           Yes  \n",
              "4            No  "
            ]
          },
          "execution_count": 21,
          "metadata": {},
          "output_type": "execute_result"
        }
      ],
      "source": [
        "from sklearn.impute import SimpleImputer\n",
        "imp = SimpleImputer(missing_values=np.nan,strategy='mean')\n",
        "num_data = pd.DataFrame(imp.fit_transform(num_cols),columns=num_cols.columns)\n",
        "imp = SimpleImputer(missing_values=np.nan,strategy='most_frequent')\n",
        "cat_data = pd.DataFrame(imp.fit_transform(cat_cols),columns=cat_cols.columns)\n",
        "cat_data.head()"
      ]
    },
    {
      "cell_type": "code",
      "execution_count": null,
      "metadata": {
        "id": "L_3epFIynw4g",
        "outputId": "ed710a27-5844-4581-d148-0b1d4afdd506"
      },
      "outputs": [
        {
          "data": {
            "text/html": [
              "<div>\n",
              "<style scoped>\n",
              "    .dataframe tbody tr th:only-of-type {\n",
              "        vertical-align: middle;\n",
              "    }\n",
              "\n",
              "    .dataframe tbody tr th {\n",
              "        vertical-align: top;\n",
              "    }\n",
              "\n",
              "    .dataframe thead th {\n",
              "        text-align: right;\n",
              "    }\n",
              "</style>\n",
              "<table border=\"1\" class=\"dataframe\">\n",
              "  <thead>\n",
              "    <tr style=\"text-align: right;\">\n",
              "      <th></th>\n",
              "      <th>age</th>\n",
              "      <th>percent_hike</th>\n",
              "      <th>total_rounds</th>\n",
              "      <th>satisfaction_index</th>\n",
              "      <th>no_companies_worked</th>\n",
              "      <th>total_experience</th>\n",
              "    </tr>\n",
              "  </thead>\n",
              "  <tbody>\n",
              "    <tr>\n",
              "      <th>0</th>\n",
              "      <td>29.0</td>\n",
              "      <td>27.0</td>\n",
              "      <td>8.0</td>\n",
              "      <td>24.0</td>\n",
              "      <td>3.0</td>\n",
              "      <td>5.0</td>\n",
              "    </tr>\n",
              "    <tr>\n",
              "      <th>1</th>\n",
              "      <td>37.0</td>\n",
              "      <td>22.0</td>\n",
              "      <td>8.0</td>\n",
              "      <td>20.0</td>\n",
              "      <td>8.0</td>\n",
              "      <td>13.0</td>\n",
              "    </tr>\n",
              "    <tr>\n",
              "      <th>2</th>\n",
              "      <td>28.0</td>\n",
              "      <td>32.0</td>\n",
              "      <td>8.0</td>\n",
              "      <td>23.0</td>\n",
              "      <td>4.0</td>\n",
              "      <td>4.0</td>\n",
              "    </tr>\n",
              "    <tr>\n",
              "      <th>3</th>\n",
              "      <td>44.0</td>\n",
              "      <td>27.0</td>\n",
              "      <td>9.0</td>\n",
              "      <td>26.0</td>\n",
              "      <td>6.0</td>\n",
              "      <td>20.0</td>\n",
              "    </tr>\n",
              "    <tr>\n",
              "      <th>4</th>\n",
              "      <td>32.0</td>\n",
              "      <td>28.0</td>\n",
              "      <td>3.0</td>\n",
              "      <td>53.0</td>\n",
              "      <td>8.0</td>\n",
              "      <td>8.0</td>\n",
              "    </tr>\n",
              "  </tbody>\n",
              "</table>\n",
              "</div>"
            ],
            "text/plain": [
              "    age  percent_hike  total_rounds  satisfaction_index  no_companies_worked  \\\n",
              "0  29.0          27.0           8.0                24.0                  3.0   \n",
              "1  37.0          22.0           8.0                20.0                  8.0   \n",
              "2  28.0          32.0           8.0                23.0                  4.0   \n",
              "3  44.0          27.0           9.0                26.0                  6.0   \n",
              "4  32.0          28.0           3.0                53.0                  8.0   \n",
              "\n",
              "   total_experience  \n",
              "0               5.0  \n",
              "1              13.0  \n",
              "2               4.0  \n",
              "3              20.0  \n",
              "4               8.0  "
            ]
          },
          "execution_count": 22,
          "metadata": {},
          "output_type": "execute_result"
        }
      ],
      "source": [
        "num_data.head()"
      ]
    },
    {
      "cell_type": "markdown",
      "metadata": {
        "id": "gRGfj5tCnw4g"
      },
      "source": [
        "Getting the Final dataset after conversions and missing values imputation"
      ]
    },
    {
      "cell_type": "code",
      "execution_count": null,
      "metadata": {
        "id": "AUGKK48Bnw4h",
        "outputId": "7d8e11f7-e907-40d3-ad9d-047705bd2802"
      },
      "outputs": [
        {
          "data": {
            "text/plain": [
              "Index(['age', 'marital_status', 'education_level', 'gender', 'percent_hike',\n",
              "       'distance_from_home', 'sourcing_channel', 'total_rounds',\n",
              "       'date_1st_contact', 'date_offered', 'satisfaction_index',\n",
              "       'no_companies_worked', 'career_growth', 'flexi_work',\n",
              "       'total_experience', 'timely_communication', 'offer_dropped'],\n",
              "      dtype='object')"
            ]
          },
          "execution_count": 23,
          "metadata": {},
          "output_type": "execute_result"
        }
      ],
      "source": [
        "data.columns"
      ]
    },
    {
      "cell_type": "code",
      "execution_count": null,
      "metadata": {
        "id": "dfc4B-8Znw4h",
        "outputId": "49889edc-5b22-4e3a-dd7e-da2c0948e712"
      },
      "outputs": [
        {
          "data": {
            "text/html": [
              "<div>\n",
              "<style scoped>\n",
              "    .dataframe tbody tr th:only-of-type {\n",
              "        vertical-align: middle;\n",
              "    }\n",
              "\n",
              "    .dataframe tbody tr th {\n",
              "        vertical-align: top;\n",
              "    }\n",
              "\n",
              "    .dataframe thead th {\n",
              "        text-align: right;\n",
              "    }\n",
              "</style>\n",
              "<table border=\"1\" class=\"dataframe\">\n",
              "  <thead>\n",
              "    <tr style=\"text-align: right;\">\n",
              "      <th></th>\n",
              "      <th>age</th>\n",
              "      <th>percent_hike</th>\n",
              "      <th>total_rounds</th>\n",
              "      <th>satisfaction_index</th>\n",
              "      <th>no_companies_worked</th>\n",
              "      <th>total_experience</th>\n",
              "      <th>marital_status</th>\n",
              "      <th>education_level</th>\n",
              "      <th>gender</th>\n",
              "      <th>distance_from_home</th>\n",
              "      <th>sourcing_channel</th>\n",
              "      <th>career_growth</th>\n",
              "      <th>flexi_work</th>\n",
              "      <th>timely_communication</th>\n",
              "      <th>offer_dropped</th>\n",
              "      <th>date_1st_contact</th>\n",
              "      <th>date_offered</th>\n",
              "    </tr>\n",
              "  </thead>\n",
              "  <tbody>\n",
              "    <tr>\n",
              "      <th>0</th>\n",
              "      <td>29.0</td>\n",
              "      <td>27.0</td>\n",
              "      <td>8.0</td>\n",
              "      <td>24.0</td>\n",
              "      <td>3.0</td>\n",
              "      <td>5.0</td>\n",
              "      <td>married</td>\n",
              "      <td>Associate Certification</td>\n",
              "      <td>Female</td>\n",
              "      <td>&lt;15 kms</td>\n",
              "      <td>Internal Referrals</td>\n",
              "      <td>Lateral</td>\n",
              "      <td>Yes</td>\n",
              "      <td>No</td>\n",
              "      <td>Yes</td>\n",
              "      <td>2015-05-12</td>\n",
              "      <td>2015-10-14</td>\n",
              "    </tr>\n",
              "    <tr>\n",
              "      <th>1</th>\n",
              "      <td>37.0</td>\n",
              "      <td>22.0</td>\n",
              "      <td>8.0</td>\n",
              "      <td>20.0</td>\n",
              "      <td>8.0</td>\n",
              "      <td>13.0</td>\n",
              "      <td>married</td>\n",
              "      <td>Associate Degree</td>\n",
              "      <td>Female</td>\n",
              "      <td>&lt;15 kms</td>\n",
              "      <td>Consultants</td>\n",
              "      <td>Lateral</td>\n",
              "      <td>Yes</td>\n",
              "      <td>No</td>\n",
              "      <td>Yes</td>\n",
              "      <td>2015-03-09</td>\n",
              "      <td>2015-09-03</td>\n",
              "    </tr>\n",
              "    <tr>\n",
              "      <th>2</th>\n",
              "      <td>28.0</td>\n",
              "      <td>32.0</td>\n",
              "      <td>8.0</td>\n",
              "      <td>23.0</td>\n",
              "      <td>4.0</td>\n",
              "      <td>4.0</td>\n",
              "      <td>married</td>\n",
              "      <td>Associate Certification</td>\n",
              "      <td>Female</td>\n",
              "      <td>&lt;15 kms</td>\n",
              "      <td>Internal Referrals</td>\n",
              "      <td>Lateral</td>\n",
              "      <td>Yes</td>\n",
              "      <td>No</td>\n",
              "      <td>Yes</td>\n",
              "      <td>2015-12-17</td>\n",
              "      <td>2016-05-22</td>\n",
              "    </tr>\n",
              "    <tr>\n",
              "      <th>3</th>\n",
              "      <td>44.0</td>\n",
              "      <td>27.0</td>\n",
              "      <td>9.0</td>\n",
              "      <td>26.0</td>\n",
              "      <td>6.0</td>\n",
              "      <td>20.0</td>\n",
              "      <td>married</td>\n",
              "      <td>Associate Certification</td>\n",
              "      <td>Female</td>\n",
              "      <td>&gt; 20 kms</td>\n",
              "      <td>Job Portals</td>\n",
              "      <td>Lateral</td>\n",
              "      <td>Yes</td>\n",
              "      <td>No</td>\n",
              "      <td>Yes</td>\n",
              "      <td>2015-12-11</td>\n",
              "      <td>2016-06-07</td>\n",
              "    </tr>\n",
              "    <tr>\n",
              "      <th>4</th>\n",
              "      <td>32.0</td>\n",
              "      <td>28.0</td>\n",
              "      <td>3.0</td>\n",
              "      <td>53.0</td>\n",
              "      <td>8.0</td>\n",
              "      <td>8.0</td>\n",
              "      <td>married</td>\n",
              "      <td>Bachelor Degree</td>\n",
              "      <td>Female</td>\n",
              "      <td>15-20 kms</td>\n",
              "      <td>Company Website</td>\n",
              "      <td>Vertical</td>\n",
              "      <td>Yes</td>\n",
              "      <td>No</td>\n",
              "      <td>No</td>\n",
              "      <td>2016-02-13</td>\n",
              "      <td>2016-03-11</td>\n",
              "    </tr>\n",
              "  </tbody>\n",
              "</table>\n",
              "</div>"
            ],
            "text/plain": [
              "    age  percent_hike  total_rounds  satisfaction_index  no_companies_worked  \\\n",
              "0  29.0          27.0           8.0                24.0                  3.0   \n",
              "1  37.0          22.0           8.0                20.0                  8.0   \n",
              "2  28.0          32.0           8.0                23.0                  4.0   \n",
              "3  44.0          27.0           9.0                26.0                  6.0   \n",
              "4  32.0          28.0           3.0                53.0                  8.0   \n",
              "\n",
              "   total_experience marital_status          education_level  gender  \\\n",
              "0               5.0        married  Associate Certification  Female   \n",
              "1              13.0        married         Associate Degree  Female   \n",
              "2               4.0        married  Associate Certification  Female   \n",
              "3              20.0        married  Associate Certification  Female   \n",
              "4               8.0        married          Bachelor Degree  Female   \n",
              "\n",
              "  distance_from_home    sourcing_channel career_growth flexi_work  \\\n",
              "0            <15 kms  Internal Referrals       Lateral        Yes   \n",
              "1            <15 kms         Consultants       Lateral        Yes   \n",
              "2            <15 kms  Internal Referrals       Lateral        Yes   \n",
              "3           > 20 kms         Job Portals       Lateral        Yes   \n",
              "4          15-20 kms     Company Website      Vertical        Yes   \n",
              "\n",
              "  timely_communication offer_dropped date_1st_contact date_offered  \n",
              "0                   No           Yes       2015-05-12   2015-10-14  \n",
              "1                   No           Yes       2015-03-09   2015-09-03  \n",
              "2                   No           Yes       2015-12-17   2016-05-22  \n",
              "3                   No           Yes       2015-12-11   2016-06-07  \n",
              "4                   No            No       2016-02-13   2016-03-11  "
            ]
          },
          "execution_count": 24,
          "metadata": {},
          "output_type": "execute_result"
        }
      ],
      "source": [
        "data_final = pd.concat([num_data,cat_data,data.loc[:,[\"date_1st_contact\",\"date_offered\"]]],axis=1)\n",
        "data_final.head(5)"
      ]
    },
    {
      "cell_type": "markdown",
      "metadata": {
        "id": "zxzCwtr_nw4h"
      },
      "source": [
        "### <font color = blue>Feature Engineering - New Variable Creation </font>"
      ]
    },
    {
      "cell_type": "markdown",
      "metadata": {
        "id": "GCYR1OZLnw4h"
      },
      "source": [
        "Using the Domain knowledge or by understanding the data it is always good to create a new data attribute this is called feature engineering\n",
        "\n",
        "The following 2 parameters below are not calculated but play an important role to understand the __RENEGE__ problem.\n",
        "1. Job Hopping Index\n",
        "2. Days between first contacted and offered rolled out.\n",
        "\n",
        "__Job Hopping Index__<br>\n",
        "we know that Job hopping is a concern for the organization. To mitigate this let us measure the job hopping index for the employee and take that in to the account before offering the job. Let us calculate the job hopping index using the below formula and incorporate in to the data set.<br>\n",
        "<font color = brown>job_hopping_index(jhi) = Total_Experience/number_of_companies_worked</font>\n",
        "\n",
        "__Days Offered__<br>\n",
        "<font color = brown>days_offeted = date_offered - date_1st_contact</font>"
      ]
    },
    {
      "cell_type": "code",
      "execution_count": null,
      "metadata": {
        "id": "ZYSgDWoZnw4h"
      },
      "outputs": [],
      "source": [
        "# Create job hopping index: jhi \n",
        "\n",
        "data_final[\"jhi\"] = data_final[\"total_experience\"]/data_final[\"no_companies_worked\"]"
      ]
    },
    {
      "cell_type": "code",
      "execution_count": null,
      "metadata": {
        "id": "1MTgYGG3nw4h"
      },
      "outputs": [],
      "source": [
        "# create days to offer: days_offered\n",
        "\n",
        "data_final[\"days_offered\"] = pd.to_datetime(data_final[\"date_offered\"],format='%m/%d/%Y') - pd.to_datetime(data_final[\"date_1st_contact\"],format='%m/%d/%Y')\n",
        "\n"
      ]
    },
    {
      "cell_type": "code",
      "execution_count": null,
      "metadata": {
        "id": "J3HaSAJlnw4h",
        "outputId": "5cf80084-881f-456a-e6b2-7020743a8348"
      },
      "outputs": [
        {
          "data": {
            "text/plain": [
              "0   155 days\n",
              "1   178 days\n",
              "2   157 days\n",
              "3   179 days\n",
              "4    27 days\n",
              "Name: days_offered, dtype: timedelta64[ns]"
            ]
          },
          "execution_count": 28,
          "metadata": {},
          "output_type": "execute_result"
        }
      ],
      "source": [
        "data_final[\"days_offered\"].head()"
      ]
    },
    {
      "cell_type": "markdown",
      "metadata": {
        "id": "B6GkdOztnw4i"
      },
      "source": [
        "Days offered column data type is given as time delta. we need to convert it to integer"
      ]
    },
    {
      "cell_type": "code",
      "execution_count": null,
      "metadata": {
        "id": "s595Da4Lnw4i"
      },
      "outputs": [],
      "source": [
        "data_final[\"days_offered\"] = np.int64(data_final[\"days_offered\"]/np.timedelta64(1,'D'))"
      ]
    },
    {
      "cell_type": "code",
      "execution_count": null,
      "metadata": {
        "id": "5_MD9XxNnw4i",
        "outputId": "a56ff838-3a75-475e-f64c-7d1d17f56e68"
      },
      "outputs": [
        {
          "data": {
            "text/plain": [
              "0    155\n",
              "1    178\n",
              "2    157\n",
              "3    179\n",
              "4     27\n",
              "Name: days_offered, dtype: int64"
            ]
          },
          "execution_count": 30,
          "metadata": {},
          "output_type": "execute_result"
        }
      ],
      "source": [
        "data_final[\"days_offered\"].head()"
      ]
    },
    {
      "cell_type": "markdown",
      "metadata": {
        "id": "fFsAzAAsnw4i"
      },
      "source": [
        "Before further Analysis lets drop all the unnecessary attributes from the data set. This will help in reducing the computational over head and time with huge data sets. This is very important part of engineering"
      ]
    },
    {
      "cell_type": "code",
      "execution_count": null,
      "metadata": {
        "id": "uh5k-671nw4i",
        "outputId": "b2706dfc-b986-4c75-f30f-9b8717496557"
      },
      "outputs": [
        {
          "data": {
            "text/plain": [
              "(1999, 17)"
            ]
          },
          "execution_count": 31,
          "metadata": {},
          "output_type": "execute_result"
        }
      ],
      "source": [
        "data.shape"
      ]
    },
    {
      "cell_type": "code",
      "execution_count": null,
      "metadata": {
        "id": "PFqqvMG6nw4i"
      },
      "outputs": [],
      "source": [
        "# Remove original variables for avoiding redundancy : \"date_1st_contact\", \"date_offered\", \"no_companies_worked\", \"total_experience\"  \n",
        "# Remove variables you think are not possible to collect : \"satisfaction_index\"\n",
        "data_final=data_final.loc[:,data_final.columns.difference([\"date_1st_contact\",\"date_offered\",\"no_companies_worked\",\"total_experience\",\"satisfaction_index\"])]\n",
        "\n",
        "\n"
      ]
    },
    {
      "cell_type": "code",
      "execution_count": null,
      "metadata": {
        "id": "aI9eFIxlnw4i",
        "outputId": "d30eba81-c7a9-4437-ebaa-e455a311f78d"
      },
      "outputs": [
        {
          "data": {
            "text/plain": [
              "(1999, 14)"
            ]
          },
          "execution_count": 33,
          "metadata": {},
          "output_type": "execute_result"
        }
      ],
      "source": [
        "\n",
        "data_final.shape"
      ]
    },
    {
      "cell_type": "code",
      "execution_count": null,
      "metadata": {
        "id": "1MawWM9Enw4j"
      },
      "outputs": [],
      "source": [
        "data = data_final.copy()"
      ]
    },
    {
      "cell_type": "markdown",
      "metadata": {
        "id": "o0TlyyLLnw4j"
      },
      "source": [
        "## <font color = green>Exploratory Data Analysis</font>"
      ]
    },
    {
      "cell_type": "markdown",
      "metadata": {
        "id": "JmSZe1B6nw4j"
      },
      "source": [
        "### <font color = blue>Univariate Analysis</font>\n",
        "\n",
        "Univariate analysis is perhaps the simplest form of statistical analysis. Like other forms of statistics, it can be inferential or descriptive. The key fact is that only one variable is involved.\n",
        "\n",
        "We will start with categorical variables"
      ]
    },
    {
      "cell_type": "markdown",
      "metadata": {
        "id": "3JNGPxLInw4j"
      },
      "source": [
        "#### <font color = brown> Marital Status - Visual approach </font>"
      ]
    },
    {
      "cell_type": "code",
      "execution_count": null,
      "metadata": {
        "id": "qHy7hefwnw4n",
        "outputId": "08b1a33f-5eed-4971-d349-a671ecac68a2"
      },
      "outputs": [
        {
          "data": {
            "image/png": "[encoded data removed]",
            "text/plain": [
              "<Figure size 720x360 with 1 Axes>"
            ]
          },
          "metadata": {},
          "output_type": "display_data"
        }
      ],
      "source": [
        "plt.figure(figsize = (10,5)) # Setting figure parameters \n",
        "sns.set(style=\"darkgrid\")\n",
        "sns.countplot(x='marital_status', data=data).set_title('marital_status') # Plot\n",
        "plt.xticks(rotation = 75) # Setting labels\n",
        "plt.show()"
      ]
    },
    {
      "cell_type": "markdown",
      "metadata": {
        "id": "IaTgjd0gnw4n"
      },
      "source": [
        "__Insight: The bar chart shows married candidates have highest frequency__"
      ]
    },
    {
      "cell_type": "markdown",
      "metadata": {
        "id": "S0ybyyp2nw4o"
      },
      "source": [
        "#### <font color = brown> Martial Status - Metric approach </font>"
      ]
    },
    {
      "cell_type": "code",
      "execution_count": null,
      "metadata": {
        "id": "XdU4FQFonw4o",
        "outputId": "8836fd71-3d4b-4d2c-a9a0-4bee1b171638"
      },
      "outputs": [
        {
          "name": "stdout",
          "output_type": "stream",
          "text": [
            "0.6948474237118559\n"
          ]
        }
      ],
      "source": [
        "martial_status_perc = len(data[data['marital_status'] == \"married\"])/len(data['marital_status'])\n",
        "print(martial_status_perc)\n"
      ]
    },
    {
      "cell_type": "markdown",
      "metadata": {
        "id": "oiyWQ468nw4o"
      },
      "source": [
        "__Insight: Married candidates have 69% of the total__"
      ]
    },
    {
      "cell_type": "markdown",
      "metadata": {
        "id": "n2xSqe29nw4o"
      },
      "source": [
        "#### <font color =brown> Age Distribution - Visual approach </font>"
      ]
    },
    {
      "cell_type": "code",
      "execution_count": null,
      "metadata": {
        "id": "KAVTl-9lnw4o",
        "outputId": "d4bbffe7-fe12-4ac0-e4b5-a8e08d64eeb6"
      },
      "outputs": [
        {
          "data": {
            "image/png": "[encoded data removed]",
            "text/plain": [
              "<Figure size 576x288 with 1 Axes>"
            ]
          },
          "metadata": {},
          "output_type": "display_data"
        }
      ],
      "source": [
        "plt.figure(figsize = (8,4))\n",
        "b = sns.distplot(data['age'],kde=False,bins = 5)\n",
        "b.set_title('Histogram of Age',fontsize = 16)\n",
        "b.set_xlabel(\"Age\",fontsize=14)\n",
        "plt.show()"
      ]
    },
    {
      "cell_type": "markdown",
      "metadata": {
        "id": "lBhTT3jgnw4o"
      },
      "source": [
        "__Insight: There is no significance change in the age groups__"
      ]
    },
    {
      "cell_type": "markdown",
      "metadata": {
        "id": "hoBrMWMjnw4p"
      },
      "source": [
        "#### <font color = brown>Job Hopping Index - Visual approach</font>"
      ]
    },
    {
      "cell_type": "code",
      "execution_count": null,
      "metadata": {
        "scrolled": true,
        "id": "-ZoB8NsAnw4p",
        "outputId": "57d33de2-eb4c-4acb-d5ba-4b5a8f6eb8af"
      },
      "outputs": [
        {
          "data": {
            "image/png": "[encoded data removed]",
            "text/plain": [
              "<Figure size 576x288 with 1 Axes>"
            ]
          },
          "metadata": {},
          "output_type": "display_data"
        }
      ],
      "source": [
        "plt.figure(figsize = (8,4))\n",
        "b = sns.distplot(data['jhi'],kde=False,bins=6)\n",
        "b.set_title('Histogram of job hopping index',fontsize = 16)\n",
        "b.set_xlabel(\"job hopping index\",fontsize=14)\n",
        "plt.show()"
      ]
    },
    {
      "cell_type": "markdown",
      "metadata": {
        "id": "dtw9ql1unw4p"
      },
      "source": [
        "__Insight: Maximum job hopping index ranges from 0.5 to 3__"
      ]
    },
    {
      "cell_type": "markdown",
      "metadata": {
        "id": "zz7kUUcMnw4p"
      },
      "source": [
        "#### <font color = brown>Job Hopping Index - Metric approach </font>"
      ]
    },
    {
      "cell_type": "code",
      "execution_count": null,
      "metadata": {
        "id": "scKF00rUnw4p",
        "outputId": "0f7c2987-f079-4c2a-d5e1-dd639114ae45"
      },
      "outputs": [
        {
          "data": {
            "text/plain": [
              "count    1999.000000\n",
              "mean        2.367537\n",
              "std         1.272728\n",
              "min         0.500000\n",
              "25%         1.400000\n",
              "50%         2.142857\n",
              "75%         3.000000\n",
              "max         7.333333\n",
              "Name: jhi, dtype: float64"
            ]
          },
          "execution_count": 47,
          "metadata": {},
          "output_type": "execute_result"
        }
      ],
      "source": [
        "data[\"jhi\"].describe()"
      ]
    },
    {
      "cell_type": "markdown",
      "metadata": {
        "id": "gVTnDeiVnw4p"
      },
      "source": [
        "__Insight: Higher job hoping index at 7.5 and lower at 0.5__"
      ]
    },
    {
      "cell_type": "markdown",
      "metadata": {
        "id": "FAzSro8mnw4p"
      },
      "source": [
        "#### <font color = brown> Days Offered - Visual approach</font>"
      ]
    },
    {
      "cell_type": "code",
      "execution_count": null,
      "metadata": {
        "id": "z95iRj6Nnw4p",
        "outputId": "901520ed-8b43-41e2-a867-46ff875a7a47"
      },
      "outputs": [
        {
          "data": {
            "text/plain": [
              "Index(['age', 'career_growth', 'days_offered', 'distance_from_home',\n",
              "       'education_level', 'flexi_work', 'gender', 'jhi', 'marital_status',\n",
              "       'offer_dropped', 'percent_hike', 'sourcing_channel',\n",
              "       'timely_communication', 'total_rounds'],\n",
              "      dtype='object')"
            ]
          },
          "execution_count": 48,
          "metadata": {},
          "output_type": "execute_result"
        }
      ],
      "source": [
        "data_final.columns"
      ]
    },
    {
      "cell_type": "code",
      "execution_count": null,
      "metadata": {
        "id": "kCF0ZaRynw4p",
        "outputId": "436fbcab-a4e9-46f5-cd48-dd023e72aa0a"
      },
      "outputs": [
        {
          "data": {
            "image/png": "[encoded data removed]",
            "text/plain": [
              "<Figure size 576x288 with 1 Axes>"
            ]
          },
          "metadata": {},
          "output_type": "display_data"
        }
      ],
      "source": [
        "plt.figure(figsize = (8,4))\n",
        "b = sns.distplot(data['days_offered'],kde = False)\n",
        "b.set_title('days_offered',fontsize = 16)\n",
        "b.set_xlabel(\"days_offered\",fontsize=14)\n",
        "plt.show()"
      ]
    },
    {
      "cell_type": "markdown",
      "metadata": {
        "id": "Oxt8SDRbnw4q"
      },
      "source": [
        "__Insight: Candidates were offered job as less as 1 day to maximum 180 days__"
      ]
    },
    {
      "cell_type": "markdown",
      "metadata": {
        "id": "PNkctblonw4q"
      },
      "source": [
        "#### <font color = brown> Days Offered - Metric approach</font>"
      ]
    },
    {
      "cell_type": "code",
      "execution_count": null,
      "metadata": {
        "id": "-1DIVl9Pnw4q",
        "outputId": "3c2b6631-93d2-4dd5-8f07-1a8d61378ba0"
      },
      "outputs": [
        {
          "name": "stdout",
          "output_type": "stream",
          "text": [
            "0.29164582291145574\n"
          ]
        }
      ],
      "source": [
        "days_offered_gt_120 = len(data[data['days_offered'] > 120])/len(data['days_offered'])\n",
        "print(days_offered_gt_120)"
      ]
    },
    {
      "cell_type": "markdown",
      "metadata": {
        "id": "fOvGKjE9nw4q"
      },
      "source": [
        "__Insight: Approx 30% of candidates were offered job after 120 days__"
      ]
    },
    {
      "cell_type": "markdown",
      "metadata": {
        "id": "ysQEFxiFnw4q"
      },
      "source": [
        "<font color = red> Activity for practice </font>"
      ]
    },
    {
      "cell_type": "code",
      "execution_count": null,
      "metadata": {
        "id": "lGhuwBgqnw4q",
        "outputId": "e4523fc3-f08c-4bb4-f704-68b26e05df0e"
      },
      "outputs": [
        {
          "data": {
            "text/plain": [
              "Index(['age', 'career_growth', 'days_offered', 'distance_from_home',\n",
              "       'education_level', 'flexi_work', 'gender', 'jhi', 'marital_status',\n",
              "       'offer_dropped', 'percent_hike', 'sourcing_channel',\n",
              "       'timely_communication', 'total_rounds'],\n",
              "      dtype='object')"
            ]
          },
          "execution_count": 51,
          "metadata": {},
          "output_type": "execute_result"
        }
      ],
      "source": [
        "\n",
        "## Analyse the distribution and patterns for the remaining variables\n",
        "data.columns"
      ]
    },
    {
      "cell_type": "markdown",
      "metadata": {
        "id": "dIgBwiXQnw4q"
      },
      "source": [
        "### <font color = blue>Bivariate Analysis</font>\n",
        "\n",
        "Bivariate Analysis is done between two variables. Nature of variables can be Categorical or Numerical;\n",
        "Different charts and statistics are used to understand the relationship between two variables such as:\n",
        "1. Numerical vs Numerical Variable\n",
        "   Visualisations : Correlation Plot, Scatter Plot, Line Chart, regression chart\n",
        "   Statistical Approach: correlation or covariance values, ANOVA method, Regression Analysis\n",
        "2. Categorical vs Categorical Variable\n",
        "   Visualisations : Bar Plot, Stacked Bar Chart, Grouped Bar Chart, Advanced Charts\n",
        "   Statistical Approach : Prop Table Analysis, Chi-Square Test of Independence\n",
        "3. Numerical vs Categorical Variable: \n",
        "   Visualisations : Box Plot with Categorical variable on x-axis, Advanced Charts\n",
        "   Statistical Approach : Two Sample T-Test\n",
        "   \n",
        "Bivariate Analysis can be done between any two independent variables; \n",
        "However, analysis of independent variable w.r.t dependent variable (target) is very important\n",
        "     "
      ]
    },
    {
      "cell_type": "code",
      "execution_count": null,
      "metadata": {
        "id": "3xwE76Zonw4r",
        "outputId": "079c4e1d-716a-4f35-c280-afc94a24f5bc"
      },
      "outputs": [
        {
          "data": {
            "text/plain": [
              "age                      float64\n",
              "career_growth           category\n",
              "days_offered               int64\n",
              "distance_from_home      category\n",
              "flexi_work              category\n",
              "jhi                      float64\n",
              "offer_dropped           category\n",
              "percent_hike             float64\n",
              "sourcing_channel        category\n",
              "timely_communication    category\n",
              "total_rounds             float64\n",
              "dtype: object"
            ]
          },
          "execution_count": 129,
          "metadata": {},
          "output_type": "execute_result"
        }
      ],
      "source": [
        "data.dtypes"
      ]
    },
    {
      "cell_type": "markdown",
      "metadata": {
        "id": "8Js99jLHnw4r"
      },
      "source": [
        "#### <font color = brown>Numeric to Numeric Variables Relationship Analysis</font>\n",
        "\n",
        "Let us examine if any 2 pieces of data for an employee have a relation. There are 17 attributes how to know if there is a relation between 2 variables. The best way to know about this is by calculating the correlation between all the pairs of numerical data.<br>\n",
        "This is called __CORRELATION ANALYSIS__\n",
        "<br><br>\n",
        "The best way to do the correlation analysis is by plotting them."
      ]
    },
    {
      "cell_type": "code",
      "execution_count": null,
      "metadata": {
        "id": "ykpzAGsVnw4r",
        "outputId": "659e952d-4562-43f0-b9f8-15ccbbeae59e"
      },
      "outputs": [
        {
          "data": {
            "text/plain": [
              "<matplotlib.axes._subplots.AxesSubplot at 0x120790ba8>"
            ]
          },
          "execution_count": 53,
          "metadata": {},
          "output_type": "execute_result"
        },
        {
          "data": {
            "image/png": "[encoded data removed]",
            "text/plain": [
              "<Figure size 432x432 with 2 Axes>"
            ]
          },
          "metadata": {},
          "output_type": "display_data"
        }
      ],
      "source": [
        "f, ax = plt.subplots(figsize=(6, 6))\n",
        "corr = data.corr(method='pearson')\n",
        "sns.heatmap(corr,square=True, ax=ax,annot=True,fmt=\".1f\")\n"
      ]
    },
    {
      "cell_type": "markdown",
      "metadata": {
        "id": "L4MDPLPwnw4r"
      },
      "source": [
        "__(days_offered,percent_hike), (age,jhi) are correlated above 0.60__"
      ]
    },
    {
      "cell_type": "markdown",
      "metadata": {
        "id": "r9AsQGEXnw4r"
      },
      "source": [
        "It is good idea to see the relation between the following attributes\n",
        "- days_offered vs sourcing_channel\n",
        "- education level vs job hopping index\n",
        "\n",
        "<br>\n",
        "If you observe in the above 2 cases one variable is numerical variable and the other one is categorical variable.\n",
        "\n",
        "So this is __Numerical variable relationship w.r.t Category__\n",
        "<br> Let us see how to plot them."
      ]
    },
    {
      "cell_type": "markdown",
      "metadata": {
        "id": "AXnQkf8Onw4r"
      },
      "source": [
        "#### <font color = brown>days_offered vs sourcing_channel</font>"
      ]
    },
    {
      "cell_type": "code",
      "execution_count": null,
      "metadata": {
        "id": "l06Dy4KGnw4r",
        "outputId": "82129fd7-436b-4ee2-90e1-acfe0d813158"
      },
      "outputs": [
        {
          "data": {
            "image/png": "[encoded data removed]",
            "text/plain": [
              "<Figure size 576x288 with 1 Axes>"
            ]
          },
          "metadata": {},
          "output_type": "display_data"
        }
      ],
      "source": [
        "plt.figure(figsize = (8,4))\n",
        "\n",
        "g = sns.boxplot(x=\"sourcing_channel\",y=\"days_offered\", data=data)\n",
        "\n",
        "plt.title('sourcing_channel and days_offered',fontsize = 16)\n",
        "plt.ylim ([0,200])\n",
        "\n",
        "plt.ylabel(\"days_offered\",fontsize=12)\n",
        "plt.xlabel(\"sourcing_channel\",fontsize=12)\n",
        "plt.show()"
      ]
    },
    {
      "cell_type": "markdown",
      "metadata": {
        "id": "9nsHlsMAnw4s"
      },
      "source": [
        "#### <font color=brown>education level vs job hopping index</font>"
      ]
    },
    {
      "cell_type": "code",
      "execution_count": null,
      "metadata": {
        "id": "-4Ta_g-nnw4s",
        "outputId": "b6dbe255-fb36-4fc8-a28c-1bbf2a060f5e"
      },
      "outputs": [
        {
          "data": {
            "text/plain": [
              "Index(['age', 'career_growth', 'days_offered', 'distance_from_home',\n",
              "       'education_level', 'flexi_work', 'gender', 'jhi', 'marital_status',\n",
              "       'offer_dropped', 'percent_hike', 'sourcing_channel',\n",
              "       'timely_communication', 'total_rounds'],\n",
              "      dtype='object')"
            ]
          },
          "execution_count": 55,
          "metadata": {},
          "output_type": "execute_result"
        }
      ],
      "source": [
        "data.columns"
      ]
    },
    {
      "cell_type": "code",
      "execution_count": null,
      "metadata": {
        "scrolled": true,
        "id": "MU2pqALgnw4s",
        "outputId": "42ab034d-7530-46c0-8b6c-2809ea222b75"
      },
      "outputs": [
        {
          "data": {
            "image/png": "[encoded data removed]",
            "text/plain": [
              "<Figure size 576x288 with 1 Axes>"
            ]
          },
          "metadata": {},
          "output_type": "display_data"
        }
      ],
      "source": [
        "plt.figure(figsize = (8,4))\n",
        "\n",
        "g = sns.boxplot(x=\"education_level\",y=\"jhi\", data=data_final)\n",
        "\n",
        "plt.title('education_level and jhi',fontsize = 16)\n",
        "plt.ylim ([0,10])\n",
        "\n",
        "plt.ylabel(\"jhi\",fontsize=12)\n",
        "plt.xlabel(\"education_level\",fontsize=12)\n",
        "plt.show()"
      ]
    },
    {
      "cell_type": "markdown",
      "metadata": {
        "id": "Yx9Ggk29nw4s"
      },
      "source": [
        "### <font color = blue>Exploratory Data Analysis w.r.t Target Variable \"offer_dropped\"</font>\n",
        "\n",
        "Here we are trying to understand why employees are dropping the offer. So the target variable is offer_dropped.\n",
        "It is good thing to understand the relationship between different variables versus the target variable."
      ]
    },
    {
      "cell_type": "markdown",
      "metadata": {
        "id": "WIhbl97Anw4s"
      },
      "source": [
        "#### <font color= brown>Category vs Category Variable Analysis</font>\n",
        "#### <font color = brown>sourcing_channel vs offer_dropped</font>"
      ]
    },
    {
      "cell_type": "code",
      "execution_count": null,
      "metadata": {
        "id": "SnRjWNJDnw4s",
        "outputId": "d32354fd-a7fd-4cc9-9cec-d767bae756ba"
      },
      "outputs": [
        {
          "data": {
            "text/html": [
              "<div>\n",
              "<style scoped>\n",
              "    .dataframe tbody tr th:only-of-type {\n",
              "        vertical-align: middle;\n",
              "    }\n",
              "\n",
              "    .dataframe tbody tr th {\n",
              "        vertical-align: top;\n",
              "    }\n",
              "\n",
              "    .dataframe thead th {\n",
              "        text-align: right;\n",
              "    }\n",
              "</style>\n",
              "<table border=\"1\" class=\"dataframe\">\n",
              "  <thead>\n",
              "    <tr style=\"text-align: right;\">\n",
              "      <th>offer_dropped</th>\n",
              "      <th>No</th>\n",
              "      <th>Yes</th>\n",
              "    </tr>\n",
              "    <tr>\n",
              "      <th>sourcing_channel</th>\n",
              "      <th></th>\n",
              "      <th></th>\n",
              "    </tr>\n",
              "  </thead>\n",
              "  <tbody>\n",
              "    <tr>\n",
              "      <th>Company Website</th>\n",
              "      <td>204</td>\n",
              "      <td>149</td>\n",
              "    </tr>\n",
              "    <tr>\n",
              "      <th>Consultants</th>\n",
              "      <td>194</td>\n",
              "      <td>264</td>\n",
              "    </tr>\n",
              "    <tr>\n",
              "      <th>Internal Referrals</th>\n",
              "      <td>85</td>\n",
              "      <td>196</td>\n",
              "    </tr>\n",
              "    <tr>\n",
              "      <th>Job Portals</th>\n",
              "      <td>284</td>\n",
              "      <td>203</td>\n",
              "    </tr>\n",
              "    <tr>\n",
              "      <th>Social Media</th>\n",
              "      <td>208</td>\n",
              "      <td>212</td>\n",
              "    </tr>\n",
              "  </tbody>\n",
              "</table>\n",
              "</div>"
            ],
            "text/plain": [
              "offer_dropped        No  Yes\n",
              "sourcing_channel            \n",
              "Company Website     204  149\n",
              "Consultants         194  264\n",
              "Internal Referrals   85  196\n",
              "Job Portals         284  203\n",
              "Social Media        208  212"
            ]
          },
          "execution_count": 57,
          "metadata": {},
          "output_type": "execute_result"
        }
      ],
      "source": [
        "ct = pd.crosstab(data['sourcing_channel'], data['offer_dropped'])\n",
        "ct"
      ]
    },
    {
      "cell_type": "code",
      "execution_count": null,
      "metadata": {
        "id": "ac8mr47Knw4s",
        "outputId": "cdc0e8d4-75ff-4494-d392-9c3c353735b4"
      },
      "outputs": [
        {
          "data": {
            "image/png": "[encoded data removed]",
            "text/plain": [
              "<Figure size 576x288 with 1 Axes>"
            ]
          },
          "metadata": {},
          "output_type": "display_data"
        }
      ],
      "source": [
        "ct = pd.crosstab(data['sourcing_channel'], data['offer_dropped'])\n",
        "ct.plot.bar(stacked=True,figsize = (8,4))\n",
        "\n",
        "plt.title('sourcing_channel and offer_dropped',fontsize = 14)\n",
        "plt.xlabel('sourcing_channel',fontsize = 12)\n",
        "plt.ylabel('offer_dropped',fontsize = 12)\n",
        "\n",
        "plt.legend(title='offer_dropped')\n",
        "plt.ylim(0,max(sum(ct.values)))\n",
        "plt.show()"
      ]
    },
    {
      "cell_type": "markdown",
      "metadata": {
        "id": "JTmf2t1snw4t"
      },
      "source": [
        "Lets understand how different variables are stacked against the target variable Offer dropped.\n",
        "To do this lets plot number of employees who has dropped the offer vs accepted the offer. We plot this with respect to each variable"
      ]
    },
    {
      "cell_type": "markdown",
      "metadata": {
        "id": "N-GLAtaanw4t"
      },
      "source": [
        "#### <font color = brown>Grouped Bar plot with table proportions </font>"
      ]
    },
    {
      "cell_type": "code",
      "execution_count": null,
      "metadata": {
        "id": "-O4fdZ22nw4t",
        "outputId": "9a4a8b78-df1e-4980-cadc-178a98751838"
      },
      "outputs": [
        {
          "data": {
            "text/plain": [
              "<matplotlib.axes._subplots.AxesSubplot at 0x122a4e550>"
            ]
          },
          "execution_count": 59,
          "metadata": {},
          "output_type": "execute_result"
        },
        {
          "data": {
            "image/png": "[encoded data removed]",
            "text/plain": [
              "<Figure size 576x252 with 1 Axes>"
            ]
          },
          "metadata": {},
          "output_type": "display_data"
        }
      ],
      "source": [
        "plt.rcParams[\"figure.figsize\"] = (8,3.5)\n",
        "y='prop'\n",
        "prop_data = (data['offer_dropped']\n",
        "           .groupby(data['sourcing_channel'])\n",
        "           .value_counts(normalize=True)\n",
        "           .rename(y)\n",
        "           .reset_index())\n",
        "sns.barplot(x=\"sourcing_channel\", y=\"prop\", hue=\"offer_dropped\", data=prop_data)"
      ]
    },
    {
      "cell_type": "code",
      "execution_count": null,
      "metadata": {
        "id": "YlgM2Maznw4t",
        "outputId": "100a3c92-208c-4520-fd76-79a11850c64a"
      },
      "outputs": [
        {
          "name": "stdout",
          "output_type": "stream",
          "text": [
            "     sourcing_channel offer_dropped      prop\n",
            "0     Company Website            No  0.577904\n",
            "1     Company Website           Yes  0.422096\n",
            "2         Consultants           Yes  0.576419\n",
            "3         Consultants            No  0.423581\n",
            "4  Internal Referrals           Yes  0.697509\n",
            "5  Internal Referrals            No  0.302491\n",
            "6         Job Portals            No  0.583162\n",
            "7         Job Portals           Yes  0.416838\n",
            "8        Social Media           Yes  0.504762\n",
            "9        Social Media            No  0.495238\n"
          ]
        }
      ],
      "source": [
        "print(prop_data)"
      ]
    },
    {
      "cell_type": "markdown",
      "metadata": {
        "id": "Eutgc3cknw4t"
      },
      "source": [
        "## <font color=green>Statistical Approach</font>\n",
        "### <font color = blue> Chi-Square Test </font>"
      ]
    },
    {
      "cell_type": "markdown",
      "metadata": {
        "id": "lwV8HGO3nw4t"
      },
      "source": [
        "Earlier we plotted the numbers between sourcing channel and the offer dropped.<br>\n",
        "<font color = red>Do we think that there is really a relationship between these 2 variables?\n",
        "<br>\n",
        "If yes is there any statistical approach to do the same??</font>"
      ]
    },
    {
      "cell_type": "markdown",
      "metadata": {
        "id": "zBcIckjcnw4t"
      },
      "source": [
        "### <font color = blue>Hypothesis Testing - Categorical Variables</font>\n",
        "\n",
        "\n",
        "The __chi-square__ test of independence is used to determine if there is a significant relationship between two \n",
        "nominal (categorical) variables.\n",
        "The __null hypothesis__ for this test is that there is no relationship between the variables and the __alternate hypothesis__ that there is a relationship\n",
        "\n",
        "#### <font color = brown>Test 1</font>\n",
        "Test whether there is a significant relationship between sourcing_channel dropping offer_dropped\n",
        "\n",
        "#### <font color = brown>Hypothesis Statement</font>\n",
        "H0: The two variables (sourcing_channel and offer_dropped) are independent\n",
        "\n",
        "H1: The two variables relate to each other\n",
        "\n",
        "In this test, we have to check the p-values. we reject the null hypothesis if the p-value that\n",
        "comes out in the result is less than a predetermined significance level, which is usually 0.05"
      ]
    },
    {
      "cell_type": "markdown",
      "metadata": {
        "id": "9O5Nl756nw4t"
      },
      "source": [
        "#### <font color = brown>Chi Square Analysis for \"Test of Independence\" </font>"
      ]
    },
    {
      "cell_type": "code",
      "execution_count": null,
      "metadata": {
        "id": "yPEsnlYvnw4t",
        "outputId": "9df31c7b-f45d-4669-a75a-74ba9356e963"
      },
      "outputs": [
        {
          "name": "stdout",
          "output_type": "stream",
          "text": [
            "===Chi2 Stat===\n",
            "75.4696901092181\n",
            "===Degrees of Freedom===\n",
            "4\n",
            "===P-Value===\n",
            "1.5851371352330645e-15\n",
            "===Contingency Table===\n",
            "[[172.17358679 180.82641321]\n",
            " [223.38669335 234.61330665]\n",
            " [137.05602801 143.94397199]\n",
            " [237.53126563 249.46873437]\n",
            " [204.85242621 215.14757379]]\n"
          ]
        }
      ],
      "source": [
        "from scipy import stats\n",
        "ct = pd.crosstab(data[\"sourcing_channel\"],data[\"offer_dropped\"])\n",
        "chi2_stat, p_val, dof, ex = stats.chi2_contingency(ct)\n",
        "\n",
        "print(\"===Chi2 Stat===\")\n",
        "print(chi2_stat)\n",
        "print(\"===Degrees of Freedom===\")\n",
        "print(dof)\n",
        "print(\"===P-Value===\")\n",
        "print(p_val)\n",
        "print(\"===Contingency Table===\")\n",
        "print(ex)"
      ]
    },
    {
      "cell_type": "markdown",
      "metadata": {
        "id": "5ULbdj-_nw4u"
      },
      "source": [
        "__Insight: sourcing_channel is very significant variable__"
      ]
    },
    {
      "cell_type": "code",
      "execution_count": null,
      "metadata": {
        "id": "qWivYiqpnw4u",
        "outputId": "2fd085f3-a9f5-4d1b-9435-01b2e410bdcb"
      },
      "outputs": [
        {
          "data": {
            "text/plain": [
              "Index(['age', 'career_growth', 'days_offered', 'distance_from_home',\n",
              "       'education_level', 'flexi_work', 'gender', 'jhi', 'marital_status',\n",
              "       'offer_dropped', 'percent_hike', 'sourcing_channel',\n",
              "       'timely_communication', 'total_rounds'],\n",
              "      dtype='object')"
            ]
          },
          "execution_count": 62,
          "metadata": {},
          "output_type": "execute_result"
        }
      ],
      "source": [
        "data.columns"
      ]
    },
    {
      "cell_type": "code",
      "execution_count": null,
      "metadata": {
        "id": "FPrJRPGunw4u",
        "outputId": "e67fa339-bc9d-4221-934f-2618b999bd4a"
      },
      "outputs": [
        {
          "data": {
            "text/plain": [
              "(158.41178842879063,\n",
              " 2.51572950763228e-36,\n",
              " 1,\n",
              " array([[627.23861931, 658.76138069],\n",
              "        [347.76138069, 365.23861931]]))"
            ]
          },
          "execution_count": 63,
          "metadata": {},
          "output_type": "execute_result"
        }
      ],
      "source": [
        "ct = pd.crosstab(data[\"career_growth\"],data[\"offer_dropped\"])\n",
        "stats.chi2_contingency(ct)"
      ]
    },
    {
      "cell_type": "markdown",
      "metadata": {
        "id": "9KkTfmgwnw4u"
      },
      "source": [
        "<font color= red> Activity </font>\n",
        "\n",
        "Check the significance of all the categorical variables\n",
        "\n",
        "Other Significant Category Variables<br>\n",
        "distance_from_home,flexi_work,timely_communication,sourcing_channel,career_growth\n",
        "\n"
      ]
    },
    {
      "cell_type": "markdown",
      "metadata": {
        "id": "oznxZSDQnw4v"
      },
      "source": [
        "### <font color = blue> Numerical vs Categorical Variable Analysis </font>\n",
        "\n",
        "Let us examine whether Age has any influence on offer dropped. We will do the following\n",
        "- Plot between Age and Offer dropped variables\n",
        "- Perform a 2 sample t test on Age and Offer dropped columns"
      ]
    },
    {
      "cell_type": "code",
      "execution_count": null,
      "metadata": {
        "id": "TsWNIcRUnw4v"
      },
      "outputs": [],
      "source": [
        "## TotalWorkingYears vs Attrition Analysis"
      ]
    },
    {
      "cell_type": "code",
      "execution_count": null,
      "metadata": {
        "id": "QY-Jjtfgnw4v",
        "outputId": "1977202e-585d-4404-e01b-f14b3452c51c"
      },
      "outputs": [
        {
          "data": {
            "text/plain": [
              "age                     float64\n",
              "career_growth            object\n",
              "days_offered              int64\n",
              "distance_from_home       object\n",
              "education_level          object\n",
              "flexi_work               object\n",
              "gender                   object\n",
              "jhi                     float64\n",
              "marital_status           object\n",
              "offer_dropped            object\n",
              "percent_hike            float64\n",
              "sourcing_channel         object\n",
              "timely_communication     object\n",
              "total_rounds            float64\n",
              "dtype: object"
            ]
          },
          "execution_count": 65,
          "metadata": {},
          "output_type": "execute_result"
        }
      ],
      "source": [
        "data.dtypes"
      ]
    },
    {
      "cell_type": "markdown",
      "metadata": {
        "id": "UCK-C5fknw4v"
      },
      "source": [
        "#### <font color =brown> Age vs Renege </font>"
      ]
    },
    {
      "cell_type": "code",
      "execution_count": null,
      "metadata": {
        "id": "PnBMg0VXnw4v",
        "outputId": "407fddfe-b5e5-4925-9224-fefd8a795335"
      },
      "outputs": [
        {
          "data": {
            "image/png": "[encoded data removed]",
            "text/plain": [
              "<Figure size 576x288 with 1 Axes>"
            ]
          },
          "metadata": {},
          "output_type": "display_data"
        }
      ],
      "source": [
        "plt.figure(figsize = (8,4))\n",
        "g = sns.boxplot(x=\"offer_dropped\",y=\"age\", data=data)\n",
        "plt.title('Age and Renege',fontsize = 16)#plt.title('Job Level and Attrition rate',fontsize = 16)\n",
        "plt.ylim ([15,65])\n",
        "plt.ylabel(\"Age\",fontsize=12)\n",
        "#plt.xticks([0,1,2,3,4],['Low','Medium','High','Very High','Executive'])\n",
        "plt.xlabel(\"Offer Dropped\",fontsize=12)#plt.xlabel(\"JobLevel\",fontsize=12)\n",
        "plt.show()"
      ]
    },
    {
      "cell_type": "markdown",
      "metadata": {
        "id": "lUuIG__Snw4v"
      },
      "source": [
        "__Insight: Age does not seem to be a reason of offer drop__"
      ]
    },
    {
      "cell_type": "markdown",
      "metadata": {
        "id": "UH5W_MO5nw4v"
      },
      "source": [
        "#### <font color = brown> Statistical Approach: two sample t-test </font>"
      ]
    },
    {
      "cell_type": "code",
      "execution_count": null,
      "metadata": {
        "id": "FYAqmsYJnw4v",
        "outputId": "e22c2236-25d5-42e7-8829-4f57b890796e"
      },
      "outputs": [
        {
          "data": {
            "text/plain": [
              "Ttest_indResult(statistic=-2.867305108363797, pvalue=0.004183251918114724)"
            ]
          },
          "execution_count": 67,
          "metadata": {},
          "output_type": "execute_result"
        }
      ],
      "source": [
        "from scipy import stats\n",
        "stats.ttest_ind(data.loc[data[\"offer_dropped\"] == 'Yes',\"age\"],data.loc[data[\"offer_dropped\"] == 'No', \"age\"])"
      ]
    },
    {
      "cell_type": "markdown",
      "metadata": {
        "id": "mwgdsIwunw4w"
      },
      "source": [
        "__Insight: \"age\" is not very significant variable w.r.t target__"
      ]
    },
    {
      "cell_type": "markdown",
      "metadata": {
        "id": "1c7C5hN-nw4w"
      },
      "source": [
        "Similarly let's see if days_offered has an effect on offer_dropped"
      ]
    },
    {
      "cell_type": "code",
      "execution_count": null,
      "metadata": {
        "id": "sFIPRsNwnw4w",
        "outputId": "201f01f0-5e88-4afa-8633-41780d86036c"
      },
      "outputs": [
        {
          "data": {
            "image/png": "[encoded data removed]",
            "text/plain": [
              "<Figure size 576x288 with 1 Axes>"
            ]
          },
          "metadata": {},
          "output_type": "display_data"
        }
      ],
      "source": [
        "plt.figure(figsize = (8,4))\n",
        "g = sns.boxplot(x=\"offer_dropped\",y=\"days_offered\", data=data_final)\n",
        "plt.title('days_offered and offer_dropped',fontsize = 16)\n",
        "plt.ylim ([0,200])\n",
        "plt.ylabel(\"days_offered\",fontsize=12)\n",
        "plt.xlabel(\"offer_dropped\",fontsize=12)\n",
        "plt.show()\n"
      ]
    },
    {
      "cell_type": "markdown",
      "metadata": {
        "id": "ybTAfPjRnw4w"
      },
      "source": [
        "__Insight: This calls for interview process optimization as delayed process may lead candidates to apply for jobs elsewhere due to lack of clarity__\n",
        "\n"
      ]
    },
    {
      "cell_type": "markdown",
      "metadata": {
        "id": "4gzvzo18nw4w"
      },
      "source": [
        "#### <font color = brown>Statistical Approach: 2 sample t test </font>"
      ]
    },
    {
      "cell_type": "code",
      "execution_count": null,
      "metadata": {
        "id": "IhnwnX1snw4w",
        "outputId": "7fc9fc30-4836-4044-bc02-6381689d5c23"
      },
      "outputs": [
        {
          "data": {
            "text/plain": [
              "Ttest_indResult(statistic=9.863591428137518, pvalue=1.931849482631004e-22)"
            ]
          },
          "execution_count": 69,
          "metadata": {},
          "output_type": "execute_result"
        }
      ],
      "source": [
        "from scipy import stats\n",
        "stats.ttest_ind(data.loc[data[\"offer_dropped\"] == 'Yes',\"days_offered\"],data.loc[data[\"offer_dropped\"] == 'No', \"days_offered\"])"
      ]
    },
    {
      "cell_type": "markdown",
      "metadata": {
        "id": "J2qMFQWlnw4w"
      },
      "source": [
        "__Insight: \"days_offered\" is very significant variable w.r.t target__"
      ]
    },
    {
      "cell_type": "code",
      "execution_count": null,
      "metadata": {
        "id": "0cNEcDlGnw4w",
        "outputId": "da5f1404-78aa-4c0a-bc4e-9bd0c21d2f6d"
      },
      "outputs": [
        {
          "data": {
            "text/plain": [
              "Index(['age', 'career_growth', 'days_offered', 'distance_from_home',\n",
              "       'education_level', 'flexi_work', 'gender', 'jhi', 'marital_status',\n",
              "       'offer_dropped', 'percent_hike', 'sourcing_channel',\n",
              "       'timely_communication', 'total_rounds'],\n",
              "      dtype='object')"
            ]
          },
          "execution_count": 70,
          "metadata": {},
          "output_type": "execute_result"
        }
      ],
      "source": [
        "data.columns"
      ]
    },
    {
      "cell_type": "code",
      "execution_count": null,
      "metadata": {
        "id": "haERj3Urnw4w"
      },
      "outputs": [],
      "source": [
        "#Other Significant Numerical Variables\n",
        "#jhi,percent_hike,total_rounds"
      ]
    },
    {
      "cell_type": "markdown",
      "metadata": {
        "id": "vbCopswLnw4x"
      },
      "source": [
        "# <font color = coral><center> Thank You</center> </font>"
      ]
    },
    {
      "cell_type": "code",
      "execution_count": null,
      "metadata": {
        "id": "3GogAJPPnw4x"
      },
      "outputs": [],
      "source": []
    }
  ],
  "metadata": {
    "celltoolbar": "Slideshow",
    "kernelspec": {
      "display_name": "Python 3",
      "language": "python",
      "name": "python3"
    },
    "language_info": {
      "codemirror_mode": {
        "name": "ipython",
        "version": 3
      },
      "file_extension": ".py",
      "mimetype": "text/x-python",
      "name": "python",
      "nbconvert_exporter": "python",
      "pygments_lexer": "ipython3",
      "version": "3.7.6"
    },
    "colab": {
      "provenance": [],
      "include_colab_link": true
    }
  },
  "nbformat": 4,
  "nbformat_minor": 0
}